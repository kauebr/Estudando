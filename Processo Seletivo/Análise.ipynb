{
 "cells": [
  {
   "attachments": {},
   "cell_type": "markdown",
   "metadata": {},
   "source": [
    "<img src=\"https://i.ibb.co/K5n24Nd/1.png\"  alt=\"KCode Banner\"  />\n",
    "\n",
    "<a href=\"https://www.linkedin.com/in/kauebr/\"><img src=\"https://cdn-icons-png.flaticon.com/512/174/174857.png\" width=\"30\" ></a> <a href=\"mailto: kauemandarino@gmail.com\"><img src=\"https://cdn-icons-png.flaticon.com/512/5968/5968534.png\" width=\"30\" ></a><a href=\"\n",
    "https://api.whatsapp.com/send?phone=5541991835800&text=Oi\"> <img src=\"https://imagepng.org/wp-content/uploads/2017/08/whatsapp-icone-1.png\" width=\"30\" ></a><a href=\"https://github.com/kauebr/\"><img src=\"https://github.githubassets.com/images/modules/logos_page/Octocat.png\" width=\"30\" ></a>\n",
    "\n"
   ]
  },
  {
   "attachments": {},
   "cell_type": "markdown",
   "metadata": {},
   "source": [
    "# Prova de conhecimentos, Cientista de Dados Junior\n",
    "<img src=\"https://media-exp1.licdn.com/dms/image/C4D0BAQH1wOIHXfQBfw/company-logo_200_200/0/1635965593825?e=2147483647&v=beta&t=TyfxHrgFk4J5iUpdfnRsvEwxLekHz4ADGIn0iTWS2dU\"  alt=\"Banner da Empresa\"  /> \n",
    "\n",
    "Segundo o [site da empresa]('https://www.bixtecnologia.com.br/carreiras/')  a BIX Tecnologia é uma consultoria de dados sediada em Florianópolis com atuação em todo o Brasil.\n",
    "\n",
    "\n",
    "\n",
    "\n",
    "## Objetivo:\n",
    "* Demonstrar meus conhecimentos em ciência de dados, através da simulação de análise de dados. \n",
    "\n",
    "\n",
    "## Pontos Importantes\n",
    "* Só existe uma resposta correta para cada uma das perguntas\n",
    "\n",
    "## O que esta sendo avaliado:\n",
    "\n",
    "- Conceitos de Data Science (DS) e Machine Learning (ML);\n",
    "\n",
    "- Manipulação de dados;\n",
    "\n",
    "- Estatística básica;\n",
    "\n",
    "- Criação e avaliação de gráficos;\n",
    "\n",
    "- Entendimento de negócio."
   ]
  },
  {
   "cell_type": "code",
   "execution_count": 1,
   "metadata": {},
   "outputs": [],
   "source": [
    "# Importando bibliotecas pertinentes\n",
    "import pandas as pd\n",
    "import matplotlib.pyplot as plt\n",
    "import numpy as np"
   ]
  },
  {
   "attachments": {},
   "cell_type": "markdown",
   "metadata": {},
   "source": [
    "# Criando nosso conjunto de dados"
   ]
  },
  {
   "attachments": {},
   "cell_type": "markdown",
   "metadata": {},
   "source": [
    "O [dataframe]('https://docs.google.com/spreadsheets/d/1Sc6hN48b-lWbDdYNd_t9j8Bt0EZ8BUNG/edit#gid=786849803') apresentado pela Bix, foi previamente limpo no Excel, e dividido em em 4 sub-arquivos .csv, vamos importá-los a seguir."
   ]
  },
  {
   "cell_type": "code",
   "execution_count": 2,
   "metadata": {},
   "outputs": [],
   "source": [
    "vendas = pd.read_csv('C:/Users/manda/OneDrive/Documents/GitHub/Estudando/Processo Seletivo/Dados em csv/Dados de Vendas.csv',encoding='latin1')\n",
    "consumidores = pd.read_csv('C:/Users/manda/OneDrive/Documents/GitHub/Estudando/Processo Seletivo/Dados em csv/Dados de Consumidores.csv',encoding='latin1')\n",
    "lojas = pd.read_csv('C:/Users/manda/OneDrive/Documents/GitHub/Estudando/Processo Seletivo/Dados em csv/Dados de Lojas.csv',encoding='latin1')\n",
    "produtos = pd.read_csv('C:/Users/manda/OneDrive/Documents/GitHub/Estudando/Processo Seletivo/Dados em csv/Dados de Produtos.csv',encoding='latin1')\n",
    "\n",
    "# Criando um dicionário para abrigar nosso conjunto de dados\n",
    "dados = {'vendas': vendas, 'consumidores' : consumidores, 'lojas': lojas, 'produtos': produtos}"
   ]
  },
  {
   "attachments": {},
   "cell_type": "markdown",
   "metadata": {},
   "source": [
    "> Os agora dados estão armezenados em um dicionário nomeado \"dados\""
   ]
  },
  {
   "attachments": {},
   "cell_type": "markdown",
   "metadata": {},
   "source": [
    "## Validação\n",
    "> Vou chamar o conjunto de dados referente aos produtos para verificar se tudo ocorreu da forma correta"
   ]
  },
  {
   "cell_type": "code",
   "execution_count": 3,
   "metadata": {},
   "outputs": [
    {
     "data": {
      "text/html": [
       "<div>\n",
       "<style scoped>\n",
       "    .dataframe tbody tr th:only-of-type {\n",
       "        vertical-align: middle;\n",
       "    }\n",
       "\n",
       "    .dataframe tbody tr th {\n",
       "        vertical-align: top;\n",
       "    }\n",
       "\n",
       "    .dataframe thead th {\n",
       "        text-align: right;\n",
       "    }\n",
       "</style>\n",
       "<table border=\"1\" class=\"dataframe\">\n",
       "  <thead>\n",
       "    <tr style=\"text-align: right;\">\n",
       "      <th></th>\n",
       "      <th>ID</th>\n",
       "      <th>Name</th>\n",
       "      <th>Size</th>\n",
       "    </tr>\n",
       "  </thead>\n",
       "  <tbody>\n",
       "    <tr>\n",
       "      <th>0</th>\n",
       "      <td>00066f42aeeb9f3007548bb9d3f33c381</td>\n",
       "      <td>Capitão América</td>\n",
       "      <td>P</td>\n",
       "    </tr>\n",
       "    <tr>\n",
       "      <th>1</th>\n",
       "      <td>00066f42aeeb9f3007548bb9d3f33c382</td>\n",
       "      <td>Capitão América</td>\n",
       "      <td>M</td>\n",
       "    </tr>\n",
       "    <tr>\n",
       "      <th>2</th>\n",
       "      <td>00066f42aeeb9f3007548bb9d3f33c383</td>\n",
       "      <td>Capitão América</td>\n",
       "      <td>G</td>\n",
       "    </tr>\n",
       "  </tbody>\n",
       "</table>\n",
       "</div>"
      ],
      "text/plain": [
       "                                  ID             Name Size\n",
       "0  00066f42aeeb9f3007548bb9d3f33c381  Capitão América    P\n",
       "1  00066f42aeeb9f3007548bb9d3f33c382  Capitão América    M\n",
       "2  00066f42aeeb9f3007548bb9d3f33c383  Capitão América    G"
      ]
     },
     "execution_count": 3,
     "metadata": {},
     "output_type": "execute_result"
    }
   ],
   "source": [
    "dados['produtos'].head(3)"
   ]
  },
  {
   "attachments": {},
   "cell_type": "markdown",
   "metadata": {},
   "source": [
    "> Etapa de carregamento dos dados terminada com sucesso\n",
    "_____________________________________________________________________________________________________________________________________________________________________________"
   ]
  },
  {
   "attachments": {},
   "cell_type": "markdown",
   "metadata": {},
   "source": [
    "# Apanhado Geral\n",
    ">Como o questionário a ser respondido, provavelmente tem tempo, vamos antes dar uma olhada geral nos dados para ter um entendimento do que esta acontecendo e tentar prever possíveis questionamentos, aumentando assim as nossas chances de destaque, visto que segundo o site do anúncio existem entre 500 a 1000 candidatos participando do processo."
   ]
  },
  {
   "attachments": {},
   "cell_type": "markdown",
   "metadata": {},
   "source": [
    ">  Vamos tratar e análisar os dados individualmente, seguindo a seguinte ordem:  \n",
    "1 - vendas  \n",
    "2 - consumidores  \n",
    "3 - lojas  \n",
    "4 - produtos"
   ]
  },
  {
   "attachments": {},
   "cell_type": "markdown",
   "metadata": {},
   "source": [
    "# Dados de vendas"
   ]
  },
  {
   "attachments": {},
   "cell_type": "markdown",
   "metadata": {},
   "source": [
    "## Entendendo os dados"
   ]
  },
  {
   "attachments": {},
   "cell_type": "markdown",
   "metadata": {},
   "source": [
    "Headers:\n",
    "\n",
    "- ID: identificador único de uma venda\n",
    "\n",
    "- ProductID: identificador único de um produto\n",
    "\n",
    "- ClientID: identificador único de um cliente\n",
    "\n",
    "- Discount: desconto aplicado em uma venda\n",
    "\n",
    "- UnitPrice: preço unitário de um produto vendido\n",
    "\n",
    "- Quantity: quantidade de produto vendido em uma venda\n",
    "\n",
    "- StoreID: identificador único de uma loja\n",
    "\n",
    "- Date: data de uma venda"
   ]
  },
  {
   "attachments": {},
   "cell_type": "markdown",
   "metadata": {},
   "source": [
    "> Colocando os dados de venda na nossa variável `df`"
   ]
  },
  {
   "cell_type": "code",
   "execution_count": 4,
   "metadata": {},
   "outputs": [],
   "source": [
    "df = dados['vendas']"
   ]
  },
  {
   "attachments": {},
   "cell_type": "markdown",
   "metadata": {},
   "source": [
    "> Verificando o tamanho do nosso conjunto de dados (`linhas`, `colunas`)"
   ]
  },
  {
   "cell_type": "code",
   "execution_count": 5,
   "metadata": {},
   "outputs": [
    {
     "data": {
      "text/plain": [
       "(32753, 8)"
      ]
     },
     "execution_count": 5,
     "metadata": {},
     "output_type": "execute_result"
    }
   ],
   "source": [
    "df.shape"
   ]
  },
  {
   "attachments": {},
   "cell_type": "markdown",
   "metadata": {},
   "source": [
    "## Tipagem de dados\n",
    "\n",
    ">Abaixo iremos observar se a tipagem dos dados esta correta"
   ]
  },
  {
   "cell_type": "code",
   "execution_count": 6,
   "metadata": {},
   "outputs": [
    {
     "name": "stdout",
     "output_type": "stream",
     "text": [
      "<class 'pandas.core.frame.DataFrame'>\n",
      "RangeIndex: 32753 entries, 0 to 32752\n",
      "Data columns (total 8 columns):\n",
      " #   Column     Non-Null Count  Dtype  \n",
      "---  ------     --------------  -----  \n",
      " 0   ID         32753 non-null  object \n",
      " 1   ProductID  32753 non-null  object \n",
      " 2   ClientID   32753 non-null  int64  \n",
      " 3   Discount   32753 non-null  float64\n",
      " 4   UnitPrice  32753 non-null  float64\n",
      " 5   Quantity   32753 non-null  int64  \n",
      " 6   StoreID    32753 non-null  int64  \n",
      " 7   Date       32753 non-null  object \n",
      "dtypes: float64(2), int64(3), object(3)\n",
      "memory usage: 2.0+ MB\n"
     ]
    }
   ],
   "source": [
    "df.info()"
   ]
  },
  {
   "attachments": {},
   "cell_type": "markdown",
   "metadata": {},
   "source": [
    "\n",
    ">Aqui posso verificar um erro, a data esta como formato `object`, vamos converter para `date64`, o padrão do pandas para trabalhar com valores temporais."
   ]
  },
  {
   "cell_type": "code",
   "execution_count": 7,
   "metadata": {},
   "outputs": [
    {
     "name": "stdout",
     "output_type": "stream",
     "text": [
      "<class 'pandas.core.frame.DataFrame'>\n",
      "RangeIndex: 32753 entries, 0 to 32752\n",
      "Data columns (total 8 columns):\n",
      " #   Column     Non-Null Count  Dtype         \n",
      "---  ------     --------------  -----         \n",
      " 0   ID         32753 non-null  object        \n",
      " 1   ProductID  32753 non-null  object        \n",
      " 2   ClientID   32753 non-null  int64         \n",
      " 3   Discount   32753 non-null  float64       \n",
      " 4   UnitPrice  32753 non-null  float64       \n",
      " 5   Quantity   32753 non-null  int64         \n",
      " 6   StoreID    32753 non-null  int64         \n",
      " 7   Date       32753 non-null  datetime64[ns]\n",
      "dtypes: datetime64[ns](1), float64(2), int64(3), object(2)\n",
      "memory usage: 2.0+ MB\n"
     ]
    }
   ],
   "source": [
    "df['Date'] = pd.to_datetime(df['Date'])\n",
    "df.info()\n"
   ]
  },
  {
   "attachments": {},
   "cell_type": "markdown",
   "metadata": {},
   "source": [
    ">Modelagem do tipo da data feita com sucesso, como podemos ver agora estamos trabalhando com o tipo `datetime64[ns]`"
   ]
  },
  {
   "attachments": {},
   "cell_type": "markdown",
   "metadata": {},
   "source": [
    "# Estatística dos dados\n",
    ">Abaixo vamos ver uma breve descrição estatística dos dados"
   ]
  },
  {
   "cell_type": "code",
   "execution_count": 8,
   "metadata": {},
   "outputs": [
    {
     "data": {
      "text/html": [
       "<div>\n",
       "<style scoped>\n",
       "    .dataframe tbody tr th:only-of-type {\n",
       "        vertical-align: middle;\n",
       "    }\n",
       "\n",
       "    .dataframe tbody tr th {\n",
       "        vertical-align: top;\n",
       "    }\n",
       "\n",
       "    .dataframe thead th {\n",
       "        text-align: right;\n",
       "    }\n",
       "</style>\n",
       "<table border=\"1\" class=\"dataframe\">\n",
       "  <thead>\n",
       "    <tr style=\"text-align: right;\">\n",
       "      <th></th>\n",
       "      <th>ClientID</th>\n",
       "      <th>Discount</th>\n",
       "      <th>UnitPrice</th>\n",
       "      <th>Quantity</th>\n",
       "      <th>StoreID</th>\n",
       "    </tr>\n",
       "  </thead>\n",
       "  <tbody>\n",
       "    <tr>\n",
       "      <th>count</th>\n",
       "      <td>32753.000000</td>\n",
       "      <td>32753.000000</td>\n",
       "      <td>32753.000000</td>\n",
       "      <td>32753.000000</td>\n",
       "      <td>32753.000000</td>\n",
       "    </tr>\n",
       "    <tr>\n",
       "      <th>mean</th>\n",
       "      <td>21225.185937</td>\n",
       "      <td>0.093012</td>\n",
       "      <td>221.644967</td>\n",
       "      <td>1.058651</td>\n",
       "      <td>3.752389</td>\n",
       "    </tr>\n",
       "    <tr>\n",
       "      <th>std</th>\n",
       "      <td>4262.194113</td>\n",
       "      <td>0.009536</td>\n",
       "      <td>112.535304</td>\n",
       "      <td>0.239606</td>\n",
       "      <td>3.827504</td>\n",
       "    </tr>\n",
       "    <tr>\n",
       "      <th>min</th>\n",
       "      <td>14001.000000</td>\n",
       "      <td>0.080000</td>\n",
       "      <td>114.800000</td>\n",
       "      <td>1.000000</td>\n",
       "      <td>1.000000</td>\n",
       "    </tr>\n",
       "    <tr>\n",
       "      <th>25%</th>\n",
       "      <td>17544.000000</td>\n",
       "      <td>0.080000</td>\n",
       "      <td>161.000000</td>\n",
       "      <td>1.000000</td>\n",
       "      <td>1.000000</td>\n",
       "    </tr>\n",
       "    <tr>\n",
       "      <th>50%</th>\n",
       "      <td>21130.000000</td>\n",
       "      <td>0.100000</td>\n",
       "      <td>204.400000</td>\n",
       "      <td>1.000000</td>\n",
       "      <td>3.000000</td>\n",
       "    </tr>\n",
       "    <tr>\n",
       "      <th>75%</th>\n",
       "      <td>24916.000000</td>\n",
       "      <td>0.100000</td>\n",
       "      <td>233.800000</td>\n",
       "      <td>1.000000</td>\n",
       "      <td>4.000000</td>\n",
       "    </tr>\n",
       "    <tr>\n",
       "      <th>max</th>\n",
       "      <td>28695.000000</td>\n",
       "      <td>0.100000</td>\n",
       "      <td>686.000000</td>\n",
       "      <td>3.000000</td>\n",
       "      <td>22.000000</td>\n",
       "    </tr>\n",
       "  </tbody>\n",
       "</table>\n",
       "</div>"
      ],
      "text/plain": [
       "           ClientID      Discount     UnitPrice      Quantity       StoreID\n",
       "count  32753.000000  32753.000000  32753.000000  32753.000000  32753.000000\n",
       "mean   21225.185937      0.093012    221.644967      1.058651      3.752389\n",
       "std     4262.194113      0.009536    112.535304      0.239606      3.827504\n",
       "min    14001.000000      0.080000    114.800000      1.000000      1.000000\n",
       "25%    17544.000000      0.080000    161.000000      1.000000      1.000000\n",
       "50%    21130.000000      0.100000    204.400000      1.000000      3.000000\n",
       "75%    24916.000000      0.100000    233.800000      1.000000      4.000000\n",
       "max    28695.000000      0.100000    686.000000      3.000000     22.000000"
      ]
     },
     "execution_count": 8,
     "metadata": {},
     "output_type": "execute_result"
    }
   ],
   "source": [
    "df.describe()"
   ]
  },
  {
   "attachments": {},
   "cell_type": "markdown",
   "metadata": {},
   "source": [
    "## nan ou null?\n",
    "> A seguir, observaremos a existência de valores nulos ou não numéricos"
   ]
  },
  {
   "cell_type": "code",
   "execution_count": 9,
   "metadata": {},
   "outputs": [
    {
     "data": {
      "text/plain": [
       "ID           0\n",
       "ProductID    0\n",
       "ClientID     0\n",
       "Discount     0\n",
       "UnitPrice    0\n",
       "Quantity     0\n",
       "StoreID      0\n",
       "Date         0\n",
       "dtype: int64"
      ]
     },
     "execution_count": 9,
     "metadata": {},
     "output_type": "execute_result"
    }
   ],
   "source": [
    "df.isna().sum()"
   ]
  },
  {
   "cell_type": "code",
   "execution_count": 10,
   "metadata": {},
   "outputs": [
    {
     "data": {
      "text/plain": [
       "ID           0\n",
       "ProductID    0\n",
       "ClientID     0\n",
       "Discount     0\n",
       "UnitPrice    0\n",
       "Quantity     0\n",
       "StoreID      0\n",
       "Date         0\n",
       "dtype: int64"
      ]
     },
     "execution_count": 10,
     "metadata": {},
     "output_type": "execute_result"
    }
   ],
   "source": [
    "df.isnull().sum()"
   ]
  },
  {
   "attachments": {},
   "cell_type": "markdown",
   "metadata": {},
   "source": [
    "> Não estamos trabalhando com dados nulos no conjunto de dados de `vendas`"
   ]
  },
  {
   "attachments": {},
   "cell_type": "markdown",
   "metadata": {},
   "source": [
    "> Uma vez importados os dados, e verificada a consistência dos mesmo, vamos partir para a análise exploratória."
   ]
  },
  {
   "attachments": {},
   "cell_type": "markdown",
   "metadata": {},
   "source": [
    "# Análise exploratória dos dados\n"
   ]
  },
  {
   "attachments": {},
   "cell_type": "markdown",
   "metadata": {},
   "source": [
    "##"
   ]
  },
  {
   "attachments": {},
   "cell_type": "markdown",
   "metadata": {},
   "source": [
    "## Ranking das lojas que mais venderam\n",
    "> Cada loja tem um ID único, vamos verificar primeiro quantas lojas temos"
   ]
  },
  {
   "cell_type": "code",
   "execution_count": 11,
   "metadata": {},
   "outputs": [
    {
     "name": "stdout",
     "output_type": "stream",
     "text": [
      "Total de lojas: 7\n"
     ]
    }
   ],
   "source": [
    "print(f\"Total de lojas: {len(df['StoreID'].unique())}\")"
   ]
  },
  {
   "attachments": {},
   "cell_type": "markdown",
   "metadata": {},
   "source": [
    "> Vamos incluir uma coluna com o somatório das vendas(produto vendido * quantidade vendida)"
   ]
  },
  {
   "cell_type": "code",
   "execution_count": 12,
   "metadata": {},
   "outputs": [
    {
     "data": {
      "text/html": [
       "<div>\n",
       "<style scoped>\n",
       "    .dataframe tbody tr th:only-of-type {\n",
       "        vertical-align: middle;\n",
       "    }\n",
       "\n",
       "    .dataframe tbody tr th {\n",
       "        vertical-align: top;\n",
       "    }\n",
       "\n",
       "    .dataframe thead th {\n",
       "        text-align: right;\n",
       "    }\n",
       "</style>\n",
       "<table border=\"1\" class=\"dataframe\">\n",
       "  <thead>\n",
       "    <tr style=\"text-align: right;\">\n",
       "      <th></th>\n",
       "      <th>ID</th>\n",
       "      <th>ProductID</th>\n",
       "      <th>ClientID</th>\n",
       "      <th>Discount</th>\n",
       "      <th>UnitPrice</th>\n",
       "      <th>Quantity</th>\n",
       "      <th>StoreID</th>\n",
       "      <th>Date</th>\n",
       "      <th>INTotal</th>\n",
       "    </tr>\n",
       "  </thead>\n",
       "  <tbody>\n",
       "    <tr>\n",
       "      <th>0</th>\n",
       "      <td>80260d682079b6090c8285b398c50d97</td>\n",
       "      <td>002552c0663708129c0019cc97552d7d3</td>\n",
       "      <td>14001</td>\n",
       "      <td>0.08</td>\n",
       "      <td>249.2</td>\n",
       "      <td>1</td>\n",
       "      <td>4</td>\n",
       "      <td>2018-12-10</td>\n",
       "      <td>249.2</td>\n",
       "    </tr>\n",
       "    <tr>\n",
       "      <th>1</th>\n",
       "      <td>3275736da1234f55d52bdf09d86b93bc</td>\n",
       "      <td>001b237c0e9bb435f2e54071129237e93</td>\n",
       "      <td>14001</td>\n",
       "      <td>0.10</td>\n",
       "      <td>162.4</td>\n",
       "      <td>1</td>\n",
       "      <td>4</td>\n",
       "      <td>2019-04-25</td>\n",
       "      <td>162.4</td>\n",
       "    </tr>\n",
       "    <tr>\n",
       "      <th>2</th>\n",
       "      <td>f3513eec8f1434b5b7e04ddf3598df40</td>\n",
       "      <td>00066f42aeeb9f3007548bb9d3f33c381</td>\n",
       "      <td>14001</td>\n",
       "      <td>0.10</td>\n",
       "      <td>194.6</td>\n",
       "      <td>1</td>\n",
       "      <td>4</td>\n",
       "      <td>2019-07-17</td>\n",
       "      <td>194.6</td>\n",
       "    </tr>\n",
       "    <tr>\n",
       "      <th>3</th>\n",
       "      <td>7180475b60fe6bbbde424d39704a1177</td>\n",
       "      <td>001b72dfd63e9833e8c02742adf472e33</td>\n",
       "      <td>14002</td>\n",
       "      <td>0.10</td>\n",
       "      <td>201.6</td>\n",
       "      <td>2</td>\n",
       "      <td>1</td>\n",
       "      <td>2018-04-10</td>\n",
       "      <td>403.2</td>\n",
       "    </tr>\n",
       "    <tr>\n",
       "      <th>4</th>\n",
       "      <td>76600853a200fe87e141adae6b35674c</td>\n",
       "      <td>00210e41887c2a8ef9f791ebc780cc363</td>\n",
       "      <td>14002</td>\n",
       "      <td>0.10</td>\n",
       "      <td>406.0</td>\n",
       "      <td>1</td>\n",
       "      <td>1</td>\n",
       "      <td>2019-01-21</td>\n",
       "      <td>406.0</td>\n",
       "    </tr>\n",
       "  </tbody>\n",
       "</table>\n",
       "</div>"
      ],
      "text/plain": [
       "                                 ID                          ProductID  \\\n",
       "0  80260d682079b6090c8285b398c50d97  002552c0663708129c0019cc97552d7d3   \n",
       "1  3275736da1234f55d52bdf09d86b93bc  001b237c0e9bb435f2e54071129237e93   \n",
       "2  f3513eec8f1434b5b7e04ddf3598df40  00066f42aeeb9f3007548bb9d3f33c381   \n",
       "3  7180475b60fe6bbbde424d39704a1177  001b72dfd63e9833e8c02742adf472e33   \n",
       "4  76600853a200fe87e141adae6b35674c  00210e41887c2a8ef9f791ebc780cc363   \n",
       "\n",
       "   ClientID  Discount  UnitPrice  Quantity  StoreID       Date  INTotal  \n",
       "0     14001      0.08      249.2         1        4 2018-12-10    249.2  \n",
       "1     14001      0.10      162.4         1        4 2019-04-25    162.4  \n",
       "2     14001      0.10      194.6         1        4 2019-07-17    194.6  \n",
       "3     14002      0.10      201.6         2        1 2018-04-10    403.2  \n",
       "4     14002      0.10      406.0         1        1 2019-01-21    406.0  "
      ]
     },
     "execution_count": 12,
     "metadata": {},
     "output_type": "execute_result"
    }
   ],
   "source": [
    "df['INTotal'] = df['UnitPrice'] * df['Quantity']\n",
    "df.head()"
   ]
  },
  {
   "attachments": {},
   "cell_type": "markdown",
   "metadata": {},
   "source": [
    ">Agora vamos montar o ranking de venda por loja"
   ]
  },
  {
   "cell_type": "code",
   "execution_count": 25,
   "metadata": {},
   "outputs": [
    {
     "data": {
      "text/plain": [
       "<AxesSubplot:title={'center':'Lojas que mais venderam'}, xlabel='StoreID', ylabel='Total Vendas'>"
      ]
     },
     "execution_count": 25,
     "metadata": {},
     "output_type": "execute_result"
    },
    {
     "data": {
      "image/png": "[encoded data removed]",
      "text/plain": [
       "<Figure size 1296x576 with 1 Axes>"
      ]
     },
     "metadata": {
      "needs_background": "light"
     },
     "output_type": "display_data"
    }
   ],
   "source": [
    "# Filtrando nosso conjunto de dados\n",
    "df_filtro = df[['StoreID', 'INTotal']]\n",
    "\n",
    "# Agrupando por Id único de cliente\n",
    "df_filtro = df_filtro.groupby('StoreID').sum()\n",
    "\n",
    "# Organizando em ordem decrescente\n",
    "df_filtro = df_filtro['INTotal'].sort_values(ascending=False)\n",
    "\n",
    "\n",
    "plt.ylabel('Total Vendas')\n",
    "df_filtro.plot(kind='bar',figsize=(18, 8), title='Lojas que mais venderam')\n"
   ]
  },
  {
   "attachments": {},
   "cell_type": "markdown",
   "metadata": {},
   "source": [
    ">Existe uma diferença grande de vendas entre as lojas"
   ]
  },
  {
   "attachments": {},
   "cell_type": "markdown",
   "metadata": {},
   "source": [
    "> Vamos ver se esta diferença tem alguma correlação com os descontos ofertados"
   ]
  },
  {
   "cell_type": "code",
   "execution_count": 35,
   "metadata": {},
   "outputs": [
    {
     "data": {
      "text/plain": [
       "StoreID\n",
       "1     0.093098\n",
       "9     0.093095\n",
       "4     0.093055\n",
       "2     0.093030\n",
       "7     0.092977\n",
       "3     0.092859\n",
       "22    0.092859\n",
       "Name: Discount, dtype: float64"
      ]
     },
     "execution_count": 35,
     "metadata": {},
     "output_type": "execute_result"
    }
   ],
   "source": [
    "# Filtrando nosso conjunto de dados\n",
    "df_filtro2 = df[['StoreID', 'Discount']]\n",
    "\n",
    "# Agrupando por Id único de cliente\n",
    "df_filtro2 = df_filtro2.groupby('StoreID').mean()\n",
    "\n",
    "# Organizando em ordem decrescente\n",
    "df_filtro2 = df_filtro2['Discount'].sort_values(ascending=False)\n",
    "\n",
    "df_filtro2\n"
   ]
  },
  {
   "attachments": {},
   "cell_type": "markdown",
   "metadata": {},
   "source": [
    "> Os valores estão bem próximos, não indicando correlação na variável"
   ]
  },
  {
   "attachments": {},
   "cell_type": "markdown",
   "metadata": {},
   "source": [
    "____________________________________________________\n"
   ]
  },
  {
   "cell_type": "code",
   "execution_count": null,
   "metadata": {},
   "outputs": [],
   "source": []
  }
 ],
 "metadata": {
  "kernelspec": {
   "display_name": "Python 3.10.4 64-bit",
   "language": "python",
   "name": "python3"
  },
  "language_info": {
   "codemirror_mode": {
    "name": "ipython",
    "version": 3
   },
   "file_extension": ".py",
   "mimetype": "text/x-python",
   "name": "python",
   "nbconvert_exporter": "python",
   "pygments_lexer": "ipython3",
   "version": "3.10.4 (tags/v3.10.4:9d38120, Mar 23 2022, 23:13:41) [MSC v.1929 64 bit (AMD64)]"
  },
  "orig_nbformat": 4,
  "vscode": {
   "interpreter": {
    "hash": "5d11380547bba1e6c4b0ab7b7614350493a6d4caf256d9be4e363829d8f5c452"
   }
  }
 },
 "nbformat": 4,
 "nbformat_minor": 2
}
