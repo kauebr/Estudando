{
 "cells": [
  {
   "attachments": {},
   "cell_type": "markdown",
   "metadata": {},
   "source": [
    "<img src=\"https://i.ibb.co/K5n24Nd/1.png\"  alt=\"KCode Banner\"  />\n",
    "\n",
    "<a href=\"https://www.linkedin.com/in/kauebr/\"><img src=\"https://cdn-icons-png.flaticon.com/512/174/174857.png\" width=\"30\" ></a> <a href=\"mailto: kauemandarino@gmail.com\"><img src=\"https://cdn-icons-png.flaticon.com/512/5968/5968534.png\" width=\"30\" ></a><a href=\"\n",
    "https://api.whatsapp.com/send?phone=5541991835800&text=Oi\"> <img src=\"https://imagepng.org/wp-content/uploads/2017/08/whatsapp-icone-1.png\" width=\"30\" ></a><a href=\"https://github.com/kauebr/\"><img src=\"https://github.githubassets.com/images/modules/logos_page/Octocat.png\" width=\"30\" ></a>\n",
    "\n"
   ]
  },
  {
   "attachments": {},
   "cell_type": "markdown",
   "metadata": {},
   "source": [
    "# Prova de conhecimentos, Cientista de Dados Junior\n",
    "<img src=\"https://media-exp1.licdn.com/dms/image/C4D0BAQH1wOIHXfQBfw/company-logo_200_200/0/1635965593825?e=2147483647&v=beta&t=TyfxHrgFk4J5iUpdfnRsvEwxLekHz4ADGIn0iTWS2dU\"  alt=\"Banner da Empresa\"  /> \n",
    "\n",
    "Segundo o [site da empresa]('https://www.bixtecnologia.com.br/carreiras/')  a BIX Tecnologia é uma consultoria de dados sediada em Florianópolis com atuação em todo o Brasil.\n",
    "\n",
    "\n",
    "\n",
    "\n",
    "## Objetivo:\n",
    "* Demonstrar meus conhecimentos em ciência de dados, através da simulação de análise de dados. \n",
    "\n",
    "\n",
    "## Pontos Importantes\n",
    "* Só existe uma resposta correta para cada uma das perguntas\n",
    "\n",
    "## O que esta sendo avaliado:\n",
    "\n",
    "- Conceitos de Data Science (DS) e Machine Learning (ML);\n",
    "\n",
    "- Manipulação de dados;\n",
    "\n",
    "- Estatística básica;\n",
    "\n",
    "- Criação e avaliação de gráficos;\n",
    "\n",
    "- Entendimento de negócio."
   ]
  },
  {
   "cell_type": "code",
   "execution_count": 71,
   "metadata": {},
   "outputs": [],
   "source": [
    "# Importando bibliotecas pertinentes\n",
    "import pandas as pd\n",
    "import matplotlib.pyplot as plt\n",
    "import numpy as np\n",
    "from datetime import date\n",
    "import seaborn as sns"
   ]
  },
  {
   "attachments": {},
   "cell_type": "markdown",
   "metadata": {},
   "source": [
    "# Criando nosso conjunto de dados"
   ]
  },
  {
   "attachments": {},
   "cell_type": "markdown",
   "metadata": {},
   "source": [
    "O [dataframe]('https://docs.google.com/spreadsheets/d/1Sc6hN48b-lWbDdYNd_t9j8Bt0EZ8BUNG/edit#gid=786849803') apresentado pela Bix, foi previamente limpo no Excel, e dividido em em 4 sub-arquivos .csv, vamos importá-los a seguir."
   ]
  },
  {
   "cell_type": "code",
   "execution_count": 2,
   "metadata": {},
   "outputs": [],
   "source": [
    "vendas = pd.read_csv('C:/Users/manda/OneDrive/Documents/GitHub/Estudando/Processo Seletivo/Dados em csv/Dados de Vendas.csv',encoding='latin1')\n",
    "consumidores = pd.read_csv('C:/Users/manda/OneDrive/Documents/GitHub/Estudando/Processo Seletivo/Dados em csv/Dados de Consumidores.csv',encoding='latin1')\n",
    "lojas = pd.read_csv('C:/Users/manda/OneDrive/Documents/GitHub/Estudando/Processo Seletivo/Dados em csv/Dados de Lojas.csv',encoding='latin1')\n",
    "produtos = pd.read_csv('C:/Users/manda/OneDrive/Documents/GitHub/Estudando/Processo Seletivo/Dados em csv/Dados de Produtos.csv',encoding='latin1')\n",
    "\n",
    "# Criando um dicionário para abrigar nosso conjunto de dados\n",
    "dados = {'vendas': vendas, 'consumidores' : consumidores, 'lojas': lojas, 'produtos': produtos}"
   ]
  },
  {
   "attachments": {},
   "cell_type": "markdown",
   "metadata": {},
   "source": [
    "> Os agora dados estão armezenados em um dicionário nomeado \"dados\""
   ]
  },
  {
   "attachments": {},
   "cell_type": "markdown",
   "metadata": {},
   "source": [
    "## Validação\n",
    "> Vou chamar o conjunto de dados referente aos produtos para verificar se tudo ocorreu da forma correta"
   ]
  },
  {
   "cell_type": "code",
   "execution_count": 3,
   "metadata": {},
   "outputs": [
    {
     "data": {
      "text/html": [
       "<div>\n",
       "<style scoped>\n",
       "    .dataframe tbody tr th:only-of-type {\n",
       "        vertical-align: middle;\n",
       "    }\n",
       "\n",
       "    .dataframe tbody tr th {\n",
       "        vertical-align: top;\n",
       "    }\n",
       "\n",
       "    .dataframe thead th {\n",
       "        text-align: right;\n",
       "    }\n",
       "</style>\n",
       "<table border=\"1\" class=\"dataframe\">\n",
       "  <thead>\n",
       "    <tr style=\"text-align: right;\">\n",
       "      <th></th>\n",
       "      <th>ID</th>\n",
       "      <th>Name</th>\n",
       "      <th>Size</th>\n",
       "    </tr>\n",
       "  </thead>\n",
       "  <tbody>\n",
       "    <tr>\n",
       "      <th>0</th>\n",
       "      <td>00066f42aeeb9f3007548bb9d3f33c381</td>\n",
       "      <td>Capitão América</td>\n",
       "      <td>P</td>\n",
       "    </tr>\n",
       "    <tr>\n",
       "      <th>1</th>\n",
       "      <td>00066f42aeeb9f3007548bb9d3f33c382</td>\n",
       "      <td>Capitão América</td>\n",
       "      <td>M</td>\n",
       "    </tr>\n",
       "    <tr>\n",
       "      <th>2</th>\n",
       "      <td>00066f42aeeb9f3007548bb9d3f33c383</td>\n",
       "      <td>Capitão América</td>\n",
       "      <td>G</td>\n",
       "    </tr>\n",
       "  </tbody>\n",
       "</table>\n",
       "</div>"
      ],
      "text/plain": [
       "                                  ID             Name Size\n",
       "0  00066f42aeeb9f3007548bb9d3f33c381  Capitão América    P\n",
       "1  00066f42aeeb9f3007548bb9d3f33c382  Capitão América    M\n",
       "2  00066f42aeeb9f3007548bb9d3f33c383  Capitão América    G"
      ]
     },
     "execution_count": 3,
     "metadata": {},
     "output_type": "execute_result"
    }
   ],
   "source": [
    "dados['produtos'].head(3)"
   ]
  },
  {
   "attachments": {},
   "cell_type": "markdown",
   "metadata": {},
   "source": [
    "> Etapa de carregamento dos dados terminada com sucesso\n",
    "_____________________________________________________________________________________________________________________________________________________________________________"
   ]
  },
  {
   "attachments": {},
   "cell_type": "markdown",
   "metadata": {},
   "source": [
    "# Apanhado Geral\n",
    ">Como o questionário a ser respondido, provavelmente tem tempo, vamos antes dar uma olhada geral nos dados para ter um entendimento do que esta acontecendo e tentar prever possíveis questionamentos, aumentando assim as nossas chances de destaque, visto que segundo o site do anúncio existem entre 500 a 1000 candidatos participando do processo."
   ]
  },
  {
   "attachments": {},
   "cell_type": "markdown",
   "metadata": {},
   "source": [
    ">  Vamos tratar e análisar os dados individualmente, seguindo a seguinte ordem:  \n",
    "1 - vendas  \n",
    "2 - consumidores  \n",
    "3 - lojas  \n",
    "4 - produtos"
   ]
  },
  {
   "attachments": {},
   "cell_type": "markdown",
   "metadata": {},
   "source": [
    "# Dados de vendas"
   ]
  },
  {
   "attachments": {},
   "cell_type": "markdown",
   "metadata": {},
   "source": [
    "## Entendendo os dados"
   ]
  },
  {
   "attachments": {},
   "cell_type": "markdown",
   "metadata": {},
   "source": [
    "Headers:\n",
    "\n",
    "- ID: identificador único de uma venda\n",
    "\n",
    "- ProductID: identificador único de um produto\n",
    "\n",
    "- ClientID: identificador único de um cliente\n",
    "\n",
    "- Discount: desconto aplicado em uma venda\n",
    "\n",
    "- UnitPrice: preço unitário de um produto vendido\n",
    "\n",
    "- Quantity: quantidade de produto vendido em uma venda\n",
    "\n",
    "- StoreID: identificador único de uma loja\n",
    "\n",
    "- Date: data de uma venda"
   ]
  },
  {
   "attachments": {},
   "cell_type": "markdown",
   "metadata": {},
   "source": [
    "> Colocando os dados de venda na nossa variável `df`"
   ]
  },
  {
   "cell_type": "code",
   "execution_count": 90,
   "metadata": {},
   "outputs": [],
   "source": [
    "df = dados['vendas']"
   ]
  },
  {
   "cell_type": "code",
   "execution_count": 96,
   "metadata": {},
   "outputs": [
    {
     "data": {
      "text/plain": [
       "002ec297b1b00fb9dde7ee6ac24b67713    966\n",
       "002d4ea7c04739c130bb74d7e7cd16943    963\n",
       "001c5d71ac6ad696d22315953758fa043    944\n",
       "0011c512eb256aa0dbbb544d8dffcf6e3    940\n",
       "0030026a6ddb3b2d1d4bc225b4b4c4da3    939\n",
       "                                    ... \n",
       "00088930e925c41fd95ebfe695fd26552    205\n",
       "00210e41887c2a8ef9f791ebc780cc362    204\n",
       "002ec297b1b00fb9dde7ee6ac24b67711    202\n",
       "002552c0663708129c0019cc97552d7d2    200\n",
       "001b237c0e9bb435f2e54071129237e92    197\n",
       "Name: ProductID, Length: 73, dtype: int64"
      ]
     },
     "execution_count": 96,
     "metadata": {},
     "output_type": "execute_result"
    }
   ],
   "source": [
    "###\n",
    "df['ProductID'].value_counts()\n"
   ]
  },
  {
   "attachments": {},
   "cell_type": "markdown",
   "metadata": {},
   "source": [
    "> Verificando o tamanho do nosso conjunto de dados (`linhas`, `colunas`)"
   ]
  },
  {
   "cell_type": "code",
   "execution_count": 91,
   "metadata": {},
   "outputs": [
    {
     "data": {
      "text/plain": [
       "(32753, 9)"
      ]
     },
     "execution_count": 91,
     "metadata": {},
     "output_type": "execute_result"
    }
   ],
   "source": [
    "df.shape"
   ]
  },
  {
   "attachments": {},
   "cell_type": "markdown",
   "metadata": {},
   "source": [
    "## Tipagem de dados\n",
    "\n",
    ">Abaixo iremos observar se a tipagem dos dados esta correta"
   ]
  },
  {
   "cell_type": "code",
   "execution_count": 6,
   "metadata": {},
   "outputs": [
    {
     "name": "stdout",
     "output_type": "stream",
     "text": [
      "<class 'pandas.core.frame.DataFrame'>\n",
      "RangeIndex: 32753 entries, 0 to 32752\n",
      "Data columns (total 8 columns):\n",
      " #   Column     Non-Null Count  Dtype  \n",
      "---  ------     --------------  -----  \n",
      " 0   ID         32753 non-null  object \n",
      " 1   ProductID  32753 non-null  object \n",
      " 2   ClientID   32753 non-null  int64  \n",
      " 3   Discount   32753 non-null  float64\n",
      " 4   UnitPrice  32753 non-null  float64\n",
      " 5   Quantity   32753 non-null  int64  \n",
      " 6   StoreID    32753 non-null  int64  \n",
      " 7   Date       32753 non-null  object \n",
      "dtypes: float64(2), int64(3), object(3)\n",
      "memory usage: 2.0+ MB\n"
     ]
    }
   ],
   "source": [
    "df.info()"
   ]
  },
  {
   "attachments": {},
   "cell_type": "markdown",
   "metadata": {},
   "source": [
    "\n",
    ">Aqui posso verificar um erro, a data esta como formato `object`, vamos converter para `date64`, o padrão do pandas para trabalhar com valores temporais."
   ]
  },
  {
   "cell_type": "code",
   "execution_count": 7,
   "metadata": {},
   "outputs": [
    {
     "name": "stdout",
     "output_type": "stream",
     "text": [
      "<class 'pandas.core.frame.DataFrame'>\n",
      "RangeIndex: 32753 entries, 0 to 32752\n",
      "Data columns (total 8 columns):\n",
      " #   Column     Non-Null Count  Dtype         \n",
      "---  ------     --------------  -----         \n",
      " 0   ID         32753 non-null  object        \n",
      " 1   ProductID  32753 non-null  object        \n",
      " 2   ClientID   32753 non-null  int64         \n",
      " 3   Discount   32753 non-null  float64       \n",
      " 4   UnitPrice  32753 non-null  float64       \n",
      " 5   Quantity   32753 non-null  int64         \n",
      " 6   StoreID    32753 non-null  int64         \n",
      " 7   Date       32753 non-null  datetime64[ns]\n",
      "dtypes: datetime64[ns](1), float64(2), int64(3), object(2)\n",
      "memory usage: 2.0+ MB\n"
     ]
    }
   ],
   "source": [
    "df['Date'] = pd.to_datetime(df['Date'])\n",
    "df.info()\n"
   ]
  },
  {
   "attachments": {},
   "cell_type": "markdown",
   "metadata": {},
   "source": [
    ">Modelagem do tipo da data feita com sucesso, como podemos ver agora estamos trabalhando com o tipo `datetime64[ns]`"
   ]
  },
  {
   "attachments": {},
   "cell_type": "markdown",
   "metadata": {},
   "source": [
    "# Estatística dos dados\n",
    ">Abaixo vamos ver uma breve descrição estatística dos dados"
   ]
  },
  {
   "cell_type": "code",
   "execution_count": 8,
   "metadata": {},
   "outputs": [
    {
     "data": {
      "text/html": [
       "<div>\n",
       "<style scoped>\n",
       "    .dataframe tbody tr th:only-of-type {\n",
       "        vertical-align: middle;\n",
       "    }\n",
       "\n",
       "    .dataframe tbody tr th {\n",
       "        vertical-align: top;\n",
       "    }\n",
       "\n",
       "    .dataframe thead th {\n",
       "        text-align: right;\n",
       "    }\n",
       "</style>\n",
       "<table border=\"1\" class=\"dataframe\">\n",
       "  <thead>\n",
       "    <tr style=\"text-align: right;\">\n",
       "      <th></th>\n",
       "      <th>ClientID</th>\n",
       "      <th>Discount</th>\n",
       "      <th>UnitPrice</th>\n",
       "      <th>Quantity</th>\n",
       "      <th>StoreID</th>\n",
       "    </tr>\n",
       "  </thead>\n",
       "  <tbody>\n",
       "    <tr>\n",
       "      <th>count</th>\n",
       "      <td>32753.000000</td>\n",
       "      <td>32753.000000</td>\n",
       "      <td>32753.000000</td>\n",
       "      <td>32753.000000</td>\n",
       "      <td>32753.000000</td>\n",
       "    </tr>\n",
       "    <tr>\n",
       "      <th>mean</th>\n",
       "      <td>21225.185937</td>\n",
       "      <td>0.093012</td>\n",
       "      <td>221.644967</td>\n",
       "      <td>1.058651</td>\n",
       "      <td>3.752389</td>\n",
       "    </tr>\n",
       "    <tr>\n",
       "      <th>std</th>\n",
       "      <td>4262.194113</td>\n",
       "      <td>0.009536</td>\n",
       "      <td>112.535304</td>\n",
       "      <td>0.239606</td>\n",
       "      <td>3.827504</td>\n",
       "    </tr>\n",
       "    <tr>\n",
       "      <th>min</th>\n",
       "      <td>14001.000000</td>\n",
       "      <td>0.080000</td>\n",
       "      <td>114.800000</td>\n",
       "      <td>1.000000</td>\n",
       "      <td>1.000000</td>\n",
       "    </tr>\n",
       "    <tr>\n",
       "      <th>25%</th>\n",
       "      <td>17544.000000</td>\n",
       "      <td>0.080000</td>\n",
       "      <td>161.000000</td>\n",
       "      <td>1.000000</td>\n",
       "      <td>1.000000</td>\n",
       "    </tr>\n",
       "    <tr>\n",
       "      <th>50%</th>\n",
       "      <td>21130.000000</td>\n",
       "      <td>0.100000</td>\n",
       "      <td>204.400000</td>\n",
       "      <td>1.000000</td>\n",
       "      <td>3.000000</td>\n",
       "    </tr>\n",
       "    <tr>\n",
       "      <th>75%</th>\n",
       "      <td>24916.000000</td>\n",
       "      <td>0.100000</td>\n",
       "      <td>233.800000</td>\n",
       "      <td>1.000000</td>\n",
       "      <td>4.000000</td>\n",
       "    </tr>\n",
       "    <tr>\n",
       "      <th>max</th>\n",
       "      <td>28695.000000</td>\n",
       "      <td>0.100000</td>\n",
       "      <td>686.000000</td>\n",
       "      <td>3.000000</td>\n",
       "      <td>22.000000</td>\n",
       "    </tr>\n",
       "  </tbody>\n",
       "</table>\n",
       "</div>"
      ],
      "text/plain": [
       "           ClientID      Discount     UnitPrice      Quantity       StoreID\n",
       "count  32753.000000  32753.000000  32753.000000  32753.000000  32753.000000\n",
       "mean   21225.185937      0.093012    221.644967      1.058651      3.752389\n",
       "std     4262.194113      0.009536    112.535304      0.239606      3.827504\n",
       "min    14001.000000      0.080000    114.800000      1.000000      1.000000\n",
       "25%    17544.000000      0.080000    161.000000      1.000000      1.000000\n",
       "50%    21130.000000      0.100000    204.400000      1.000000      3.000000\n",
       "75%    24916.000000      0.100000    233.800000      1.000000      4.000000\n",
       "max    28695.000000      0.100000    686.000000      3.000000     22.000000"
      ]
     },
     "execution_count": 8,
     "metadata": {},
     "output_type": "execute_result"
    }
   ],
   "source": [
    "df.describe()"
   ]
  },
  {
   "attachments": {},
   "cell_type": "markdown",
   "metadata": {},
   "source": [
    "## nan ou null?\n",
    "> A seguir, observaremos a existência de valores nulos ou não numéricos"
   ]
  },
  {
   "cell_type": "code",
   "execution_count": 9,
   "metadata": {},
   "outputs": [
    {
     "data": {
      "text/plain": [
       "ID           0\n",
       "ProductID    0\n",
       "ClientID     0\n",
       "Discount     0\n",
       "UnitPrice    0\n",
       "Quantity     0\n",
       "StoreID      0\n",
       "Date         0\n",
       "dtype: int64"
      ]
     },
     "execution_count": 9,
     "metadata": {},
     "output_type": "execute_result"
    }
   ],
   "source": [
    "df.isna().sum()"
   ]
  },
  {
   "cell_type": "code",
   "execution_count": 10,
   "metadata": {},
   "outputs": [
    {
     "data": {
      "text/plain": [
       "ID           0\n",
       "ProductID    0\n",
       "ClientID     0\n",
       "Discount     0\n",
       "UnitPrice    0\n",
       "Quantity     0\n",
       "StoreID      0\n",
       "Date         0\n",
       "dtype: int64"
      ]
     },
     "execution_count": 10,
     "metadata": {},
     "output_type": "execute_result"
    }
   ],
   "source": [
    "df.isnull().sum()"
   ]
  },
  {
   "attachments": {},
   "cell_type": "markdown",
   "metadata": {},
   "source": [
    "> Não estamos trabalhando com dados nulos no conjunto de dados de `vendas`"
   ]
  },
  {
   "attachments": {},
   "cell_type": "markdown",
   "metadata": {},
   "source": [
    "> Uma vez importados os dados, e verificada a consistência dos mesmo, vamos partir para a análise exploratória."
   ]
  },
  {
   "attachments": {},
   "cell_type": "markdown",
   "metadata": {},
   "source": [
    "# Análise exploratória dos dados\n"
   ]
  },
  {
   "attachments": {},
   "cell_type": "markdown",
   "metadata": {},
   "source": [
    "##"
   ]
  },
  {
   "attachments": {},
   "cell_type": "markdown",
   "metadata": {},
   "source": [
    "## Ranking das lojas que mais venderam\n",
    "> Cada loja tem um ID único, vamos verificar primeiro quantas lojas temos"
   ]
  },
  {
   "cell_type": "code",
   "execution_count": 11,
   "metadata": {},
   "outputs": [
    {
     "name": "stdout",
     "output_type": "stream",
     "text": [
      "Total de lojas: 7\n"
     ]
    }
   ],
   "source": [
    "print(f\"Total de lojas: {len(df['StoreID'].unique())}\")"
   ]
  },
  {
   "attachments": {},
   "cell_type": "markdown",
   "metadata": {},
   "source": [
    "> Vamos incluir uma coluna com o somatório das vendas(produto vendido * quantidade vendida)"
   ]
  },
  {
   "cell_type": "code",
   "execution_count": 12,
   "metadata": {},
   "outputs": [
    {
     "data": {
      "text/html": [
       "<div>\n",
       "<style scoped>\n",
       "    .dataframe tbody tr th:only-of-type {\n",
       "        vertical-align: middle;\n",
       "    }\n",
       "\n",
       "    .dataframe tbody tr th {\n",
       "        vertical-align: top;\n",
       "    }\n",
       "\n",
       "    .dataframe thead th {\n",
       "        text-align: right;\n",
       "    }\n",
       "</style>\n",
       "<table border=\"1\" class=\"dataframe\">\n",
       "  <thead>\n",
       "    <tr style=\"text-align: right;\">\n",
       "      <th></th>\n",
       "      <th>ID</th>\n",
       "      <th>ProductID</th>\n",
       "      <th>ClientID</th>\n",
       "      <th>Discount</th>\n",
       "      <th>UnitPrice</th>\n",
       "      <th>Quantity</th>\n",
       "      <th>StoreID</th>\n",
       "      <th>Date</th>\n",
       "      <th>INTotal</th>\n",
       "    </tr>\n",
       "  </thead>\n",
       "  <tbody>\n",
       "    <tr>\n",
       "      <th>0</th>\n",
       "      <td>80260d682079b6090c8285b398c50d97</td>\n",
       "      <td>002552c0663708129c0019cc97552d7d3</td>\n",
       "      <td>14001</td>\n",
       "      <td>0.08</td>\n",
       "      <td>249.2</td>\n",
       "      <td>1</td>\n",
       "      <td>4</td>\n",
       "      <td>2018-12-10</td>\n",
       "      <td>249.2</td>\n",
       "    </tr>\n",
       "    <tr>\n",
       "      <th>1</th>\n",
       "      <td>3275736da1234f55d52bdf09d86b93bc</td>\n",
       "      <td>001b237c0e9bb435f2e54071129237e93</td>\n",
       "      <td>14001</td>\n",
       "      <td>0.10</td>\n",
       "      <td>162.4</td>\n",
       "      <td>1</td>\n",
       "      <td>4</td>\n",
       "      <td>2019-04-25</td>\n",
       "      <td>162.4</td>\n",
       "    </tr>\n",
       "    <tr>\n",
       "      <th>2</th>\n",
       "      <td>f3513eec8f1434b5b7e04ddf3598df40</td>\n",
       "      <td>00066f42aeeb9f3007548bb9d3f33c381</td>\n",
       "      <td>14001</td>\n",
       "      <td>0.10</td>\n",
       "      <td>194.6</td>\n",
       "      <td>1</td>\n",
       "      <td>4</td>\n",
       "      <td>2019-07-17</td>\n",
       "      <td>194.6</td>\n",
       "    </tr>\n",
       "    <tr>\n",
       "      <th>3</th>\n",
       "      <td>7180475b60fe6bbbde424d39704a1177</td>\n",
       "      <td>001b72dfd63e9833e8c02742adf472e33</td>\n",
       "      <td>14002</td>\n",
       "      <td>0.10</td>\n",
       "      <td>201.6</td>\n",
       "      <td>2</td>\n",
       "      <td>1</td>\n",
       "      <td>2018-04-10</td>\n",
       "      <td>403.2</td>\n",
       "    </tr>\n",
       "    <tr>\n",
       "      <th>4</th>\n",
       "      <td>76600853a200fe87e141adae6b35674c</td>\n",
       "      <td>00210e41887c2a8ef9f791ebc780cc363</td>\n",
       "      <td>14002</td>\n",
       "      <td>0.10</td>\n",
       "      <td>406.0</td>\n",
       "      <td>1</td>\n",
       "      <td>1</td>\n",
       "      <td>2019-01-21</td>\n",
       "      <td>406.0</td>\n",
       "    </tr>\n",
       "  </tbody>\n",
       "</table>\n",
       "</div>"
      ],
      "text/plain": [
       "                                 ID                          ProductID  \\\n",
       "0  80260d682079b6090c8285b398c50d97  002552c0663708129c0019cc97552d7d3   \n",
       "1  3275736da1234f55d52bdf09d86b93bc  001b237c0e9bb435f2e54071129237e93   \n",
       "2  f3513eec8f1434b5b7e04ddf3598df40  00066f42aeeb9f3007548bb9d3f33c381   \n",
       "3  7180475b60fe6bbbde424d39704a1177  001b72dfd63e9833e8c02742adf472e33   \n",
       "4  76600853a200fe87e141adae6b35674c  00210e41887c2a8ef9f791ebc780cc363   \n",
       "\n",
       "   ClientID  Discount  UnitPrice  Quantity  StoreID       Date  INTotal  \n",
       "0     14001      0.08      249.2         1        4 2018-12-10    249.2  \n",
       "1     14001      0.10      162.4         1        4 2019-04-25    162.4  \n",
       "2     14001      0.10      194.6         1        4 2019-07-17    194.6  \n",
       "3     14002      0.10      201.6         2        1 2018-04-10    403.2  \n",
       "4     14002      0.10      406.0         1        1 2019-01-21    406.0  "
      ]
     },
     "execution_count": 12,
     "metadata": {},
     "output_type": "execute_result"
    }
   ],
   "source": [
    "df['INTotal'] = df['UnitPrice'] * df['Quantity']\n",
    "df.head()"
   ]
  },
  {
   "attachments": {},
   "cell_type": "markdown",
   "metadata": {},
   "source": [
    ">Agora vamos montar o ranking de venda por loja"
   ]
  },
  {
   "cell_type": "code",
   "execution_count": 13,
   "metadata": {},
   "outputs": [
    {
     "data": {
      "text/plain": [
       "<AxesSubplot:title={'center':'Lojas que mais venderam'}, xlabel='StoreID', ylabel='Total Vendas'>"
      ]
     },
     "execution_count": 13,
     "metadata": {},
     "output_type": "execute_result"
    },
    {
     "data": {
      "image/png": "[encoded data removed]",
      "text/plain": [
       "<Figure size 1296x576 with 1 Axes>"
      ]
     },
     "metadata": {
      "needs_background": "light"
     },
     "output_type": "display_data"
    }
   ],
   "source": [
    "# Filtrando nosso conjunto de dados\n",
    "df_filtro = df[['StoreID', 'INTotal']]\n",
    "\n",
    "# Agrupando por Id único de cliente\n",
    "df_filtro = df_filtro.groupby('StoreID').sum()\n",
    "\n",
    "# Organizando em ordem decrescente\n",
    "df_filtro = df_filtro['INTotal'].sort_values(ascending=False)\n",
    "\n",
    "\n",
    "plt.ylabel('Total Vendas')\n",
    "df_filtro.plot(kind='bar',figsize=(18, 8), title='Lojas que mais venderam')\n"
   ]
  },
  {
   "attachments": {},
   "cell_type": "markdown",
   "metadata": {},
   "source": [
    ">Existe uma diferença grande de vendas entre as lojas"
   ]
  },
  {
   "attachments": {},
   "cell_type": "markdown",
   "metadata": {},
   "source": [
    "> Vamos ver se esta diferença tem alguma correlação com os descontos ofertados"
   ]
  },
  {
   "cell_type": "code",
   "execution_count": 14,
   "metadata": {},
   "outputs": [
    {
     "data": {
      "text/plain": [
       "StoreID\n",
       "1     0.093098\n",
       "9     0.093095\n",
       "4     0.093055\n",
       "2     0.093030\n",
       "7     0.092977\n",
       "3     0.092859\n",
       "22    0.092859\n",
       "Name: Discount, dtype: float64"
      ]
     },
     "execution_count": 14,
     "metadata": {},
     "output_type": "execute_result"
    }
   ],
   "source": [
    "# Filtrando nosso conjunto de dados\n",
    "df_filtro2 = df[['StoreID', 'Discount']]\n",
    "\n",
    "# Agrupando por Id único de cliente\n",
    "df_filtro2 = df_filtro2.groupby('StoreID').mean()\n",
    "\n",
    "# Organizando em ordem decrescente\n",
    "df_filtro2 = df_filtro2['Discount'].sort_values(ascending=False)\n",
    "\n",
    "df_filtro2\n"
   ]
  },
  {
   "attachments": {},
   "cell_type": "markdown",
   "metadata": {},
   "source": [
    "> Os valores estão bem próximos, não indicando correlação na variável"
   ]
  },
  {
   "attachments": {},
   "cell_type": "markdown",
   "metadata": {},
   "source": [
    "# Série histórica\n",
    "> Agora vamos dar uma olhada no nosso dataframe como série histórica"
   ]
  },
  {
   "cell_type": "code",
   "execution_count": 15,
   "metadata": {},
   "outputs": [
    {
     "data": {
      "text/plain": [
       "0       2018-12-10\n",
       "1       2019-04-25\n",
       "2       2019-07-17\n",
       "3       2018-04-10\n",
       "4       2019-01-21\n",
       "           ...    \n",
       "32748   2018-12-02\n",
       "32749   2018-12-05\n",
       "32750   2019-08-01\n",
       "32751   2019-11-25\n",
       "32752   2018-07-04\n",
       "Name: Date, Length: 32753, dtype: datetime64[ns]"
      ]
     },
     "execution_count": 15,
     "metadata": {},
     "output_type": "execute_result"
    }
   ],
   "source": [
    "df['Date']"
   ]
  },
  {
   "attachments": {},
   "cell_type": "markdown",
   "metadata": {},
   "source": [
    "> Inicialmente vejo que os dados não estão classificados por ordem de data, vamo fazer isto."
   ]
  },
  {
   "cell_type": "code",
   "execution_count": 16,
   "metadata": {},
   "outputs": [
    {
     "data": {
      "text/plain": [
       "13187   2018-03-01\n",
       "28098   2018-03-01\n",
       "31531   2018-03-01\n",
       "12301   2018-03-01\n",
       "22136   2018-03-01\n",
       "           ...    \n",
       "9346    2020-01-31\n",
       "13078   2020-01-31\n",
       "13310   2020-01-31\n",
       "20422   2020-01-31\n",
       "23941   2020-01-31\n",
       "Name: Date, Length: 32753, dtype: datetime64[ns]"
      ]
     },
     "execution_count": 16,
     "metadata": {},
     "output_type": "execute_result"
    }
   ],
   "source": [
    "# Classificando por data\n",
    "df['Date'].sort_values()"
   ]
  },
  {
   "attachments": {},
   "cell_type": "markdown",
   "metadata": {},
   "source": [
    ">Podemos ver. que estamos trabalhando com uma série histórica, que vai de `01-03-2018` até `31-01-2021`  \n",
    "Agora iremos ordenar nosso conjunto de dados como um série temporal"
   ]
  },
  {
   "cell_type": "code",
   "execution_count": 17,
   "metadata": {},
   "outputs": [
    {
     "data": {
      "text/html": [
       "<div>\n",
       "<style scoped>\n",
       "    .dataframe tbody tr th:only-of-type {\n",
       "        vertical-align: middle;\n",
       "    }\n",
       "\n",
       "    .dataframe tbody tr th {\n",
       "        vertical-align: top;\n",
       "    }\n",
       "\n",
       "    .dataframe thead th {\n",
       "        text-align: right;\n",
       "    }\n",
       "</style>\n",
       "<table border=\"1\" class=\"dataframe\">\n",
       "  <thead>\n",
       "    <tr style=\"text-align: right;\">\n",
       "      <th></th>\n",
       "      <th>ClientID</th>\n",
       "      <th>Discount</th>\n",
       "      <th>UnitPrice</th>\n",
       "      <th>Quantity</th>\n",
       "      <th>StoreID</th>\n",
       "      <th>INTotal</th>\n",
       "    </tr>\n",
       "    <tr>\n",
       "      <th>Date</th>\n",
       "      <th></th>\n",
       "      <th></th>\n",
       "      <th></th>\n",
       "      <th></th>\n",
       "      <th></th>\n",
       "      <th></th>\n",
       "    </tr>\n",
       "  </thead>\n",
       "  <tbody>\n",
       "    <tr>\n",
       "      <th>2018-03-01</th>\n",
       "      <td>662013</td>\n",
       "      <td>2.9</td>\n",
       "      <td>5509.0</td>\n",
       "      <td>31</td>\n",
       "      <td>115</td>\n",
       "      <td>5884.2</td>\n",
       "    </tr>\n",
       "    <tr>\n",
       "      <th>2018-03-02</th>\n",
       "      <td>727556</td>\n",
       "      <td>3.5</td>\n",
       "      <td>6931.4</td>\n",
       "      <td>39</td>\n",
       "      <td>125</td>\n",
       "      <td>7700.0</td>\n",
       "    </tr>\n",
       "    <tr>\n",
       "      <th>2018-03-03</th>\n",
       "      <td>826238</td>\n",
       "      <td>3.9</td>\n",
       "      <td>8099.0</td>\n",
       "      <td>44</td>\n",
       "      <td>151</td>\n",
       "      <td>9178.4</td>\n",
       "    </tr>\n",
       "    <tr>\n",
       "      <th>2018-03-04</th>\n",
       "      <td>774316</td>\n",
       "      <td>3.5</td>\n",
       "      <td>7114.8</td>\n",
       "      <td>36</td>\n",
       "      <td>114</td>\n",
       "      <td>7333.2</td>\n",
       "    </tr>\n",
       "    <tr>\n",
       "      <th>2018-03-05</th>\n",
       "      <td>854378</td>\n",
       "      <td>4.0</td>\n",
       "      <td>7775.6</td>\n",
       "      <td>44</td>\n",
       "      <td>146</td>\n",
       "      <td>8533.0</td>\n",
       "    </tr>\n",
       "  </tbody>\n",
       "</table>\n",
       "</div>"
      ],
      "text/plain": [
       "            ClientID  Discount  UnitPrice  Quantity  StoreID  INTotal\n",
       "Date                                                                 \n",
       "2018-03-01    662013       2.9     5509.0        31      115   5884.2\n",
       "2018-03-02    727556       3.5     6931.4        39      125   7700.0\n",
       "2018-03-03    826238       3.9     8099.0        44      151   9178.4\n",
       "2018-03-04    774316       3.5     7114.8        36      114   7333.2\n",
       "2018-03-05    854378       4.0     7775.6        44      146   8533.0"
      ]
     },
     "execution_count": 17,
     "metadata": {},
     "output_type": "execute_result"
    }
   ],
   "source": [
    "df_filtro = df.groupby('Date').sum()\n",
    "df_filtro.head()"
   ]
  },
  {
   "cell_type": "code",
   "execution_count": 18,
   "metadata": {},
   "outputs": [
    {
     "data": {
      "text/html": [
       "<div>\n",
       "<style scoped>\n",
       "    .dataframe tbody tr th:only-of-type {\n",
       "        vertical-align: middle;\n",
       "    }\n",
       "\n",
       "    .dataframe tbody tr th {\n",
       "        vertical-align: top;\n",
       "    }\n",
       "\n",
       "    .dataframe thead th {\n",
       "        text-align: right;\n",
       "    }\n",
       "</style>\n",
       "<table border=\"1\" class=\"dataframe\">\n",
       "  <thead>\n",
       "    <tr style=\"text-align: right;\">\n",
       "      <th></th>\n",
       "      <th>ClientID</th>\n",
       "      <th>Discount</th>\n",
       "      <th>UnitPrice</th>\n",
       "      <th>Quantity</th>\n",
       "      <th>StoreID</th>\n",
       "      <th>INTotal</th>\n",
       "    </tr>\n",
       "    <tr>\n",
       "      <th>Date</th>\n",
       "      <th></th>\n",
       "      <th></th>\n",
       "      <th></th>\n",
       "      <th></th>\n",
       "      <th></th>\n",
       "      <th></th>\n",
       "    </tr>\n",
       "  </thead>\n",
       "  <tbody>\n",
       "    <tr>\n",
       "      <th>2018-03-01</th>\n",
       "      <td>662013</td>\n",
       "      <td>2.9</td>\n",
       "      <td>5509.0</td>\n",
       "      <td>31</td>\n",
       "      <td>115</td>\n",
       "      <td>5884.2</td>\n",
       "    </tr>\n",
       "    <tr>\n",
       "      <th>2018-03-02</th>\n",
       "      <td>727556</td>\n",
       "      <td>3.5</td>\n",
       "      <td>6931.4</td>\n",
       "      <td>39</td>\n",
       "      <td>125</td>\n",
       "      <td>7700.0</td>\n",
       "    </tr>\n",
       "    <tr>\n",
       "      <th>2018-03-03</th>\n",
       "      <td>826238</td>\n",
       "      <td>3.9</td>\n",
       "      <td>8099.0</td>\n",
       "      <td>44</td>\n",
       "      <td>151</td>\n",
       "      <td>9178.4</td>\n",
       "    </tr>\n",
       "    <tr>\n",
       "      <th>2018-03-04</th>\n",
       "      <td>774316</td>\n",
       "      <td>3.5</td>\n",
       "      <td>7114.8</td>\n",
       "      <td>36</td>\n",
       "      <td>114</td>\n",
       "      <td>7333.2</td>\n",
       "    </tr>\n",
       "    <tr>\n",
       "      <th>2018-03-05</th>\n",
       "      <td>854378</td>\n",
       "      <td>4.0</td>\n",
       "      <td>7775.6</td>\n",
       "      <td>44</td>\n",
       "      <td>146</td>\n",
       "      <td>8533.0</td>\n",
       "    </tr>\n",
       "  </tbody>\n",
       "</table>\n",
       "</div>"
      ],
      "text/plain": [
       "            ClientID  Discount  UnitPrice  Quantity  StoreID  INTotal\n",
       "Date                                                                 \n",
       "2018-03-01    662013       2.9     5509.0        31      115   5884.2\n",
       "2018-03-02    727556       3.5     6931.4        39      125   7700.0\n",
       "2018-03-03    826238       3.9     8099.0        44      151   9178.4\n",
       "2018-03-04    774316       3.5     7114.8        36      114   7333.2\n",
       "2018-03-05    854378       4.0     7775.6        44      146   8533.0"
      ]
     },
     "execution_count": 18,
     "metadata": {},
     "output_type": "execute_result"
    }
   ],
   "source": [
    "df_filtro.head()"
   ]
  },
  {
   "cell_type": "code",
   "execution_count": 19,
   "metadata": {},
   "outputs": [],
   "source": [
    "#df_var.reset_index().groupby(pd.Grouper(key='Data', freq='Y')).sum().plot(figsize=(18,10), title='Evolução Anual das Variações das Ações e Selic')df_filtro = df_filtro.reset_index()\n",
    "# Agrupando por data\n",
    "df_filtro = df_filtro[['Date', 'INTotal']]\n",
    "df_filtro = df_filtro.groupby(pd.Grouper(key='Date', freq='M')).sum()\n",
    "\n"
   ]
  },
  {
   "cell_type": "code",
   "execution_count": 60,
   "metadata": {},
   "outputs": [],
   "source": [
    "# Extraindo rótulos\n",
    "labels_0 = df_filtro.reset_index()\n",
    "labels_0 = labels_0['Date'].to_list()\n",
    "#df_filtro.plot(kind='line')\n"
   ]
  },
  {
   "cell_type": "code",
   "execution_count": 62,
   "metadata": {},
   "outputs": [],
   "source": [
    "# Modelando rótulos\n",
    "labels = []\n",
    "for l in labels_0:\n",
    "    mes = l.month\n",
    "    ano = l.year\n",
    "    labels.append(f'{mes}/{ano}')"
   ]
  },
  {
   "cell_type": "code",
   "execution_count": 66,
   "metadata": {},
   "outputs": [
    {
     "data": {
      "text/html": [
       "<div>\n",
       "<style scoped>\n",
       "    .dataframe tbody tr th:only-of-type {\n",
       "        vertical-align: middle;\n",
       "    }\n",
       "\n",
       "    .dataframe tbody tr th {\n",
       "        vertical-align: top;\n",
       "    }\n",
       "\n",
       "    .dataframe thead th {\n",
       "        text-align: right;\n",
       "    }\n",
       "</style>\n",
       "<table border=\"1\" class=\"dataframe\">\n",
       "  <thead>\n",
       "    <tr style=\"text-align: right;\">\n",
       "      <th></th>\n",
       "      <th>Date</th>\n",
       "      <th>INTotal</th>\n",
       "    </tr>\n",
       "  </thead>\n",
       "  <tbody>\n",
       "    <tr>\n",
       "      <th>0</th>\n",
       "      <td>2018-03-31</td>\n",
       "      <td>276518.2</td>\n",
       "    </tr>\n",
       "    <tr>\n",
       "      <th>1</th>\n",
       "      <td>2018-04-30</td>\n",
       "      <td>277681.6</td>\n",
       "    </tr>\n",
       "    <tr>\n",
       "      <th>2</th>\n",
       "      <td>2018-05-31</td>\n",
       "      <td>297141.6</td>\n",
       "    </tr>\n",
       "    <tr>\n",
       "      <th>3</th>\n",
       "      <td>2018-06-30</td>\n",
       "      <td>380139.2</td>\n",
       "    </tr>\n",
       "    <tr>\n",
       "      <th>4</th>\n",
       "      <td>2018-07-31</td>\n",
       "      <td>393068.2</td>\n",
       "    </tr>\n",
       "    <tr>\n",
       "      <th>5</th>\n",
       "      <td>2018-08-31</td>\n",
       "      <td>386649.2</td>\n",
       "    </tr>\n",
       "    <tr>\n",
       "      <th>6</th>\n",
       "      <td>2018-09-30</td>\n",
       "      <td>364758.8</td>\n",
       "    </tr>\n",
       "    <tr>\n",
       "      <th>7</th>\n",
       "      <td>2018-10-31</td>\n",
       "      <td>324381.4</td>\n",
       "    </tr>\n",
       "    <tr>\n",
       "      <th>8</th>\n",
       "      <td>2018-11-30</td>\n",
       "      <td>411187.0</td>\n",
       "    </tr>\n",
       "    <tr>\n",
       "      <th>9</th>\n",
       "      <td>2018-12-31</td>\n",
       "      <td>516467.0</td>\n",
       "    </tr>\n",
       "    <tr>\n",
       "      <th>10</th>\n",
       "      <td>2019-01-31</td>\n",
       "      <td>234277.4</td>\n",
       "    </tr>\n",
       "    <tr>\n",
       "      <th>11</th>\n",
       "      <td>2019-02-28</td>\n",
       "      <td>187203.8</td>\n",
       "    </tr>\n",
       "    <tr>\n",
       "      <th>12</th>\n",
       "      <td>2019-03-31</td>\n",
       "      <td>316759.8</td>\n",
       "    </tr>\n",
       "    <tr>\n",
       "      <th>13</th>\n",
       "      <td>2019-04-30</td>\n",
       "      <td>286636.0</td>\n",
       "    </tr>\n",
       "    <tr>\n",
       "      <th>14</th>\n",
       "      <td>2019-05-31</td>\n",
       "      <td>314837.6</td>\n",
       "    </tr>\n",
       "    <tr>\n",
       "      <th>15</th>\n",
       "      <td>2019-06-30</td>\n",
       "      <td>494282.6</td>\n",
       "    </tr>\n",
       "    <tr>\n",
       "      <th>16</th>\n",
       "      <td>2019-07-31</td>\n",
       "      <td>269731.0</td>\n",
       "    </tr>\n",
       "    <tr>\n",
       "      <th>17</th>\n",
       "      <td>2019-08-31</td>\n",
       "      <td>495861.8</td>\n",
       "    </tr>\n",
       "    <tr>\n",
       "      <th>18</th>\n",
       "      <td>2019-09-30</td>\n",
       "      <td>285343.8</td>\n",
       "    </tr>\n",
       "    <tr>\n",
       "      <th>19</th>\n",
       "      <td>2019-10-31</td>\n",
       "      <td>251095.6</td>\n",
       "    </tr>\n",
       "    <tr>\n",
       "      <th>20</th>\n",
       "      <td>2019-11-30</td>\n",
       "      <td>276053.4</td>\n",
       "    </tr>\n",
       "    <tr>\n",
       "      <th>21</th>\n",
       "      <td>2019-12-31</td>\n",
       "      <td>478808.4</td>\n",
       "    </tr>\n",
       "    <tr>\n",
       "      <th>22</th>\n",
       "      <td>2020-01-31</td>\n",
       "      <td>170010.4</td>\n",
       "    </tr>\n",
       "  </tbody>\n",
       "</table>\n",
       "</div>"
      ],
      "text/plain": [
       "         Date   INTotal\n",
       "0  2018-03-31  276518.2\n",
       "1  2018-04-30  277681.6\n",
       "2  2018-05-31  297141.6\n",
       "3  2018-06-30  380139.2\n",
       "4  2018-07-31  393068.2\n",
       "5  2018-08-31  386649.2\n",
       "6  2018-09-30  364758.8\n",
       "7  2018-10-31  324381.4\n",
       "8  2018-11-30  411187.0\n",
       "9  2018-12-31  516467.0\n",
       "10 2019-01-31  234277.4\n",
       "11 2019-02-28  187203.8\n",
       "12 2019-03-31  316759.8\n",
       "13 2019-04-30  286636.0\n",
       "14 2019-05-31  314837.6\n",
       "15 2019-06-30  494282.6\n",
       "16 2019-07-31  269731.0\n",
       "17 2019-08-31  495861.8\n",
       "18 2019-09-30  285343.8\n",
       "19 2019-10-31  251095.6\n",
       "20 2019-11-30  276053.4\n",
       "21 2019-12-31  478808.4\n",
       "22 2020-01-31  170010.4"
      ]
     },
     "execution_count": 66,
     "metadata": {},
     "output_type": "execute_result"
    }
   ],
   "source": [
    "df_filtro.reset_index()"
   ]
  },
  {
   "cell_type": "code",
   "execution_count": 70,
   "metadata": {},
   "outputs": [
    {
     "data": {
      "text/plain": [
       "\"\\nfig, ax = plt.subplots()\\nbrazil_dataset.plot('UF', 'Population', ax = ax)\\nax.set_xticks(range(len(brazil_dataset['UF'])))\\nax.set_xticklabels(brazil_dataset['UF'])\\nplt.xticks(rotation = 45)\\nplt.show()\""
      ]
     },
     "execution_count": 70,
     "metadata": {},
     "output_type": "execute_result"
    },
    {
     "data": {
      "image/png": "[encoded data removed]",
      "text/plain": [
       "<Figure size 1296x576 with 1 Axes>"
      ]
     },
     "metadata": {
      "needs_background": "light"
     },
     "output_type": "display_data"
    }
   ],
   "source": [
    "df_filtro.reset_index().plot(figsize=(18, 8))\n",
    "plt.xticks(range(0, len(labels)), labels, rotation=90)\n",
    "'''\n",
    "fig, ax = plt.subplots()\n",
    "brazil_dataset.plot('UF', 'Population', ax = ax)\n",
    "ax.set_xticks(range(len(brazil_dataset['UF'])))\n",
    "ax.set_xticklabels(brazil_dataset['UF'])\n",
    "plt.xticks(rotation = 45)\n",
    "plt.show()'''"
   ]
  },
  {
   "cell_type": "code",
   "execution_count": 81,
   "metadata": {},
   "outputs": [
    {
     "data": {
      "image/png": "[encoded data removed]",
      "text/plain": [
       "<Figure size 864x576 with 1 Axes>"
      ]
     },
     "metadata": {
      "needs_background": "light"
     },
     "output_type": "display_data"
    }
   ],
   "source": [
    "x = sns.lineplot(x=labels, y=df_filtro['INTotal'], data=df_filtro)\n",
    "x.figure.set_size_inches(12, 8)"
   ]
  },
  {
   "cell_type": "code",
   "execution_count": null,
   "metadata": {},
   "outputs": [],
   "source": [
    "len labels"
   ]
  },
  {
   "cell_type": "code",
   "execution_count": 82,
   "metadata": {},
   "outputs": [
    {
     "data": {
      "text/plain": [
       "<bound method NDFrame.head of                                     ID             Name Size\n",
       "0    00066f42aeeb9f3007548bb9d3f33c381  Capitão América    P\n",
       "1    00066f42aeeb9f3007548bb9d3f33c382  Capitão América    M\n",
       "2    00066f42aeeb9f3007548bb9d3f33c383  Capitão América    G\n",
       "3    00088930e925c41fd95ebfe695fd26551             Thor    P\n",
       "4    00088930e925c41fd95ebfe695fd26552             Thor    M\n",
       "..                                 ...              ...  ...\n",
       "994                                NaN              NaN  NaN\n",
       "995                                NaN              NaN  NaN\n",
       "996                                NaN              NaN  NaN\n",
       "997                                NaN              NaN  NaN\n",
       "998                                NaN              NaN  NaN\n",
       "\n",
       "[999 rows x 3 columns]>"
      ]
     },
     "execution_count": 82,
     "metadata": {},
     "output_type": "execute_result"
    }
   ],
   "source": [
    "df = dados['produtos']\n"
   ]
  },
  {
   "cell_type": "code",
   "execution_count": 89,
   "metadata": {},
   "outputs": [
    {
     "data": {
      "text/html": [
       "<div>\n",
       "<style scoped>\n",
       "    .dataframe tbody tr th:only-of-type {\n",
       "        vertical-align: middle;\n",
       "    }\n",
       "\n",
       "    .dataframe tbody tr th {\n",
       "        vertical-align: top;\n",
       "    }\n",
       "\n",
       "    .dataframe thead th {\n",
       "        text-align: right;\n",
       "    }\n",
       "</style>\n",
       "<table border=\"1\" class=\"dataframe\">\n",
       "  <thead>\n",
       "    <tr style=\"text-align: right;\">\n",
       "      <th></th>\n",
       "      <th>ID</th>\n",
       "      <th>Name</th>\n",
       "      <th>Size</th>\n",
       "    </tr>\n",
       "  </thead>\n",
       "  <tbody>\n",
       "    <tr>\n",
       "      <th>0</th>\n",
       "      <td>00066f42aeeb9f3007548bb9d3f33c381</td>\n",
       "      <td>Capitão América</td>\n",
       "      <td>P</td>\n",
       "    </tr>\n",
       "    <tr>\n",
       "      <th>1</th>\n",
       "      <td>00066f42aeeb9f3007548bb9d3f33c382</td>\n",
       "      <td>Capitão América</td>\n",
       "      <td>M</td>\n",
       "    </tr>\n",
       "    <tr>\n",
       "      <th>2</th>\n",
       "      <td>00066f42aeeb9f3007548bb9d3f33c383</td>\n",
       "      <td>Capitão América</td>\n",
       "      <td>G</td>\n",
       "    </tr>\n",
       "    <tr>\n",
       "      <th>3</th>\n",
       "      <td>00088930e925c41fd95ebfe695fd26551</td>\n",
       "      <td>Thor</td>\n",
       "      <td>P</td>\n",
       "    </tr>\n",
       "    <tr>\n",
       "      <th>4</th>\n",
       "      <td>00088930e925c41fd95ebfe695fd26552</td>\n",
       "      <td>Thor</td>\n",
       "      <td>M</td>\n",
       "    </tr>\n",
       "    <tr>\n",
       "      <th>...</th>\n",
       "      <td>...</td>\n",
       "      <td>...</td>\n",
       "      <td>...</td>\n",
       "    </tr>\n",
       "    <tr>\n",
       "      <th>994</th>\n",
       "      <td>NaN</td>\n",
       "      <td>NaN</td>\n",
       "      <td>NaN</td>\n",
       "    </tr>\n",
       "    <tr>\n",
       "      <th>995</th>\n",
       "      <td>NaN</td>\n",
       "      <td>NaN</td>\n",
       "      <td>NaN</td>\n",
       "    </tr>\n",
       "    <tr>\n",
       "      <th>996</th>\n",
       "      <td>NaN</td>\n",
       "      <td>NaN</td>\n",
       "      <td>NaN</td>\n",
       "    </tr>\n",
       "    <tr>\n",
       "      <th>997</th>\n",
       "      <td>NaN</td>\n",
       "      <td>NaN</td>\n",
       "      <td>NaN</td>\n",
       "    </tr>\n",
       "    <tr>\n",
       "      <th>998</th>\n",
       "      <td>NaN</td>\n",
       "      <td>NaN</td>\n",
       "      <td>NaN</td>\n",
       "    </tr>\n",
       "  </tbody>\n",
       "</table>\n",
       "<p>999 rows × 3 columns</p>\n",
       "</div>"
      ],
      "text/plain": [
       "                                    ID             Name Size\n",
       "0    00066f42aeeb9f3007548bb9d3f33c381  Capitão América    P\n",
       "1    00066f42aeeb9f3007548bb9d3f33c382  Capitão América    M\n",
       "2    00066f42aeeb9f3007548bb9d3f33c383  Capitão América    G\n",
       "3    00088930e925c41fd95ebfe695fd26551             Thor    P\n",
       "4    00088930e925c41fd95ebfe695fd26552             Thor    M\n",
       "..                                 ...              ...  ...\n",
       "994                                NaN              NaN  NaN\n",
       "995                                NaN              NaN  NaN\n",
       "996                                NaN              NaN  NaN\n",
       "997                                NaN              NaN  NaN\n",
       "998                                NaN              NaN  NaN\n",
       "\n",
       "[999 rows x 3 columns]"
      ]
     },
     "execution_count": 89,
     "metadata": {},
     "output_type": "execute_result"
    }
   ],
   "source": [
    "df"
   ]
  },
  {
   "attachments": {},
   "cell_type": "markdown",
   "metadata": {},
   "source": [
    "____________________________________________________\n"
   ]
  },
  {
   "cell_type": "code",
   "execution_count": 97,
   "metadata": {},
   "outputs": [],
   "source": [
    "df = dados['vendas']"
   ]
  },
  {
   "cell_type": "code",
   "execution_count": 98,
   "metadata": {},
   "outputs": [
    {
     "data": {
      "text/html": [
       "<div>\n",
       "<style scoped>\n",
       "    .dataframe tbody tr th:only-of-type {\n",
       "        vertical-align: middle;\n",
       "    }\n",
       "\n",
       "    .dataframe tbody tr th {\n",
       "        vertical-align: top;\n",
       "    }\n",
       "\n",
       "    .dataframe thead th {\n",
       "        text-align: right;\n",
       "    }\n",
       "</style>\n",
       "<table border=\"1\" class=\"dataframe\">\n",
       "  <thead>\n",
       "    <tr style=\"text-align: right;\">\n",
       "      <th></th>\n",
       "      <th>ID</th>\n",
       "      <th>ProductID</th>\n",
       "      <th>ClientID</th>\n",
       "      <th>Discount</th>\n",
       "      <th>UnitPrice</th>\n",
       "      <th>Quantity</th>\n",
       "      <th>StoreID</th>\n",
       "      <th>Date</th>\n",
       "      <th>INTotal</th>\n",
       "    </tr>\n",
       "  </thead>\n",
       "  <tbody>\n",
       "    <tr>\n",
       "      <th>0</th>\n",
       "      <td>80260d682079b6090c8285b398c50d97</td>\n",
       "      <td>002552c0663708129c0019cc97552d7d3</td>\n",
       "      <td>14001</td>\n",
       "      <td>0.08</td>\n",
       "      <td>249.2</td>\n",
       "      <td>1</td>\n",
       "      <td>4</td>\n",
       "      <td>2018-12-10</td>\n",
       "      <td>249.2</td>\n",
       "    </tr>\n",
       "    <tr>\n",
       "      <th>1</th>\n",
       "      <td>3275736da1234f55d52bdf09d86b93bc</td>\n",
       "      <td>001b237c0e9bb435f2e54071129237e93</td>\n",
       "      <td>14001</td>\n",
       "      <td>0.10</td>\n",
       "      <td>162.4</td>\n",
       "      <td>1</td>\n",
       "      <td>4</td>\n",
       "      <td>2019-04-25</td>\n",
       "      <td>162.4</td>\n",
       "    </tr>\n",
       "    <tr>\n",
       "      <th>2</th>\n",
       "      <td>f3513eec8f1434b5b7e04ddf3598df40</td>\n",
       "      <td>00066f42aeeb9f3007548bb9d3f33c381</td>\n",
       "      <td>14001</td>\n",
       "      <td>0.10</td>\n",
       "      <td>194.6</td>\n",
       "      <td>1</td>\n",
       "      <td>4</td>\n",
       "      <td>2019-07-17</td>\n",
       "      <td>194.6</td>\n",
       "    </tr>\n",
       "    <tr>\n",
       "      <th>3</th>\n",
       "      <td>7180475b60fe6bbbde424d39704a1177</td>\n",
       "      <td>001b72dfd63e9833e8c02742adf472e33</td>\n",
       "      <td>14002</td>\n",
       "      <td>0.10</td>\n",
       "      <td>201.6</td>\n",
       "      <td>2</td>\n",
       "      <td>1</td>\n",
       "      <td>2018-04-10</td>\n",
       "      <td>403.2</td>\n",
       "    </tr>\n",
       "    <tr>\n",
       "      <th>4</th>\n",
       "      <td>76600853a200fe87e141adae6b35674c</td>\n",
       "      <td>00210e41887c2a8ef9f791ebc780cc363</td>\n",
       "      <td>14002</td>\n",
       "      <td>0.10</td>\n",
       "      <td>406.0</td>\n",
       "      <td>1</td>\n",
       "      <td>1</td>\n",
       "      <td>2019-01-21</td>\n",
       "      <td>406.0</td>\n",
       "    </tr>\n",
       "    <tr>\n",
       "      <th>...</th>\n",
       "      <td>...</td>\n",
       "      <td>...</td>\n",
       "      <td>...</td>\n",
       "      <td>...</td>\n",
       "      <td>...</td>\n",
       "      <td>...</td>\n",
       "      <td>...</td>\n",
       "      <td>...</td>\n",
       "      <td>...</td>\n",
       "    </tr>\n",
       "    <tr>\n",
       "      <th>32748</th>\n",
       "      <td>b155e2a8589d40bc9c0381ee48e3204f</td>\n",
       "      <td>002ec297b1b00fb9dde7ee6ac24b67712</td>\n",
       "      <td>28694</td>\n",
       "      <td>0.08</td>\n",
       "      <td>218.4</td>\n",
       "      <td>1</td>\n",
       "      <td>4</td>\n",
       "      <td>2018-12-02</td>\n",
       "      <td>218.4</td>\n",
       "    </tr>\n",
       "    <tr>\n",
       "      <th>32749</th>\n",
       "      <td>abb71d0110c4be1a1a0c52f929cab4a3</td>\n",
       "      <td>002d4ea7c04739c130bb74d7e7cd16943</td>\n",
       "      <td>28694</td>\n",
       "      <td>0.08</td>\n",
       "      <td>210.0</td>\n",
       "      <td>1</td>\n",
       "      <td>4</td>\n",
       "      <td>2018-12-05</td>\n",
       "      <td>210.0</td>\n",
       "    </tr>\n",
       "    <tr>\n",
       "      <th>32750</th>\n",
       "      <td>db9a034f34174edd577b9f64cc982952</td>\n",
       "      <td>001795ec6f1b187d37335e1c4704762e3</td>\n",
       "      <td>28694</td>\n",
       "      <td>0.08</td>\n",
       "      <td>148.4</td>\n",
       "      <td>1</td>\n",
       "      <td>4</td>\n",
       "      <td>2019-08-01</td>\n",
       "      <td>148.4</td>\n",
       "    </tr>\n",
       "    <tr>\n",
       "      <th>32751</th>\n",
       "      <td>ee00fa5093eb96d8573403b382fb60a8</td>\n",
       "      <td>002ec297b1b00fb9dde7ee6ac24b67713</td>\n",
       "      <td>28694</td>\n",
       "      <td>0.10</td>\n",
       "      <td>218.4</td>\n",
       "      <td>2</td>\n",
       "      <td>4</td>\n",
       "      <td>2019-11-25</td>\n",
       "      <td>436.8</td>\n",
       "    </tr>\n",
       "    <tr>\n",
       "      <th>32752</th>\n",
       "      <td>56c87d433bb46c7862e35e791b1907fa</td>\n",
       "      <td>0009406fd7479715e4bef61dd91f24622</td>\n",
       "      <td>28695</td>\n",
       "      <td>0.10</td>\n",
       "      <td>254.8</td>\n",
       "      <td>1</td>\n",
       "      <td>4</td>\n",
       "      <td>2018-07-04</td>\n",
       "      <td>254.8</td>\n",
       "    </tr>\n",
       "  </tbody>\n",
       "</table>\n",
       "<p>32753 rows × 9 columns</p>\n",
       "</div>"
      ],
      "text/plain": [
       "                                     ID                          ProductID  \\\n",
       "0      80260d682079b6090c8285b398c50d97  002552c0663708129c0019cc97552d7d3   \n",
       "1      3275736da1234f55d52bdf09d86b93bc  001b237c0e9bb435f2e54071129237e93   \n",
       "2      f3513eec8f1434b5b7e04ddf3598df40  00066f42aeeb9f3007548bb9d3f33c381   \n",
       "3      7180475b60fe6bbbde424d39704a1177  001b72dfd63e9833e8c02742adf472e33   \n",
       "4      76600853a200fe87e141adae6b35674c  00210e41887c2a8ef9f791ebc780cc363   \n",
       "...                                 ...                                ...   \n",
       "32748  b155e2a8589d40bc9c0381ee48e3204f  002ec297b1b00fb9dde7ee6ac24b67712   \n",
       "32749  abb71d0110c4be1a1a0c52f929cab4a3  002d4ea7c04739c130bb74d7e7cd16943   \n",
       "32750  db9a034f34174edd577b9f64cc982952  001795ec6f1b187d37335e1c4704762e3   \n",
       "32751  ee00fa5093eb96d8573403b382fb60a8  002ec297b1b00fb9dde7ee6ac24b67713   \n",
       "32752  56c87d433bb46c7862e35e791b1907fa  0009406fd7479715e4bef61dd91f24622   \n",
       "\n",
       "       ClientID  Discount  UnitPrice  Quantity  StoreID       Date  INTotal  \n",
       "0         14001      0.08      249.2         1        4 2018-12-10    249.2  \n",
       "1         14001      0.10      162.4         1        4 2019-04-25    162.4  \n",
       "2         14001      0.10      194.6         1        4 2019-07-17    194.6  \n",
       "3         14002      0.10      201.6         2        1 2018-04-10    403.2  \n",
       "4         14002      0.10      406.0         1        1 2019-01-21    406.0  \n",
       "...         ...       ...        ...       ...      ...        ...      ...  \n",
       "32748     28694      0.08      218.4         1        4 2018-12-02    218.4  \n",
       "32749     28694      0.08      210.0         1        4 2018-12-05    210.0  \n",
       "32750     28694      0.08      148.4         1        4 2019-08-01    148.4  \n",
       "32751     28694      0.10      218.4         2        4 2019-11-25    436.8  \n",
       "32752     28695      0.10      254.8         1        4 2018-07-04    254.8  \n",
       "\n",
       "[32753 rows x 9 columns]"
      ]
     },
     "execution_count": 98,
     "metadata": {},
     "output_type": "execute_result"
    }
   ],
   "source": [
    "df"
   ]
  },
  {
   "cell_type": "code",
   "execution_count": null,
   "metadata": {},
   "outputs": [],
   "source": []
  }
 ],
 "metadata": {
  "kernelspec": {
   "display_name": "Python 3.10.4 64-bit",
   "language": "python",
   "name": "python3"
  },
  "language_info": {
   "codemirror_mode": {
    "name": "ipython",
    "version": 3
   },
   "file_extension": ".py",
   "mimetype": "text/x-python",
   "name": "python",
   "nbconvert_exporter": "python",
   "pygments_lexer": "ipython3"
  },
  "orig_nbformat": 4,
  "vscode": {
   "interpreter": {
    "hash": "5d11380547bba1e6c4b0ab7b7614350493a6d4caf256d9be4e363829d8f5c452"
   }
  }
 },
 "nbformat": 4,
 "nbformat_minor": 2
}
