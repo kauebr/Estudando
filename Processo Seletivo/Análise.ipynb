{
 "cells": [
  {
   "attachments": {},
   "cell_type": "markdown",
   "metadata": {},
   "source": [
    "<img src=\"https://i.ibb.co/K5n24Nd/1.png\"  alt=\"KCode Banner\"  />\n",
    "\n",
    "<a href=\"https://www.linkedin.com/in/kauebr/\"><img src=\"https://cdn-icons-png.flaticon.com/512/174/174857.png\" width=\"30\" ></a> <a href=\"mailto: kauemandarino@gmail.com\"><img src=\"https://cdn-icons-png.flaticon.com/512/5968/5968534.png\" width=\"30\" ></a><a href=\"\n",
    "https://api.whatsapp.com/send?phone=5541991835800&text=Oi\"> <img src=\"https://imagepng.org/wp-content/uploads/2017/08/whatsapp-icone-1.png\" width=\"30\" ></a><a href=\"https://github.com/kauebr/\"><img src=\"https://github.githubassets.com/images/modules/logos_page/Octocat.png\" width=\"30\" ></a>\n",
    "\n"
   ]
  },
  {
   "attachments": {},
   "cell_type": "markdown",
   "metadata": {},
   "source": [
    "# Prova de conhecimentos, Cientista de Dados Junior\n",
    "<img src=\"https://media-exp1.licdn.com/dms/image/C4D0BAQH1wOIHXfQBfw/company-logo_200_200/0/1635965593825?e=2147483647&v=beta&t=TyfxHrgFk4J5iUpdfnRsvEwxLekHz4ADGIn0iTWS2dU\"  alt=\"Banner da Empresa\"  /> \n",
    "\n",
    "Segundo o [site da empresa]('https://www.bixtecnologia.com.br/carreiras/')  a BIX Tecnologia é uma consultoria de dados sediada em Florianópolis com atuação em todo o Brasil.\n",
    "\n",
    "\n",
    "\n",
    "\n",
    "## Objetivo:\n",
    "* Demonstrar meus conhecimentos em ciência de dados, através da simulação de análise de dados. \n",
    "\n",
    "\n",
    "## Pontos Importantes\n",
    "* Só existe uma resposta correta para cada uma das perguntas\n",
    "\n",
    "## O que esta sendo avaliado:\n",
    "\n",
    "- Conceitos de Data Science (DS) e Machine Learning (ML);\n",
    "\n",
    "- Manipulação de dados;\n",
    "\n",
    "- Estatística básica;\n",
    "\n",
    "- Criação e avaliação de gráficos;\n",
    "\n",
    "- Entendimento de negócio."
   ]
  },
  {
   "cell_type": "code",
   "execution_count": null,
   "metadata": {},
   "outputs": [],
   "source": [
    "# Importando bibliotecas pertinentes\n",
    "import pandas as pd\n",
    "import matplotlib.pyplot as plt\n",
    "import numpy as np"
   ]
  },
  {
   "attachments": {},
   "cell_type": "markdown",
   "metadata": {},
   "source": [
    "# Criando nosso conjunto de dados"
   ]
  },
  {
   "attachments": {},
   "cell_type": "markdown",
   "metadata": {},
   "source": [
    "O [dataframe]('https://docs.google.com/spreadsheets/d/1Sc6hN48b-lWbDdYNd_t9j8Bt0EZ8BUNG/edit#gid=786849803') apresentado pela Bix, foi previamente limpo no Excel, e dividido em em 4 sub-arquivos .csv, vamos importá-los a seguir."
   ]
  },
  {
   "cell_type": "code",
   "execution_count": null,
   "metadata": {},
   "outputs": [],
   "source": [
    "vendas = pd.read_csv('C:/Users/manda/OneDrive/Documents/GitHub/Estudando/Processo Seletivo/Dados em csv/Dados de Vendas.csv',encoding='latin1')\n",
    "consumidores = pd.read_csv('C:/Users/manda/OneDrive/Documents/GitHub/Estudando/Processo Seletivo/Dados em csv/Dados de Consumidores.csv',encoding='latin1')\n",
    "lojas = pd.read_csv('C:/Users/manda/OneDrive/Documents/GitHub/Estudando/Processo Seletivo/Dados em csv/Dados de Lojas.csv',encoding='latin1')\n",
    "produtos = pd.read_csv('C:/Users/manda/OneDrive/Documents/GitHub/Estudando/Processo Seletivo/Dados em csv/Dados de Produtos.csv',encoding='latin1')\n",
    "\n",
    "# Criando um dicionário para abrigar nosso conjunto de dados\n",
    "dados = {'vendas': vendas, 'consumidores' : consumidores, 'lojas': lojas, 'produtos': produtos}"
   ]
  },
  {
   "attachments": {},
   "cell_type": "markdown",
   "metadata": {},
   "source": [
    "> Os agora dados estão armezenados em um dicionário nomeado \"dados\""
   ]
  },
  {
   "attachments": {},
   "cell_type": "markdown",
   "metadata": {},
   "source": [
    "## Validação\n",
    "> Vou chamar o conjunto de dados referente aos produtos para verificar se tudo ocorreu da forma correta"
   ]
  },
  {
   "cell_type": "code",
   "execution_count": null,
   "metadata": {},
   "outputs": [],
   "source": [
    "dados['produtos'].head(3)"
   ]
  },
  {
   "attachments": {},
   "cell_type": "markdown",
   "metadata": {},
   "source": [
    "> Etapa de carregamento dos dados terminada com sucesso\n",
    "_____________________________________________________________________________________________________________________________________________________________________________"
   ]
  },
  {
   "attachments": {},
   "cell_type": "markdown",
   "metadata": {},
   "source": [
    "# Apanhado Geral\n",
    ">Como o questionário a ser respondido, provavelmente tem tempo, vamos antes dar uma olhada geral nos dados para ter um entendimento do que esta acontecendo e tentar prever possíveis questionamentos, aumentando assim as nossas chances de destaque, visto que segundo o site do anúncio existem entre 500 a 1000 candidatos participando do processo."
   ]
  },
  {
   "attachments": {},
   "cell_type": "markdown",
   "metadata": {},
   "source": [
    ">  Vamos tratar e análisar os dados individualmente, seguindo a seguinte ordem:  \n",
    "1 - vendas  \n",
    "2 - consumidores  \n",
    "3 - lojas  \n",
    "4 - produtos"
   ]
  },
  {
   "attachments": {},
   "cell_type": "markdown",
   "metadata": {},
   "source": [
    "# Dados de vendas"
   ]
  },
  {
   "attachments": {},
   "cell_type": "markdown",
   "metadata": {},
   "source": [
    "## Entendendo os dados"
   ]
  },
  {
   "attachments": {},
   "cell_type": "markdown",
   "metadata": {},
   "source": [
    "Headers:\n",
    "\n",
    "- ID: identificador único de uma venda\n",
    "\n",
    "- ProductID: identificador único de um produto\n",
    "\n",
    "- ClientID: identificador único de um cliente\n",
    "\n",
    "- Discount: desconto aplicado em uma venda\n",
    "\n",
    "- UnitPrice: preço unitário de um produto vendido\n",
    "\n",
    "- Quantity: quantidade de produto vendido em uma venda\n",
    "\n",
    "- StoreID: identificador único de uma loja\n",
    "\n",
    "- Date: data de uma venda"
   ]
  },
  {
   "attachments": {},
   "cell_type": "markdown",
   "metadata": {},
   "source": [
    "> Colocando os dados de venda na nossa variável `df`"
   ]
  },
  {
   "cell_type": "code",
   "execution_count": null,
   "metadata": {},
   "outputs": [],
   "source": [
    "df = dados['vendas']"
   ]
  },
  {
   "attachments": {},
   "cell_type": "markdown",
   "metadata": {},
   "source": [
    "> Verificando o tamanho do nosso conjunto de dados (`linhas`, `colunas`)"
   ]
  },
  {
   "cell_type": "code",
   "execution_count": null,
   "metadata": {},
   "outputs": [],
   "source": [
    "df.shape"
   ]
  },
  {
   "attachments": {},
   "cell_type": "markdown",
   "metadata": {},
   "source": [
    "## Tipagem de dados\n",
    "\n",
    ">Abaixo iremos observar se a tipagem dos dados esta correta"
   ]
  },
  {
   "cell_type": "code",
   "execution_count": null,
   "metadata": {},
   "outputs": [],
   "source": [
    "df.info()"
   ]
  },
  {
   "attachments": {},
   "cell_type": "markdown",
   "metadata": {},
   "source": [
    "\n",
    ">Aqui posso verificar um erro, a data esta como formato `object`, vamos converter para `date64`, o padrão do pandas para trabalhar com valores temporais."
   ]
  },
  {
   "cell_type": "code",
   "execution_count": null,
   "metadata": {},
   "outputs": [],
   "source": [
    "df['Date'] = pd.to_datetime(df['Date'])\n",
    "df.info()\n"
   ]
  },
  {
   "attachments": {},
   "cell_type": "markdown",
   "metadata": {},
   "source": [
    ">Modelagem do tipo da data feita com sucesso, como podemos ver agora estamos trabalhando com o tipo `datetime64[ns]`"
   ]
  },
  {
   "attachments": {},
   "cell_type": "markdown",
   "metadata": {},
   "source": [
    "# Estatística dos dados\n",
    ">Abaixo vamos ver uma breve descrição estatística dos dados"
   ]
  },
  {
   "cell_type": "code",
   "execution_count": null,
   "metadata": {},
   "outputs": [],
   "source": [
    "df.describe()"
   ]
  },
  {
   "attachments": {},
   "cell_type": "markdown",
   "metadata": {},
   "source": [
    "## nan ou null?\n",
    "> A seguir, observaremos a existência de valores nulos ou não numéricos"
   ]
  },
  {
   "cell_type": "code",
   "execution_count": null,
   "metadata": {},
   "outputs": [],
   "source": [
    "df.isna().sum()"
   ]
  },
  {
   "cell_type": "code",
   "execution_count": null,
   "metadata": {},
   "outputs": [],
   "source": [
    "df.isnull().sum()"
   ]
  },
  {
   "attachments": {},
   "cell_type": "markdown",
   "metadata": {},
   "source": [
    "> Não estamos trabalhando com dados nulos no conjunto de dados de `vendas`"
   ]
  },
  {
   "attachments": {},
   "cell_type": "markdown",
   "metadata": {},
   "source": [
    "> Uma vez importados os dados, e verificada a consistência dos mesmo, vamos partir para a análise exploratória."
   ]
  },
  {
   "attachments": {},
   "cell_type": "markdown",
   "metadata": {},
   "source": [
    "# Análise exploratória dos dados\n"
   ]
  },
  {
   "attachments": {},
   "cell_type": "markdown",
   "metadata": {},
   "source": [
    "##"
   ]
  },
  {
   "attachments": {},
   "cell_type": "markdown",
   "metadata": {},
   "source": [
    "## Ranking das lojas que mais venderam\n",
    "> Cada loja tem um ID único, vamos verificar primeiro quantas lojas temos"
   ]
  },
  {
   "cell_type": "code",
   "execution_count": null,
   "metadata": {},
   "outputs": [],
   "source": [
    "print(f\"Total de lojas: {len(df['StoreID'].unique())}\")"
   ]
  },
  {
   "attachments": {},
   "cell_type": "markdown",
   "metadata": {},
   "source": [
    "> Vamos incluir uma coluna com o somatório das vendas(produto vendido * quantidade vendida)"
   ]
  },
  {
   "cell_type": "code",
   "execution_count": null,
   "metadata": {},
   "outputs": [],
   "source": [
    "df['INTotal'] = df['UnitPrice'] * df['Quantity']\n",
    "df.head()"
   ]
  },
  {
   "attachments": {},
   "cell_type": "markdown",
   "metadata": {},
   "source": [
    ">Agora vamos montar o ranking de venda por loja"
   ]
  },
  {
   "cell_type": "code",
   "execution_count": null,
   "metadata": {},
   "outputs": [],
   "source": [
    "# Filtrando nosso conjunto de dados\n",
    "df_filtro = df[['StoreID', 'INTotal']]\n",
    "\n",
    "# Agrupando por Id único de cliente\n",
    "df_filtro = df_filtro.groupby('StoreID').sum()\n",
    "\n",
    "# Organizando em ordem decrescente\n",
    "df_filtro = df_filtro['INTotal'].sort_values(ascending=False)\n",
    "\n",
    "\n",
    "plt.ylabel('Total Vendas')\n",
    "df_filtro.plot(kind='bar',figsize=(18, 8), title='Lojas que mais venderam')\n"
   ]
  },
  {
   "attachments": {},
   "cell_type": "markdown",
   "metadata": {},
   "source": [
    ">Existe uma diferença grande de vendas entre as lojas"
   ]
  },
  {
   "attachments": {},
   "cell_type": "markdown",
   "metadata": {},
   "source": [
    "> Vamos ver se esta diferença tem alguma correlação com os descontos ofertados"
   ]
  },
  {
   "cell_type": "code",
   "execution_count": null,
   "metadata": {},
   "outputs": [],
   "source": [
    "# Filtrando nosso conjunto de dados\n",
    "df_filtro2 = df[['StoreID', 'Discount']]\n",
    "\n",
    "# Agrupando por Id único de cliente\n",
    "df_filtro2 = df_filtro2.groupby('StoreID').mean()\n",
    "\n",
    "# Organizando em ordem decrescente\n",
    "df_filtro2 = df_filtro2['Discount'].sort_values(ascending=False)\n",
    "\n",
    "df_filtro2\n"
   ]
  },
  {
   "attachments": {},
   "cell_type": "markdown",
   "metadata": {},
   "source": [
    "> Os valores estão bem próximos, não indicando correlação na variável"
   ]
  },
  {
   "attachments": {},
   "cell_type": "markdown",
   "metadata": {},
   "source": [
    "# Série histórica\n",
    "> Agora vamos dar uma olhada no nosso dataframe como série histórica"
   ]
  },
  {
   "cell_type": "code",
   "execution_count": null,
   "metadata": {},
   "outputs": [],
   "source": [
    "df['Date']"
   ]
  },
  {
   "attachments": {},
   "cell_type": "markdown",
   "metadata": {},
   "source": [
    "> Inicialmente vejo que os dados não estão classificados por ordem de data, vamo fazer isto."
   ]
  },
  {
   "cell_type": "code",
   "execution_count": null,
   "metadata": {},
   "outputs": [],
   "source": [
    "# Classificando por data\n",
    "df['Date'].sort_values()"
   ]
  },
  {
   "attachments": {},
   "cell_type": "markdown",
   "metadata": {},
   "source": [
    ">Podemos ver. que estamos trabalhando com uma série histórica, que vai de `01-03-2018` até `31-01-2021`  \n",
    "Agora iremos ordenar nosso conjunto de dados como um série temporal"
   ]
  },
  {
   "cell_type": "code",
   "execution_count": null,
   "metadata": {},
   "outputs": [],
   "source": [
    "df_filtro = df.groupby('Date').sum()\n",
    "df_filtro.head()"
   ]
  },
  {
   "cell_type": "code",
   "execution_count": null,
   "metadata": {},
   "outputs": [],
   "source": [
    "# Plotando um gráfico histórico\n",
    "\n",
    "df_filtro = df_filtro['INTotal']\n",
    "df_filtro.plot()"
   ]
  },
  {
   "attachments": {},
   "cell_type": "markdown",
   "metadata": {},
   "source": [
    "____________________________________________________\n"
   ]
  },
  {
   "cell_type": "code",
   "execution_count": null,
   "metadata": {},
   "outputs": [],
   "source": []
  }
 ],
 "metadata": {
  "kernelspec": {
   "display_name": "Python 3.10.4 64-bit",
   "language": "python",
   "name": "python3"
  },
  "language_info": {
   "codemirror_mode": {
    "name": "ipython",
    "version": 3
   },
   "file_extension": ".py",
   "mimetype": "text/x-python",
   "name": "python",
   "nbconvert_exporter": "python",
   "pygments_lexer": "ipython3",
   "version": "3.10.4"
  },
  "orig_nbformat": 4,
  "vscode": {
   "interpreter": {
    "hash": "5d11380547bba1e6c4b0ab7b7614350493a6d4caf256d9be4e363829d8f5c452"
   }
  }
 },
 "nbformat": 4,
 "nbformat_minor": 2
}
