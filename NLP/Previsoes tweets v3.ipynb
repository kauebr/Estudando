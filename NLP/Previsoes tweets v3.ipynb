{
 "cells": [
  {
   "cell_type": "code",
   "execution_count": 1,
   "id": "816600dd",
   "metadata": {
    "_cell_guid": "b1076dfc-b9ad-4769-8c92-a6c4dae69d19",
    "_uuid": "8f2839f25d086af736a60e9eeb907d3b93b6e0e5",
    "execution": {
     "iopub.execute_input": "2023-05-28T12:02:22.241231Z",
     "iopub.status.busy": "2023-05-28T12:02:22.240835Z",
     "iopub.status.idle": "2023-05-28T12:02:22.256363Z",
     "shell.execute_reply": "2023-05-28T12:02:22.255154Z"
    },
    "papermill": {
     "duration": 0.032731,
     "end_time": "2023-05-28T12:02:22.259238",
     "exception": false,
     "start_time": "2023-05-28T12:02:22.226507",
     "status": "completed"
    },
    "tags": []
   },
   "outputs": [
    {
     "name": "stdout",
     "output_type": "stream",
     "text": [
      "/kaggle/input/nlp-getting-started/sample_submission.csv\n",
      "/kaggle/input/nlp-getting-started/train.csv\n",
      "/kaggle/input/nlp-getting-started/test.csv\n"
     ]
    }
   ],
   "source": [
    "# This Python 3 environment comes with many helpful analytics libraries installed\n",
    "# It is defined by the kaggle/python Docker image: https://github.com/kaggle/docker-python\n",
    "# For example, here's several helpful packages to load\n",
    "\n",
    "import numpy as np # linear algebra\n",
    "import pandas as pd # data processing, CSV file I/O (e.g. pd.read_csv)\n",
    "\n",
    "# Input data files are available in the read-only \"../input/\" directory\n",
    "# For example, running this (by clicking run or pressing Shift+Enter) will list all files under the input directory\n",
    "\n",
    "import os\n",
    "for dirname, _, filenames in os.walk('/kaggle/input'):\n",
    "    for filename in filenames:\n",
    "        print(os.path.join(dirname, filename))\n",
    "\n",
    "# You can write up to 20GB to the current directory (/kaggle/working/) that gets preserved as output when you create a version using \"Save & Run All\" \n",
    "# You can also write temporary files to /kaggle/temp/, but they won't be saved outside of the current session"
   ]
  },
  {
   "cell_type": "markdown",
   "id": "b2649d4d",
   "metadata": {
    "papermill": {
     "duration": 0.009901,
     "end_time": "2023-05-28T12:02:22.280078",
     "exception": false,
     "start_time": "2023-05-28T12:02:22.270177",
     "status": "completed"
    },
    "tags": []
   },
   "source": [
    "\n",
    "<img src=\"https://i.ibb.co/1T5Wbn6/Banner-para-Linkedin-capa-de-perfil-para-programador.png\"  alt=\"KCode Banner\"  />\n",
    "\n",
    "<a href=\"https://www.linkedin.com/in/kauebr/\"><img src=\"https://cdn-icons-png.flaticon.com/512/174/174857.png\" width=\"30\" ></a> <a href=\"mailto: kauemandarino@gmail.com\"><img src=\"https://cdn-icons-png.flaticon.com/512/5968/5968534.png\" width=\"30\" ></a><a href=\"\n",
    "https://api.whatsapp.com/send?phone=554192811435&text=Oi\"> <img src=\"https://imagepng.org/wp-content/uploads/2017/08/whatsapp-icone-1.png\" width=\"30\" ></a><a href=\"https://github.com/kauebr/\"><img src=\"https://github.githubassets.com/images/modules/logos_page/Octocat.png\" width=\"30\" ></a>\n"
   ]
  },
  {
   "cell_type": "markdown",
   "id": "4bd3fe85",
   "metadata": {
    "papermill": {
     "duration": 0.009783,
     "end_time": "2023-05-28T12:02:22.300154",
     "exception": false,
     "start_time": "2023-05-28T12:02:22.290371",
     "status": "completed"
    },
    "tags": []
   },
   "source": [
    "# Competição Kaggle: NLP com Tweets de Desastres - Previsão de Tweets sobre Desastres Reais"
   ]
  },
  {
   "cell_type": "markdown",
   "id": "d164c726",
   "metadata": {
    "papermill": {
     "duration": 0.010296,
     "end_time": "2023-05-28T12:02:22.321024",
     "exception": false,
     "start_time": "2023-05-28T12:02:22.310728",
     "status": "completed"
    },
    "tags": []
   },
   "source": [
    "Neste notebook, abordamos a competição Kaggle 'NLP com Tweets de Desastres'. O objetivo é classificar tweets como relacionados a desastres reais ou não. "
   ]
  },
  {
   "cell_type": "markdown",
   "id": "51e9d4fc",
   "metadata": {
    "papermill": {
     "duration": 0.010089,
     "end_time": "2023-05-28T12:02:22.341766",
     "exception": false,
     "start_time": "2023-05-28T12:02:22.331677",
     "status": "completed"
    },
    "tags": []
   },
   "source": [
    "# O objetivo:\n",
    "* Prever quais tweets estão relacionados a desastres reais e quais não estão."
   ]
  },
  {
   "cell_type": "markdown",
   "id": "96610a94",
   "metadata": {
    "papermill": {
     "duration": 0.009946,
     "end_time": "2023-05-28T12:02:22.361977",
     "exception": false,
     "start_time": "2023-05-28T12:02:22.352031",
     "status": "completed"
    },
    "tags": []
   },
   "source": [
    "Me foi disponibilizado 2 datasets, um de teste e um de treino, vou iniciar pegando só o dataframe de treino, e subdividir ele em treino/teste para que eu possa avaliar a eficácia do meu modelo antes da postagem das previsões reais."
   ]
  },
  {
   "cell_type": "code",
   "execution_count": 2,
   "id": "cba1210a",
   "metadata": {
    "execution": {
     "iopub.execute_input": "2023-05-28T12:02:22.384464Z",
     "iopub.status.busy": "2023-05-28T12:02:22.384070Z",
     "iopub.status.idle": "2023-05-28T12:02:22.388611Z",
     "shell.execute_reply": "2023-05-28T12:02:22.387443Z"
    },
    "papermill": {
     "duration": 0.018624,
     "end_time": "2023-05-28T12:02:22.390888",
     "exception": false,
     "start_time": "2023-05-28T12:02:22.372264",
     "status": "completed"
    },
    "tags": []
   },
   "outputs": [],
   "source": [
    "# Importando biliotecas necessárias\n",
    "import pandas as pd"
   ]
  },
  {
   "cell_type": "code",
   "execution_count": 3,
   "id": "9d7fa4a3",
   "metadata": {
    "execution": {
     "iopub.execute_input": "2023-05-28T12:02:22.414141Z",
     "iopub.status.busy": "2023-05-28T12:02:22.412862Z",
     "iopub.status.idle": "2023-05-28T12:02:22.495881Z",
     "shell.execute_reply": "2023-05-28T12:02:22.494620Z"
    },
    "papermill": {
     "duration": 0.097607,
     "end_time": "2023-05-28T12:02:22.498961",
     "exception": false,
     "start_time": "2023-05-28T12:02:22.401354",
     "status": "completed"
    },
    "tags": []
   },
   "outputs": [],
   "source": [
    "# Criando conjunto de dados\n",
    "df = pd.read_csv('/kaggle/input/nlp-getting-started/train.csv')\n",
    "df_teste = pd.read_csv('/kaggle/input/nlp-getting-started/test.csv')"
   ]
  },
  {
   "cell_type": "code",
   "execution_count": 4,
   "id": "acb32c97",
   "metadata": {
    "execution": {
     "iopub.execute_input": "2023-05-28T12:02:22.521948Z",
     "iopub.status.busy": "2023-05-28T12:02:22.521501Z",
     "iopub.status.idle": "2023-05-28T12:02:22.560748Z",
     "shell.execute_reply": "2023-05-28T12:02:22.559639Z"
    },
    "papermill": {
     "duration": 0.054082,
     "end_time": "2023-05-28T12:02:22.563574",
     "exception": false,
     "start_time": "2023-05-28T12:02:22.509492",
     "status": "completed"
    },
    "tags": []
   },
   "outputs": [
    {
     "data": {
      "text/html": [
       "<div>\n",
       "<style scoped>\n",
       "    .dataframe tbody tr th:only-of-type {\n",
       "        vertical-align: middle;\n",
       "    }\n",
       "\n",
       "    .dataframe tbody tr th {\n",
       "        vertical-align: top;\n",
       "    }\n",
       "\n",
       "    .dataframe thead th {\n",
       "        text-align: right;\n",
       "    }\n",
       "</style>\n",
       "<table border=\"1\" class=\"dataframe\">\n",
       "  <thead>\n",
       "    <tr style=\"text-align: right;\">\n",
       "      <th></th>\n",
       "      <th>id</th>\n",
       "      <th>keyword</th>\n",
       "      <th>location</th>\n",
       "      <th>text</th>\n",
       "      <th>target</th>\n",
       "    </tr>\n",
       "  </thead>\n",
       "  <tbody>\n",
       "    <tr>\n",
       "      <th>0</th>\n",
       "      <td>1</td>\n",
       "      <td>NaN</td>\n",
       "      <td>NaN</td>\n",
       "      <td>Our Deeds are the Reason of this #earthquake M...</td>\n",
       "      <td>1</td>\n",
       "    </tr>\n",
       "    <tr>\n",
       "      <th>1</th>\n",
       "      <td>4</td>\n",
       "      <td>NaN</td>\n",
       "      <td>NaN</td>\n",
       "      <td>Forest fire near La Ronge Sask. Canada</td>\n",
       "      <td>1</td>\n",
       "    </tr>\n",
       "    <tr>\n",
       "      <th>2</th>\n",
       "      <td>5</td>\n",
       "      <td>NaN</td>\n",
       "      <td>NaN</td>\n",
       "      <td>All residents asked to 'shelter in place' are ...</td>\n",
       "      <td>1</td>\n",
       "    </tr>\n",
       "    <tr>\n",
       "      <th>3</th>\n",
       "      <td>6</td>\n",
       "      <td>NaN</td>\n",
       "      <td>NaN</td>\n",
       "      <td>13,000 people receive #wildfires evacuation or...</td>\n",
       "      <td>1</td>\n",
       "    </tr>\n",
       "    <tr>\n",
       "      <th>4</th>\n",
       "      <td>7</td>\n",
       "      <td>NaN</td>\n",
       "      <td>NaN</td>\n",
       "      <td>Just got sent this photo from Ruby #Alaska as ...</td>\n",
       "      <td>1</td>\n",
       "    </tr>\n",
       "    <tr>\n",
       "      <th>...</th>\n",
       "      <td>...</td>\n",
       "      <td>...</td>\n",
       "      <td>...</td>\n",
       "      <td>...</td>\n",
       "      <td>...</td>\n",
       "    </tr>\n",
       "    <tr>\n",
       "      <th>7608</th>\n",
       "      <td>10869</td>\n",
       "      <td>NaN</td>\n",
       "      <td>NaN</td>\n",
       "      <td>Two giant cranes holding a bridge collapse int...</td>\n",
       "      <td>1</td>\n",
       "    </tr>\n",
       "    <tr>\n",
       "      <th>7609</th>\n",
       "      <td>10870</td>\n",
       "      <td>NaN</td>\n",
       "      <td>NaN</td>\n",
       "      <td>@aria_ahrary @TheTawniest The out of control w...</td>\n",
       "      <td>1</td>\n",
       "    </tr>\n",
       "    <tr>\n",
       "      <th>7610</th>\n",
       "      <td>10871</td>\n",
       "      <td>NaN</td>\n",
       "      <td>NaN</td>\n",
       "      <td>M1.94 [01:04 UTC]?5km S of Volcano Hawaii. htt...</td>\n",
       "      <td>1</td>\n",
       "    </tr>\n",
       "    <tr>\n",
       "      <th>7611</th>\n",
       "      <td>10872</td>\n",
       "      <td>NaN</td>\n",
       "      <td>NaN</td>\n",
       "      <td>Police investigating after an e-bike collided ...</td>\n",
       "      <td>1</td>\n",
       "    </tr>\n",
       "    <tr>\n",
       "      <th>7612</th>\n",
       "      <td>10873</td>\n",
       "      <td>NaN</td>\n",
       "      <td>NaN</td>\n",
       "      <td>The Latest: More Homes Razed by Northern Calif...</td>\n",
       "      <td>1</td>\n",
       "    </tr>\n",
       "  </tbody>\n",
       "</table>\n",
       "<p>7613 rows × 5 columns</p>\n",
       "</div>"
      ],
      "text/plain": [
       "         id keyword location  \\\n",
       "0         1     NaN      NaN   \n",
       "1         4     NaN      NaN   \n",
       "2         5     NaN      NaN   \n",
       "3         6     NaN      NaN   \n",
       "4         7     NaN      NaN   \n",
       "...     ...     ...      ...   \n",
       "7608  10869     NaN      NaN   \n",
       "7609  10870     NaN      NaN   \n",
       "7610  10871     NaN      NaN   \n",
       "7611  10872     NaN      NaN   \n",
       "7612  10873     NaN      NaN   \n",
       "\n",
       "                                                   text  target  \n",
       "0     Our Deeds are the Reason of this #earthquake M...       1  \n",
       "1                Forest fire near La Ronge Sask. Canada       1  \n",
       "2     All residents asked to 'shelter in place' are ...       1  \n",
       "3     13,000 people receive #wildfires evacuation or...       1  \n",
       "4     Just got sent this photo from Ruby #Alaska as ...       1  \n",
       "...                                                 ...     ...  \n",
       "7608  Two giant cranes holding a bridge collapse int...       1  \n",
       "7609  @aria_ahrary @TheTawniest The out of control w...       1  \n",
       "7610  M1.94 [01:04 UTC]?5km S of Volcano Hawaii. htt...       1  \n",
       "7611  Police investigating after an e-bike collided ...       1  \n",
       "7612  The Latest: More Homes Razed by Northern Calif...       1  \n",
       "\n",
       "[7613 rows x 5 columns]"
      ]
     },
     "execution_count": 4,
     "metadata": {},
     "output_type": "execute_result"
    }
   ],
   "source": [
    "### Agora vamos dar uma olhada no conjunto de dados\n",
    "df"
   ]
  },
  {
   "cell_type": "markdown",
   "id": "a577b608",
   "metadata": {
    "papermill": {
     "duration": 0.010308,
     "end_time": "2023-05-28T12:02:22.584566",
     "exception": false,
     "start_time": "2023-05-28T12:02:22.574258",
     "status": "completed"
    },
    "tags": []
   },
   "source": [
    "### Análise quanto a váriavel *Keyword*"
   ]
  },
  {
   "cell_type": "code",
   "execution_count": 5,
   "id": "550eae58",
   "metadata": {
    "execution": {
     "iopub.execute_input": "2023-05-28T12:02:22.608092Z",
     "iopub.status.busy": "2023-05-28T12:02:22.607416Z",
     "iopub.status.idle": "2023-05-28T12:02:22.618593Z",
     "shell.execute_reply": "2023-05-28T12:02:22.617524Z"
    },
    "papermill": {
     "duration": 0.025536,
     "end_time": "2023-05-28T12:02:22.620793",
     "exception": false,
     "start_time": "2023-05-28T12:02:22.595257",
     "status": "completed"
    },
    "tags": []
   },
   "outputs": [
    {
     "data": {
      "text/plain": [
       "array([nan, 'ablaze', 'accident', 'aftershock', 'airplane%20accident',\n",
       "       'ambulance', 'annihilated', 'annihilation', 'apocalypse',\n",
       "       'armageddon', 'army', 'arson', 'arsonist', 'attack', 'attacked',\n",
       "       'avalanche', 'battle', 'bioterror', 'bioterrorism', 'blaze',\n",
       "       'blazing', 'bleeding', 'blew%20up', 'blight', 'blizzard', 'blood',\n",
       "       'bloody', 'blown%20up', 'body%20bag', 'body%20bagging',\n",
       "       'body%20bags', 'bomb', 'bombed', 'bombing', 'bridge%20collapse',\n",
       "       'buildings%20burning', 'buildings%20on%20fire', 'burned',\n",
       "       'burning', 'burning%20buildings', 'bush%20fires', 'casualties',\n",
       "       'casualty', 'catastrophe', 'catastrophic', 'chemical%20emergency',\n",
       "       'cliff%20fall', 'collapse', 'collapsed', 'collide', 'collided',\n",
       "       'collision', 'crash', 'crashed', 'crush', 'crushed', 'curfew',\n",
       "       'cyclone', 'damage', 'danger', 'dead', 'death', 'deaths', 'debris',\n",
       "       'deluge', 'deluged', 'demolish', 'demolished', 'demolition',\n",
       "       'derail', 'derailed', 'derailment', 'desolate', 'desolation',\n",
       "       'destroy', 'destroyed', 'destruction', 'detonate', 'detonation',\n",
       "       'devastated', 'devastation', 'disaster', 'displaced', 'drought',\n",
       "       'drown', 'drowned', 'drowning', 'dust%20storm', 'earthquake',\n",
       "       'electrocute', 'electrocuted', 'emergency', 'emergency%20plan',\n",
       "       'emergency%20services', 'engulfed', 'epicentre', 'evacuate',\n",
       "       'evacuated', 'evacuation', 'explode', 'exploded', 'explosion',\n",
       "       'eyewitness', 'famine', 'fatal', 'fatalities', 'fatality', 'fear',\n",
       "       'fire', 'fire%20truck', 'first%20responders', 'flames',\n",
       "       'flattened', 'flood', 'flooding', 'floods', 'forest%20fire',\n",
       "       'forest%20fires', 'hail', 'hailstorm', 'harm', 'hazard',\n",
       "       'hazardous', 'heat%20wave', 'hellfire', 'hijack', 'hijacker',\n",
       "       'hijacking', 'hostage', 'hostages', 'hurricane', 'injured',\n",
       "       'injuries', 'injury', 'inundated', 'inundation', 'landslide',\n",
       "       'lava', 'lightning', 'loud%20bang', 'mass%20murder',\n",
       "       'mass%20murderer', 'massacre', 'mayhem', 'meltdown', 'military',\n",
       "       'mudslide', 'natural%20disaster', 'nuclear%20disaster',\n",
       "       'nuclear%20reactor', 'obliterate', 'obliterated', 'obliteration',\n",
       "       'oil%20spill', 'outbreak', 'pandemonium', 'panic', 'panicking',\n",
       "       'police', 'quarantine', 'quarantined', 'radiation%20emergency',\n",
       "       'rainstorm', 'razed', 'refugees', 'rescue', 'rescued', 'rescuers',\n",
       "       'riot', 'rioting', 'rubble', 'ruin', 'sandstorm', 'screamed',\n",
       "       'screaming', 'screams', 'seismic', 'sinkhole', 'sinking', 'siren',\n",
       "       'sirens', 'smoke', 'snowstorm', 'storm', 'stretcher',\n",
       "       'structural%20failure', 'suicide%20bomb', 'suicide%20bomber',\n",
       "       'suicide%20bombing', 'sunk', 'survive', 'survived', 'survivors',\n",
       "       'terrorism', 'terrorist', 'threat', 'thunder', 'thunderstorm',\n",
       "       'tornado', 'tragedy', 'trapped', 'trauma', 'traumatised',\n",
       "       'trouble', 'tsunami', 'twister', 'typhoon', 'upheaval',\n",
       "       'violent%20storm', 'volcano', 'war%20zone', 'weapon', 'weapons',\n",
       "       'whirlwind', 'wild%20fires', 'wildfire', 'windstorm', 'wounded',\n",
       "       'wounds', 'wreck', 'wreckage', 'wrecked'], dtype=object)"
      ]
     },
     "execution_count": 5,
     "metadata": {},
     "output_type": "execute_result"
    }
   ],
   "source": [
    "# Exibindo valores unicos\n",
    "df['keyword'].unique()"
   ]
  },
  {
   "cell_type": "code",
   "execution_count": 6,
   "id": "455c1b26",
   "metadata": {
    "execution": {
     "iopub.execute_input": "2023-05-28T12:02:22.644437Z",
     "iopub.status.busy": "2023-05-28T12:02:22.643789Z",
     "iopub.status.idle": "2023-05-28T12:02:22.653195Z",
     "shell.execute_reply": "2023-05-28T12:02:22.652036Z"
    },
    "papermill": {
     "duration": 0.023792,
     "end_time": "2023-05-28T12:02:22.655302",
     "exception": false,
     "start_time": "2023-05-28T12:02:22.631510",
     "status": "completed"
    },
    "tags": []
   },
   "outputs": [
    {
     "name": "stdout",
     "output_type": "stream",
     "text": [
      "Conjunto de Treino:\n",
      "Quantidade de valores NaN na coluna 'keyword': 61\n",
      "Valores nulos representam 0.80% do total.\n"
     ]
    }
   ],
   "source": [
    "# Calculando nulos\n",
    "keyword_nulos = df['keyword'].isna().sum()\n",
    "\n",
    "# Calculando a porcentagem de valores nulos na coluna 'keyword'\n",
    "keyword_nulos = df['keyword'].isna().sum()\n",
    "total_linhas = len(df)\n",
    "porcentagem = (keyword_nulos / total_linhas) * 100\n",
    "\n",
    "# Exibindo a porcentagem de valores nulos\n",
    "\n",
    "print('Conjunto de Treino:')\n",
    "print(f\"Quantidade de valores NaN na coluna 'keyword':\", keyword_nulos)\n",
    "print(f\"Valores nulos representam {porcentagem:.2f}% do total.\")"
   ]
  },
  {
   "cell_type": "code",
   "execution_count": 7,
   "id": "91c9e9e5",
   "metadata": {
    "execution": {
     "iopub.execute_input": "2023-05-28T12:02:22.679485Z",
     "iopub.status.busy": "2023-05-28T12:02:22.678684Z",
     "iopub.status.idle": "2023-05-28T12:02:22.687353Z",
     "shell.execute_reply": "2023-05-28T12:02:22.686066Z"
    },
    "papermill": {
     "duration": 0.022913,
     "end_time": "2023-05-28T12:02:22.689447",
     "exception": false,
     "start_time": "2023-05-28T12:02:22.666534",
     "status": "completed"
    },
    "tags": []
   },
   "outputs": [
    {
     "name": "stdout",
     "output_type": "stream",
     "text": [
      "Conjunto de Teste:\n",
      "Quantidade de valores NaN na coluna 'keyword': 26\n",
      "Valores nulos representam 0.80% do total.\n"
     ]
    }
   ],
   "source": [
    "## Agora vamos ver no conjunto de teste\n",
    "\n",
    "\n",
    "# Calculando a porcentagem de valores nulos na coluna 'keyword'\n",
    "keyword_nulos = df_teste['keyword'].isna().sum()\n",
    "total_linhas = len(df_teste)\n",
    "porcentagem = (keyword_nulos / total_linhas) * 100\n",
    "\n",
    "# Exibindo a porcentagem de valores nulos\n",
    "\n",
    "print('Conjunto de Teste:')\n",
    "print(f\"Quantidade de valores NaN na coluna 'keyword':\", keyword_nulos)\n",
    "print(f\"Valores nulos representam {porcentagem:.2f}% do total.\")"
   ]
  },
  {
   "cell_type": "markdown",
   "id": "99c35776",
   "metadata": {
    "papermill": {
     "duration": 0.010931,
     "end_time": "2023-05-28T12:02:22.711580",
     "exception": false,
     "start_time": "2023-05-28T12:02:22.700649",
     "status": "completed"
    },
    "tags": []
   },
   "source": [
    "### Que interessante a amostra estatística tem o mesmo valor do parâmetro\n",
    "Agora vamos medir a correlação entre a variavel e o alvo"
   ]
  },
  {
   "cell_type": "code",
   "execution_count": 8,
   "id": "2aeff4cb",
   "metadata": {
    "execution": {
     "iopub.execute_input": "2023-05-28T12:02:22.736782Z",
     "iopub.status.busy": "2023-05-28T12:02:22.735866Z",
     "iopub.status.idle": "2023-05-28T12:02:22.748442Z",
     "shell.execute_reply": "2023-05-28T12:02:22.747409Z"
    },
    "papermill": {
     "duration": 0.027721,
     "end_time": "2023-05-28T12:02:22.750674",
     "exception": false,
     "start_time": "2023-05-28T12:02:22.722953",
     "status": "completed"
    },
    "tags": []
   },
   "outputs": [
    {
     "data": {
      "text/plain": [
       "fatalities               45\n",
       "deluge                   42\n",
       "armageddon               42\n",
       "sinking                  41\n",
       "damage                   41\n",
       "                         ..\n",
       "forest%20fire            19\n",
       "epicentre                12\n",
       "threat                   11\n",
       "inundation               10\n",
       "radiation%20emergency     9\n",
       "Name: keyword, Length: 221, dtype: int64"
      ]
     },
     "execution_count": 8,
     "metadata": {},
     "output_type": "execute_result"
    }
   ],
   "source": [
    "df['keyword'].value_counts()"
   ]
  },
  {
   "cell_type": "markdown",
   "id": "2b05f0fe",
   "metadata": {
    "papermill": {
     "duration": 0.010858,
     "end_time": "2023-05-28T12:02:22.772763",
     "exception": false,
     "start_time": "2023-05-28T12:02:22.761905",
     "status": "completed"
    },
    "tags": []
   },
   "source": [
    "Como a variável 'keyword' é uma string e a variável 'target' é booleana, podemos usar a análise de contingência e o teste do qui-quadrado para avaliar o grau da relação entre as duas variaveis.\n",
    "\n",
    "O valor de qui-quadrado mede a divergência entre a distribuição observada e a distribuição esperada se as duas variáveis forem independentes. O valor de p é a probabilidade de obter uma estatística de qui-quadrado tão extrema quanto a observada, assumindo que as duas variáveis são independentes.\n",
    "\n",
    "Se o valor de p for menor que um nível de significância (geralmente 0.05), podemos rejeitar a hipótese nula de independência e inferir que há uma associação significativa entre 'keyword' e 'target'."
   ]
  },
  {
   "cell_type": "code",
   "execution_count": 9,
   "id": "78de6ca6",
   "metadata": {
    "execution": {
     "iopub.execute_input": "2023-05-28T12:02:22.797090Z",
     "iopub.status.busy": "2023-05-28T12:02:22.796417Z",
     "iopub.status.idle": "2023-05-28T12:02:24.066551Z",
     "shell.execute_reply": "2023-05-28T12:02:24.065292Z"
    },
    "papermill": {
     "duration": 1.285285,
     "end_time": "2023-05-28T12:02:24.069264",
     "exception": false,
     "start_time": "2023-05-28T12:02:22.783979",
     "status": "completed"
    },
    "tags": []
   },
   "outputs": [
    {
     "name": "stdout",
     "output_type": "stream",
     "text": [
      "Resultado do teste qui-quadrado:\n",
      "Valor de qui-quadrado: 2268.7255777003475\n",
      "Valor de p: 0.0\n"
     ]
    }
   ],
   "source": [
    "from scipy.stats import chi2_contingency\n",
    "\n",
    "# Criando uma tabela de contingência entre 'keyword' e 'target'\n",
    "contingency_table = pd.crosstab(df['keyword'], df['target'])\n",
    "\n",
    "# Realizando o teste do qui-quadrado\n",
    "chi2, p_value, _, _ = chi2_contingency(contingency_table)\n",
    "\n",
    "print(\"Resultado do teste qui-quadrado:\")\n",
    "print(\"Valor de qui-quadrado:\", chi2)\n",
    "print(\"Valor de p:\", p_value)"
   ]
  },
  {
   "cell_type": "markdown",
   "id": "d95c34de",
   "metadata": {
    "papermill": {
     "duration": 0.011379,
     "end_time": "2023-05-28T12:02:24.092250",
     "exception": false,
     "start_time": "2023-05-28T12:02:24.080871",
     "status": "completed"
    },
    "tags": []
   },
   "source": [
    "Com base no resultado do teste qui-quadrado, obtemos um valor de qui-quadrado de 2268.73 e um valor de p próximo a zero (0.0). Isso indica que há uma relação forte entre a variável 'keyword' (string) e a variável 'target' (booleana).\n",
    "\n",
    "Isso sugere que a presença de determinadas palavras-chave (variável 'keyword') está relacionada à ocorrência de desastres reais (variável 'target') nos tweets.\n",
    "\n",
    "Essa relação pode ser explorada para gerarmos a nossa hipótese"
   ]
  },
  {
   "cell_type": "markdown",
   "id": "bb917c13",
   "metadata": {
    "papermill": {
     "duration": 0.011028,
     "end_time": "2023-05-28T12:02:24.114675",
     "exception": false,
     "start_time": "2023-05-28T12:02:24.103647",
     "status": "completed"
    },
    "tags": []
   },
   "source": [
    "### Vou plotar um gráfico abaixo que exemplifica o raciocínio"
   ]
  },
  {
   "cell_type": "code",
   "execution_count": 10,
   "id": "9f2dbd6c",
   "metadata": {
    "execution": {
     "iopub.execute_input": "2023-05-28T12:02:24.139385Z",
     "iopub.status.busy": "2023-05-28T12:02:24.138982Z",
     "iopub.status.idle": "2023-05-28T12:02:24.896361Z",
     "shell.execute_reply": "2023-05-28T12:02:24.895008Z"
    },
    "papermill": {
     "duration": 0.773046,
     "end_time": "2023-05-28T12:02:24.899351",
     "exception": false,
     "start_time": "2023-05-28T12:02:24.126305",
     "status": "completed"
    },
    "tags": []
   },
   "outputs": [
    {
     "data": {
      "image/png": "[encoded data removed]",
      "text/plain": [
       "<Figure size 1000x600 with 1 Axes>"
      ]
     },
     "metadata": {},
     "output_type": "display_data"
    }
   ],
   "source": [
    "import matplotlib.pyplot as plt\n",
    "\n",
    "# Calcular a contagem de ocorrências de cada palavra-chave\n",
    "keyword_counts = df['keyword'].value_counts()\n",
    "\n",
    "# Selecionar as 33 palavras-chave mais frequentes\n",
    "top_keywords = keyword_counts.head(33).index\n",
    "\n",
    "# Filtrar o DataFrame original para incluir apenas as linhas correspondentes às palavras-chave selecionadas\n",
    "filtered_df = df[df['keyword'].isin(top_keywords)]\n",
    "\n",
    "# Criar a tabela de contingência entre 'keyword' e 'target' para o DataFrame filtrado\n",
    "contingency_table = pd.crosstab(filtered_df['keyword'], filtered_df['target'])\n",
    "\n",
    "# Plotar o gráfico de barras empilhadas\n",
    "contingency_table.plot(kind='bar', stacked=True, figsize=(10, 6))\n",
    "\n",
    "# Configurar os rótulos e título do gráfico\n",
    "plt.xlabel('Keyword')\n",
    "plt.ylabel('Count')\n",
    "plt.title('Relação entre Keyword e Target (Top 33 Palavras-Chave)')\n",
    "\n",
    "# Exibir o gráfico\n",
    "plt.show()"
   ]
  },
  {
   "cell_type": "markdown",
   "id": "1f7089e4",
   "metadata": {
    "papermill": {
     "duration": 0.012928,
     "end_time": "2023-05-28T12:02:24.926124",
     "exception": false,
     "start_time": "2023-05-28T12:02:24.913196",
     "status": "completed"
    },
    "tags": []
   },
   "source": [
    "A relação entre a variável Keyword e a variável Target é demonstrada neste gráfico. A presença de certas palavras-chave pode quantificada matematicamente e utilizada para alimentar um modelo estatístico de predição, nos levando à resposta desejada."
   ]
  },
  {
   "cell_type": "markdown",
   "id": "7e8c9778",
   "metadata": {
    "papermill": {
     "duration": 0.012185,
     "end_time": "2023-05-28T12:02:24.950951",
     "exception": false,
     "start_time": "2023-05-28T12:02:24.938766",
     "status": "completed"
    },
    "tags": []
   },
   "source": [
    "Agora vamos testar quanto seria a precisão de um modelo utilizando só esta variável, no nosso modelo final esperamos fazer uma ávore de decisões multivariadas."
   ]
  },
  {
   "cell_type": "code",
   "execution_count": 11,
   "id": "c64dd7c8",
   "metadata": {
    "execution": {
     "iopub.execute_input": "2023-05-28T12:02:24.977608Z",
     "iopub.status.busy": "2023-05-28T12:02:24.977236Z",
     "iopub.status.idle": "2023-05-28T12:02:25.427005Z",
     "shell.execute_reply": "2023-05-28T12:02:25.425249Z"
    },
    "papermill": {
     "duration": 0.46683,
     "end_time": "2023-05-28T12:02:25.430302",
     "exception": false,
     "start_time": "2023-05-28T12:02:24.963472",
     "status": "completed"
    },
    "tags": []
   },
   "outputs": [
    {
     "name": "stdout",
     "output_type": "stream",
     "text": [
      "Acurácia: 0.5764984227129337\n",
      "Matriz de Confusão:\n",
      "[[1462    0]\n",
      " [1074    0]]\n",
      "Relatório de Classificação:\n",
      "              precision    recall  f1-score   support\n",
      "\n",
      "           0       0.58      1.00      0.73      1462\n",
      "           1       0.00      0.00      0.00      1074\n",
      "\n",
      "    accuracy                           0.58      2536\n",
      "   macro avg       0.29      0.50      0.37      2536\n",
      "weighted avg       0.33      0.58      0.42      2536\n",
      "\n"
     ]
    },
    {
     "name": "stderr",
     "output_type": "stream",
     "text": [
      "/opt/conda/lib/python3.10/site-packages/sklearn/metrics/_classification.py:1344: UndefinedMetricWarning: Precision and F-score are ill-defined and being set to 0.0 in labels with no predicted samples. Use `zero_division` parameter to control this behavior.\n",
      "  _warn_prf(average, modifier, msg_start, len(result))\n",
      "/opt/conda/lib/python3.10/site-packages/sklearn/metrics/_classification.py:1344: UndefinedMetricWarning: Precision and F-score are ill-defined and being set to 0.0 in labels with no predicted samples. Use `zero_division` parameter to control this behavior.\n",
      "  _warn_prf(average, modifier, msg_start, len(result))\n",
      "/opt/conda/lib/python3.10/site-packages/sklearn/metrics/_classification.py:1344: UndefinedMetricWarning: Precision and F-score are ill-defined and being set to 0.0 in labels with no predicted samples. Use `zero_division` parameter to control this behavior.\n",
      "  _warn_prf(average, modifier, msg_start, len(result))\n"
     ]
    }
   ],
   "source": [
    "from sklearn.model_selection import train_test_split\n",
    "from sklearn.preprocessing import LabelEncoder\n",
    "from sklearn.linear_model import LogisticRegression\n",
    "from sklearn.metrics import accuracy_score, confusion_matrix, classification_report\n",
    "\n",
    "# Realizar a codificação de rótulos da coluna 'keyword'\n",
    "label_encoder = LabelEncoder()\n",
    "df['keyword_encoded'] = label_encoder.fit_transform(df['keyword'].fillna(''))\n",
    "\n",
    "# Dividir o DataFrame em recursos (X) e variável alvo (y)\n",
    "X = df['keyword_encoded']\n",
    "y = df['target']\n",
    "\n",
    "# Dividir os dados em conjuntos de treinamento e teste\n",
    "X_train, X_test, y_train, y_test = train_test_split(X, y, test_size=0.333, random_state=42)\n",
    "\n",
    "# Redimensionar os dados de recurso (necessário para modelos lineares)\n",
    "X_train = X_train.values.reshape(-1, 1)\n",
    "X_test = X_test.values.reshape(-1, 1)\n",
    "\n",
    "# Aplicar o algoritmo de regressão logística\n",
    "model = LogisticRegression()\n",
    "model.fit(X_train, y_train)\n",
    "\n",
    "# Realizar previsões nos dados de teste\n",
    "y_pred = model.predict(X_test)\n",
    "\n",
    "# Avaliar o desempenho do modelo\n",
    "accuracy = accuracy_score(y_test, y_pred)\n",
    "confusion = confusion_matrix(y_test, y_pred)\n",
    "classification = classification_report(y_test, y_pred)\n",
    "\n",
    "# Exibir os resultados\n",
    "print(\"Acurácia:\", accuracy)\n",
    "print(\"Matriz de Confusão:\")\n",
    "print(confusion)\n",
    "print(\"Relatório de Classificação:\")\n",
    "print(classification)"
   ]
  },
  {
   "cell_type": "markdown",
   "id": "3d1b1554",
   "metadata": {
    "papermill": {
     "duration": 0.012265,
     "end_time": "2023-05-28T12:02:25.455579",
     "exception": false,
     "start_time": "2023-05-28T12:02:25.443314",
     "status": "completed"
    },
    "tags": []
   },
   "source": [
    "> A acurácia obtida foi de 0.575, ou seja, acertou 57% dos casos, o que indica que esta variável sozinha, não acerta muito, mas em um modelo váriavel ela será bem valiosa."
   ]
  },
  {
   "cell_type": "markdown",
   "id": "b02b2b20",
   "metadata": {
    "papermill": {
     "duration": 0.012234,
     "end_time": "2023-05-28T12:02:25.480381",
     "exception": false,
     "start_time": "2023-05-28T12:02:25.468147",
     "status": "completed"
    },
    "tags": []
   },
   "source": [
    "### Agora vamos abordar outras correlações para incluir em nosso modelo"
   ]
  },
  {
   "cell_type": "markdown",
   "id": "3c9f38e4",
   "metadata": {
    "papermill": {
     "duration": 0.012012,
     "end_time": "2023-05-28T12:02:25.504820",
     "exception": false,
     "start_time": "2023-05-28T12:02:25.492808",
     "status": "completed"
    },
    "tags": []
   },
   "source": [
    "* Primeiro eu quero ver quanto à contagem de palavras, se existe uma relação entre à quantidade de palavras que aparece em um tweet e se ele é um tweet desastre ou não."
   ]
  },
  {
   "cell_type": "code",
   "execution_count": 12,
   "id": "e59e999b",
   "metadata": {
    "execution": {
     "iopub.execute_input": "2023-05-28T12:02:25.531583Z",
     "iopub.status.busy": "2023-05-28T12:02:25.531169Z",
     "iopub.status.idle": "2023-05-28T12:02:26.427567Z",
     "shell.execute_reply": "2023-05-28T12:02:26.426422Z"
    },
    "papermill": {
     "duration": 0.916286,
     "end_time": "2023-05-28T12:02:26.433638",
     "exception": false,
     "start_time": "2023-05-28T12:02:25.517352",
     "status": "completed"
    },
    "tags": []
   },
   "outputs": [
    {
     "name": "stdout",
     "output_type": "stream",
     "text": [
      "Acurácia: 0.805205047318612\n"
     ]
    }
   ],
   "source": [
    "from sklearn.feature_extraction.text import CountVectorizer\n",
    "from sklearn.model_selection import train_test_split\n",
    "from sklearn.linear_model import LogisticRegression\n",
    "from sklearn.metrics import accuracy_score\n",
    "\n",
    "# Dividir o conjunto de dados em conjuntos de treinamento e teste\n",
    "X_train, X_test, y_train, y_test = train_test_split(df['text'], df['target'], test_size=0.333, random_state=42)\n",
    "\n",
    "# Aplicar a vetorização da contagem de palavras\n",
    "vectorizer = CountVectorizer()\n",
    "X_train_counts = vectorizer.fit_transform(X_train)\n",
    "X_test_counts = vectorizer.transform(X_test)\n",
    "\n",
    "# Treinar um modelo de regressão logística usando as contagens de palavras\n",
    "model = LogisticRegression()\n",
    "model.fit(X_train_counts, y_train)\n",
    "\n",
    "# Fazer previsões nos dados de teste\n",
    "y_pred = model.predict(X_test_counts)\n",
    "\n",
    "# Avaliar o desempenho do modelo usando a acurácia\n",
    "accuracy = accuracy_score(y_test, y_pred)\n",
    "print(\"Acurácia:\", accuracy)"
   ]
  },
  {
   "cell_type": "markdown",
   "id": "8d30016e",
   "metadata": {
    "papermill": {
     "duration": 0.051747,
     "end_time": "2023-05-28T12:02:26.532660",
     "exception": false,
     "start_time": "2023-05-28T12:02:26.480913",
     "status": "completed"
    },
    "tags": []
   },
   "source": [
    ">Uia Lá, acertou 80% das previsões =O"
   ]
  },
  {
   "cell_type": "markdown",
   "id": "df3471bf",
   "metadata": {
    "papermill": {
     "duration": 0.012307,
     "end_time": "2023-05-28T12:02:26.561577",
     "exception": false,
     "start_time": "2023-05-28T12:02:26.549270",
     "status": "completed"
    },
    "tags": []
   },
   "source": [
    "Ótimo! Com uma acurácia de 0.805, o modelo obteve um desempenho considerável na previsão do valor da variável alvo com base na contagem de palavras nos tweets, Vamos utilizar esta relação univariada por hoje, depois implementamos um modelo multivariável."
   ]
  },
  {
   "cell_type": "markdown",
   "id": "10bf41d7",
   "metadata": {
    "papermill": {
     "duration": 0.012283,
     "end_time": "2023-05-28T12:02:26.586617",
     "exception": false,
     "start_time": "2023-05-28T12:02:26.574334",
     "status": "completed"
    },
    "tags": []
   },
   "source": [
    "Mas antes vamos plotar um gráfico para visualizar melhor esta relação"
   ]
  },
  {
   "cell_type": "code",
   "execution_count": 13,
   "id": "7990b756",
   "metadata": {
    "execution": {
     "iopub.execute_input": "2023-05-28T12:02:26.613527Z",
     "iopub.status.busy": "2023-05-28T12:02:26.613120Z",
     "iopub.status.idle": "2023-05-28T12:02:27.017226Z",
     "shell.execute_reply": "2023-05-28T12:02:27.016054Z"
    },
    "papermill": {
     "duration": 0.420768,
     "end_time": "2023-05-28T12:02:27.020058",
     "exception": false,
     "start_time": "2023-05-28T12:02:26.599290",
     "status": "completed"
    },
    "tags": []
   },
   "outputs": [
    {
     "data": {
      "image/png": "[encoded data removed]",
      "text/plain": [
       "<Figure size 1000x600 with 1 Axes>"
      ]
     },
     "metadata": {},
     "output_type": "display_data"
    }
   ],
   "source": [
    "import matplotlib.pyplot as plt\n",
    "\n",
    "# Contagem de palavras\n",
    "word_count = df['text'].str.split().apply(len)\n",
    "\n",
    "# Agrupar contagem de palavras e calcular a probabilidade de ser 1 ou 0 na coluna 'target'\n",
    "word_count_target = df.groupby(word_count)['target'].mean()\n",
    "\n",
    "# Criação do gráfico\n",
    "plt.figure(figsize=(10, 6))\n",
    "plt.scatter(word_count_target.index, word_count_target.values * 100)\n",
    "plt.xlabel('Contagem de Palavras')\n",
    "plt.ylabel('Probabilidade (%)')\n",
    "plt.title('Relação entre Contagem de Palavras e Probabilidade de ser 1')\n",
    "plt.show()\n",
    "\n",
    "\n",
    "# Lendo os conjuntos reais\n",
    "df_treino = pd.read_csv(\"/kaggle/input/nlp-getting-started/train.csv\")\n",
    "df_teste = pd.read_csv(\"/kaggle/input/nlp-getting-started/test.csv\")\n",
    "sample_submission = pd.read_csv(\"/kaggle/input/nlp-getting-started/sample_submission.csv\")"
   ]
  },
  {
   "cell_type": "markdown",
   "id": "57ce3a36",
   "metadata": {
    "papermill": {
     "duration": 0.012841,
     "end_time": "2023-05-28T12:02:27.046479",
     "exception": false,
     "start_time": "2023-05-28T12:02:27.033638",
     "status": "completed"
    },
    "tags": []
   },
   "source": [
    "### Agora vamos criar o modelo com o conjunto completo"
   ]
  },
  {
   "cell_type": "code",
   "execution_count": 14,
   "id": "c4a76d60",
   "metadata": {
    "execution": {
     "iopub.execute_input": "2023-05-28T12:02:27.074734Z",
     "iopub.status.busy": "2023-05-28T12:02:27.074345Z",
     "iopub.status.idle": "2023-05-28T12:02:27.425379Z",
     "shell.execute_reply": "2023-05-28T12:02:27.424137Z"
    },
    "papermill": {
     "duration": 0.368455,
     "end_time": "2023-05-28T12:02:27.428199",
     "exception": false,
     "start_time": "2023-05-28T12:02:27.059744",
     "status": "completed"
    },
    "tags": []
   },
   "outputs": [],
   "source": [
    "# Repetindo modelo\n",
    "import pandas as pd\n",
    "from sklearn.feature_extraction.text import CountVectorizer\n",
    "from sklearn.naive_bayes import MultinomialNB\n",
    "\n",
    "# Pré-processamento de dados\n",
    "vectorizer = CountVectorizer()\n",
    "X_train = vectorizer.fit_transform(df_treino['text'])\n",
    "X_test = vectorizer.transform(df_teste['text'])\n",
    "\n",
    "# Treinamento do modelo\n",
    "model = MultinomialNB()\n",
    "model.fit(X_train, df_treino['target'])\n",
    "\n",
    "# Previsões\n",
    "predictions = model.predict(X_test)\n",
    "df_teste['target'] = predictions"
   ]
  },
  {
   "cell_type": "code",
   "execution_count": 15,
   "id": "fd834620",
   "metadata": {
    "execution": {
     "iopub.execute_input": "2023-05-28T12:02:27.459224Z",
     "iopub.status.busy": "2023-05-28T12:02:27.458810Z",
     "iopub.status.idle": "2023-05-28T12:02:27.474015Z",
     "shell.execute_reply": "2023-05-28T12:02:27.472881Z"
    },
    "papermill": {
     "duration": 0.034316,
     "end_time": "2023-05-28T12:02:27.476546",
     "exception": false,
     "start_time": "2023-05-28T12:02:27.442230",
     "status": "completed"
    },
    "tags": []
   },
   "outputs": [
    {
     "data": {
      "text/html": [
       "<div>\n",
       "<style scoped>\n",
       "    .dataframe tbody tr th:only-of-type {\n",
       "        vertical-align: middle;\n",
       "    }\n",
       "\n",
       "    .dataframe tbody tr th {\n",
       "        vertical-align: top;\n",
       "    }\n",
       "\n",
       "    .dataframe thead th {\n",
       "        text-align: right;\n",
       "    }\n",
       "</style>\n",
       "<table border=\"1\" class=\"dataframe\">\n",
       "  <thead>\n",
       "    <tr style=\"text-align: right;\">\n",
       "      <th></th>\n",
       "      <th>id</th>\n",
       "      <th>keyword</th>\n",
       "      <th>location</th>\n",
       "      <th>text</th>\n",
       "      <th>target</th>\n",
       "    </tr>\n",
       "  </thead>\n",
       "  <tbody>\n",
       "    <tr>\n",
       "      <th>0</th>\n",
       "      <td>0</td>\n",
       "      <td>NaN</td>\n",
       "      <td>NaN</td>\n",
       "      <td>Just happened a terrible car crash</td>\n",
       "      <td>1</td>\n",
       "    </tr>\n",
       "    <tr>\n",
       "      <th>1</th>\n",
       "      <td>2</td>\n",
       "      <td>NaN</td>\n",
       "      <td>NaN</td>\n",
       "      <td>Heard about #earthquake is different cities, s...</td>\n",
       "      <td>1</td>\n",
       "    </tr>\n",
       "    <tr>\n",
       "      <th>2</th>\n",
       "      <td>3</td>\n",
       "      <td>NaN</td>\n",
       "      <td>NaN</td>\n",
       "      <td>there is a forest fire at spot pond, geese are...</td>\n",
       "      <td>1</td>\n",
       "    </tr>\n",
       "    <tr>\n",
       "      <th>3</th>\n",
       "      <td>9</td>\n",
       "      <td>NaN</td>\n",
       "      <td>NaN</td>\n",
       "      <td>Apocalypse lighting. #Spokane #wildfires</td>\n",
       "      <td>1</td>\n",
       "    </tr>\n",
       "    <tr>\n",
       "      <th>4</th>\n",
       "      <td>11</td>\n",
       "      <td>NaN</td>\n",
       "      <td>NaN</td>\n",
       "      <td>Typhoon Soudelor kills 28 in China and Taiwan</td>\n",
       "      <td>1</td>\n",
       "    </tr>\n",
       "    <tr>\n",
       "      <th>...</th>\n",
       "      <td>...</td>\n",
       "      <td>...</td>\n",
       "      <td>...</td>\n",
       "      <td>...</td>\n",
       "      <td>...</td>\n",
       "    </tr>\n",
       "    <tr>\n",
       "      <th>3258</th>\n",
       "      <td>10861</td>\n",
       "      <td>NaN</td>\n",
       "      <td>NaN</td>\n",
       "      <td>EARTHQUAKE SAFETY LOS ANGELES ÛÒ SAFETY FASTE...</td>\n",
       "      <td>1</td>\n",
       "    </tr>\n",
       "    <tr>\n",
       "      <th>3259</th>\n",
       "      <td>10865</td>\n",
       "      <td>NaN</td>\n",
       "      <td>NaN</td>\n",
       "      <td>Storm in RI worse than last hurricane. My city...</td>\n",
       "      <td>1</td>\n",
       "    </tr>\n",
       "    <tr>\n",
       "      <th>3260</th>\n",
       "      <td>10868</td>\n",
       "      <td>NaN</td>\n",
       "      <td>NaN</td>\n",
       "      <td>Green Line derailment in Chicago http://t.co/U...</td>\n",
       "      <td>1</td>\n",
       "    </tr>\n",
       "    <tr>\n",
       "      <th>3261</th>\n",
       "      <td>10874</td>\n",
       "      <td>NaN</td>\n",
       "      <td>NaN</td>\n",
       "      <td>MEG issues Hazardous Weather Outlook (HWO) htt...</td>\n",
       "      <td>1</td>\n",
       "    </tr>\n",
       "    <tr>\n",
       "      <th>3262</th>\n",
       "      <td>10875</td>\n",
       "      <td>NaN</td>\n",
       "      <td>NaN</td>\n",
       "      <td>#CityofCalgary has activated its Municipal Eme...</td>\n",
       "      <td>1</td>\n",
       "    </tr>\n",
       "  </tbody>\n",
       "</table>\n",
       "<p>3263 rows × 5 columns</p>\n",
       "</div>"
      ],
      "text/plain": [
       "         id keyword location  \\\n",
       "0         0     NaN      NaN   \n",
       "1         2     NaN      NaN   \n",
       "2         3     NaN      NaN   \n",
       "3         9     NaN      NaN   \n",
       "4        11     NaN      NaN   \n",
       "...     ...     ...      ...   \n",
       "3258  10861     NaN      NaN   \n",
       "3259  10865     NaN      NaN   \n",
       "3260  10868     NaN      NaN   \n",
       "3261  10874     NaN      NaN   \n",
       "3262  10875     NaN      NaN   \n",
       "\n",
       "                                                   text  target  \n",
       "0                    Just happened a terrible car crash       1  \n",
       "1     Heard about #earthquake is different cities, s...       1  \n",
       "2     there is a forest fire at spot pond, geese are...       1  \n",
       "3              Apocalypse lighting. #Spokane #wildfires       1  \n",
       "4         Typhoon Soudelor kills 28 in China and Taiwan       1  \n",
       "...                                                 ...     ...  \n",
       "3258  EARTHQUAKE SAFETY LOS ANGELES ÛÒ SAFETY FASTE...       1  \n",
       "3259  Storm in RI worse than last hurricane. My city...       1  \n",
       "3260  Green Line derailment in Chicago http://t.co/U...       1  \n",
       "3261  MEG issues Hazardous Weather Outlook (HWO) htt...       1  \n",
       "3262  #CityofCalgary has activated its Municipal Eme...       1  \n",
       "\n",
       "[3263 rows x 5 columns]"
      ]
     },
     "execution_count": 15,
     "metadata": {},
     "output_type": "execute_result"
    }
   ],
   "source": [
    "df_teste"
   ]
  },
  {
   "cell_type": "code",
   "execution_count": 16,
   "id": "15cb5a2c",
   "metadata": {
    "execution": {
     "iopub.execute_input": "2023-05-28T12:02:27.505571Z",
     "iopub.status.busy": "2023-05-28T12:02:27.505166Z",
     "iopub.status.idle": "2023-05-28T12:02:27.511327Z",
     "shell.execute_reply": "2023-05-28T12:02:27.510185Z"
    },
    "papermill": {
     "duration": 0.023159,
     "end_time": "2023-05-28T12:02:27.513579",
     "exception": false,
     "start_time": "2023-05-28T12:02:27.490420",
     "status": "completed"
    },
    "tags": []
   },
   "outputs": [],
   "source": [
    "sample_submission['target'] = df_teste['target']"
   ]
  },
  {
   "cell_type": "code",
   "execution_count": 17,
   "id": "af2861eb",
   "metadata": {
    "execution": {
     "iopub.execute_input": "2023-05-28T12:02:27.543252Z",
     "iopub.status.busy": "2023-05-28T12:02:27.542516Z",
     "iopub.status.idle": "2023-05-28T12:02:27.560158Z",
     "shell.execute_reply": "2023-05-28T12:02:27.559281Z"
    },
    "papermill": {
     "duration": 0.035475,
     "end_time": "2023-05-28T12:02:27.562646",
     "exception": false,
     "start_time": "2023-05-28T12:02:27.527171",
     "status": "completed"
    },
    "tags": []
   },
   "outputs": [],
   "source": [
    "# Registrando as predições na competição\n",
    "sample_submission.to_csv(\"submission.csv\", index=False)"
   ]
  },
  {
   "cell_type": "markdown",
   "id": "a1ea412f",
   "metadata": {
    "papermill": {
     "duration": 0.013367,
     "end_time": "2023-05-28T12:02:27.589650",
     "exception": false,
     "start_time": "2023-05-28T12:02:27.576283",
     "status": "completed"
    },
    "tags": []
   },
   "source": [
    "> Feito v 03\n"
   ]
  },
  {
   "cell_type": "code",
   "execution_count": null,
   "id": "ae3649fe",
   "metadata": {
    "papermill": {
     "duration": 0.012879,
     "end_time": "2023-05-28T12:02:27.615857",
     "exception": false,
     "start_time": "2023-05-28T12:02:27.602978",
     "status": "completed"
    },
    "tags": []
   },
   "outputs": [],
   "source": []
  }
 ],
 "metadata": {
  "kernelspec": {
   "display_name": "Python 3",
   "language": "python",
   "name": "python3"
  },
  "language_info": {
   "codemirror_mode": {
    "name": "ipython",
    "version": 3
   },
   "file_extension": ".py",
   "mimetype": "text/x-python",
   "name": "python",
   "nbconvert_exporter": "python",
   "pygments_lexer": "ipython3",
   "version": "3.10.10"
  },
  "papermill": {
   "default_parameters": {},
   "duration": 18.659423,
   "end_time": "2023-05-28T12:02:28.651849",
   "environment_variables": {},
   "exception": null,
   "input_path": "__notebook__.ipynb",
   "output_path": "__notebook__.ipynb",
   "parameters": {},
   "start_time": "2023-05-28T12:02:09.992426",
   "version": "2.4.0"
  }
 },
 "nbformat": 4,
 "nbformat_minor": 5
}
