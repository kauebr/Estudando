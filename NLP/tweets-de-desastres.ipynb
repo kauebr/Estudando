{
 "cells": [
  {
   "cell_type": "code",
   "execution_count": 1,
   "id": "d1edea34",
   "metadata": {
    "_cell_guid": "b1076dfc-b9ad-4769-8c92-a6c4dae69d19",
    "_uuid": "8f2839f25d086af736a60e9eeb907d3b93b6e0e5",
    "execution": {
     "iopub.execute_input": "2023-05-27T22:31:59.758908Z",
     "iopub.status.busy": "2023-05-27T22:31:59.758363Z",
     "iopub.status.idle": "2023-05-27T22:31:59.775401Z",
     "shell.execute_reply": "2023-05-27T22:31:59.774607Z"
    },
    "papermill": {
     "duration": 0.035862,
     "end_time": "2023-05-27T22:31:59.778362",
     "exception": false,
     "start_time": "2023-05-27T22:31:59.742500",
     "status": "completed"
    },
    "tags": []
   },
   "outputs": [
    {
     "name": "stdout",
     "output_type": "stream",
     "text": [
      "/kaggle/input/nlp-getting-started/sample_submission.csv\n",
      "/kaggle/input/nlp-getting-started/train.csv\n",
      "/kaggle/input/nlp-getting-started/test.csv\n"
     ]
    }
   ],
   "source": [
    "# This Python 3 environment comes with many helpful analytics libraries installed\n",
    "# It is defined by the kaggle/python Docker image: https://github.com/kaggle/docker-python\n",
    "# For example, here's several helpful packages to load\n",
    "\n",
    "import numpy as np # linear algebra\n",
    "import pandas as pd # data processing, CSV file I/O (e.g. pd.read_csv)\n",
    "\n",
    "# Input data files are available in the read-only \"../input/\" directory\n",
    "# For example, running this (by clicking run or pressing Shift+Enter) will list all files under the input directory\n",
    "\n",
    "import os\n",
    "for dirname, _, filenames in os.walk('/kaggle/input'):\n",
    "    for filename in filenames:\n",
    "        print(os.path.join(dirname, filename))\n",
    "\n",
    "# You can write up to 20GB to the current directory (/kaggle/working/) that gets preserved as output when you create a version using \"Save & Run All\" \n",
    "# You can also write temporary files to /kaggle/temp/, but they won't be saved outside of the current session"
   ]
  },
  {
   "cell_type": "markdown",
   "id": "c0c12b70",
   "metadata": {
    "papermill": {
     "duration": 0.009559,
     "end_time": "2023-05-27T22:31:59.799236",
     "exception": false,
     "start_time": "2023-05-27T22:31:59.789677",
     "status": "completed"
    },
    "tags": []
   },
   "source": [
    "\n",
    "<img src=\"https://i.ibb.co/1T5Wbn6/Banner-para-Linkedin-capa-de-perfil-para-programador.png\"  alt=\"KCode Banner\"  />\n",
    "\n",
    "<a href=\"https://www.linkedin.com/in/kauebr/\"><img src=\"https://cdn-icons-png.flaticon.com/512/174/174857.png\" width=\"30\" ></a> <a href=\"mailto: kauemandarino@gmail.com\"><img src=\"https://cdn-icons-png.flaticon.com/512/5968/5968534.png\" width=\"30\" ></a><a href=\"\n",
    "https://api.whatsapp.com/send?phone=5541991835800&text=Oi\"> <img src=\"https://imagepng.org/wp-content/uploads/2017/08/whatsapp-icone-1.png\" width=\"30\" ></a><a href=\"https://github.com/kauebr/\"><img src=\"https://github.githubassets.com/images/modules/logos_page/Octocat.png\" width=\"30\" ></a>\n",
    "Processament"
   ]
  },
  {
   "cell_type": "markdown",
   "id": "f99a0932",
   "metadata": {
    "papermill": {
     "duration": 0.008899,
     "end_time": "2023-05-27T22:31:59.817485",
     "exception": false,
     "start_time": "2023-05-27T22:31:59.808586",
     "status": "completed"
    },
    "tags": []
   },
   "source": [
    "# Competição Kaggle, Processamento de Linguagem Natural - NLP"
   ]
  },
  {
   "cell_type": "markdown",
   "id": "35fa50e9",
   "metadata": {
    "papermill": {
     "duration": 0.00871,
     "end_time": "2023-05-27T22:31:59.836436",
     "exception": false,
     "start_time": "2023-05-27T22:31:59.827726",
     "status": "completed"
    },
    "tags": []
   },
   "source": [
    "## Tweets de desastres naturais\n",
    "* Na competição temos um conjunto de 10.000   \n",
    "* Os tweets foram classificados manualmente como:\n",
    "   - um tweet normal(0), 'Oh que dia lindo!'\n",
    "   - um tweet relatando um desastre natural(1), 'Incêndio na BR 277'  \n",
    "   (os tweets são em inglês)"
   ]
  },
  {
   "cell_type": "markdown",
   "id": "5f95ec0f",
   "metadata": {
    "papermill": {
     "duration": 0.008496,
     "end_time": "2023-05-27T22:31:59.854120",
     "exception": false,
     "start_time": "2023-05-27T22:31:59.845624",
     "status": "completed"
    },
    "tags": []
   },
   "source": [
    "### Importando as bibliotecas necessárias:"
   ]
  },
  {
   "cell_type": "code",
   "execution_count": 2,
   "id": "e5357b22",
   "metadata": {
    "execution": {
     "iopub.execute_input": "2023-05-27T22:31:59.873461Z",
     "iopub.status.busy": "2023-05-27T22:31:59.872847Z",
     "iopub.status.idle": "2023-05-27T22:32:01.098981Z",
     "shell.execute_reply": "2023-05-27T22:32:01.098012Z"
    },
    "papermill": {
     "duration": 1.239304,
     "end_time": "2023-05-27T22:32:01.101952",
     "exception": false,
     "start_time": "2023-05-27T22:31:59.862648",
     "status": "completed"
    },
    "tags": []
   },
   "outputs": [],
   "source": [
    "import numpy as np \n",
    "import pandas as pd \n",
    "from sklearn import feature_extraction, linear_model, model_selection, preprocessing"
   ]
  },
  {
   "cell_type": "markdown",
   "id": "2d95af5c",
   "metadata": {
    "papermill": {
     "duration": 0.01077,
     "end_time": "2023-05-27T22:32:01.122298",
     "exception": false,
     "start_time": "2023-05-27T22:32:01.111528",
     "status": "completed"
    },
    "tags": []
   },
   "source": [
    "### Criando nossos conjuntos de treino e teste:"
   ]
  },
  {
   "cell_type": "code",
   "execution_count": 3,
   "id": "db175f6f",
   "metadata": {
    "execution": {
     "iopub.execute_input": "2023-05-27T22:32:01.145891Z",
     "iopub.status.busy": "2023-05-27T22:32:01.145454Z",
     "iopub.status.idle": "2023-05-27T22:32:01.233720Z",
     "shell.execute_reply": "2023-05-27T22:32:01.232936Z"
    },
    "papermill": {
     "duration": 0.103264,
     "end_time": "2023-05-27T22:32:01.236134",
     "exception": false,
     "start_time": "2023-05-27T22:32:01.132870",
     "status": "completed"
    },
    "tags": []
   },
   "outputs": [],
   "source": [
    "train_df = pd.read_csv(\"/kaggle/input/nlp-getting-started/train.csv\")\n",
    "test_df = pd.read_csv(\"/kaggle/input/nlp-getting-started/test.csv\")"
   ]
  },
  {
   "cell_type": "markdown",
   "id": "d2b225f9",
   "metadata": {
    "papermill": {
     "duration": 0.009071,
     "end_time": "2023-05-27T22:32:01.255022",
     "exception": false,
     "start_time": "2023-05-27T22:32:01.245951",
     "status": "completed"
    },
    "tags": []
   },
   "source": [
    "### Olhada nos dados\n",
    "* Uma vez carregados os dados vou dar uma olhada nos tweets"
   ]
  },
  {
   "cell_type": "code",
   "execution_count": 4,
   "id": "b39bbae5",
   "metadata": {
    "execution": {
     "iopub.execute_input": "2023-05-27T22:32:01.274668Z",
     "iopub.status.busy": "2023-05-27T22:32:01.274321Z",
     "iopub.status.idle": "2023-05-27T22:32:01.305143Z",
     "shell.execute_reply": "2023-05-27T22:32:01.304274Z"
    },
    "papermill": {
     "duration": 0.04306,
     "end_time": "2023-05-27T22:32:01.307135",
     "exception": false,
     "start_time": "2023-05-27T22:32:01.264075",
     "status": "completed"
    },
    "tags": []
   },
   "outputs": [
    {
     "data": {
      "text/html": [
       "<div>\n",
       "<style scoped>\n",
       "    .dataframe tbody tr th:only-of-type {\n",
       "        vertical-align: middle;\n",
       "    }\n",
       "\n",
       "    .dataframe tbody tr th {\n",
       "        vertical-align: top;\n",
       "    }\n",
       "\n",
       "    .dataframe thead th {\n",
       "        text-align: right;\n",
       "    }\n",
       "</style>\n",
       "<table border=\"1\" class=\"dataframe\">\n",
       "  <thead>\n",
       "    <tr style=\"text-align: right;\">\n",
       "      <th></th>\n",
       "      <th>id</th>\n",
       "      <th>keyword</th>\n",
       "      <th>location</th>\n",
       "      <th>text</th>\n",
       "      <th>target</th>\n",
       "    </tr>\n",
       "  </thead>\n",
       "  <tbody>\n",
       "    <tr>\n",
       "      <th>15</th>\n",
       "      <td>23</td>\n",
       "      <td>NaN</td>\n",
       "      <td>NaN</td>\n",
       "      <td>What's up man?</td>\n",
       "      <td>0</td>\n",
       "    </tr>\n",
       "    <tr>\n",
       "      <th>16</th>\n",
       "      <td>24</td>\n",
       "      <td>NaN</td>\n",
       "      <td>NaN</td>\n",
       "      <td>I love fruits</td>\n",
       "      <td>0</td>\n",
       "    </tr>\n",
       "    <tr>\n",
       "      <th>17</th>\n",
       "      <td>25</td>\n",
       "      <td>NaN</td>\n",
       "      <td>NaN</td>\n",
       "      <td>Summer is lovely</td>\n",
       "      <td>0</td>\n",
       "    </tr>\n",
       "    <tr>\n",
       "      <th>18</th>\n",
       "      <td>26</td>\n",
       "      <td>NaN</td>\n",
       "      <td>NaN</td>\n",
       "      <td>My car is so fast</td>\n",
       "      <td>0</td>\n",
       "    </tr>\n",
       "    <tr>\n",
       "      <th>19</th>\n",
       "      <td>28</td>\n",
       "      <td>NaN</td>\n",
       "      <td>NaN</td>\n",
       "      <td>What a goooooooaaaaaal!!!!!!</td>\n",
       "      <td>0</td>\n",
       "    </tr>\n",
       "    <tr>\n",
       "      <th>20</th>\n",
       "      <td>31</td>\n",
       "      <td>NaN</td>\n",
       "      <td>NaN</td>\n",
       "      <td>this is ridiculous....</td>\n",
       "      <td>0</td>\n",
       "    </tr>\n",
       "    <tr>\n",
       "      <th>21</th>\n",
       "      <td>32</td>\n",
       "      <td>NaN</td>\n",
       "      <td>NaN</td>\n",
       "      <td>London is cool ;)</td>\n",
       "      <td>0</td>\n",
       "    </tr>\n",
       "    <tr>\n",
       "      <th>22</th>\n",
       "      <td>33</td>\n",
       "      <td>NaN</td>\n",
       "      <td>NaN</td>\n",
       "      <td>Love skiing</td>\n",
       "      <td>0</td>\n",
       "    </tr>\n",
       "    <tr>\n",
       "      <th>23</th>\n",
       "      <td>34</td>\n",
       "      <td>NaN</td>\n",
       "      <td>NaN</td>\n",
       "      <td>What a wonderful day!</td>\n",
       "      <td>0</td>\n",
       "    </tr>\n",
       "    <tr>\n",
       "      <th>24</th>\n",
       "      <td>36</td>\n",
       "      <td>NaN</td>\n",
       "      <td>NaN</td>\n",
       "      <td>LOOOOOOL</td>\n",
       "      <td>0</td>\n",
       "    </tr>\n",
       "  </tbody>\n",
       "</table>\n",
       "</div>"
      ],
      "text/plain": [
       "    id keyword location                          text  target\n",
       "15  23     NaN      NaN                What's up man?       0\n",
       "16  24     NaN      NaN                 I love fruits       0\n",
       "17  25     NaN      NaN              Summer is lovely       0\n",
       "18  26     NaN      NaN             My car is so fast       0\n",
       "19  28     NaN      NaN  What a goooooooaaaaaal!!!!!!       0\n",
       "20  31     NaN      NaN        this is ridiculous....       0\n",
       "21  32     NaN      NaN             London is cool ;)       0\n",
       "22  33     NaN      NaN                   Love skiing       0\n",
       "23  34     NaN      NaN         What a wonderful day!       0\n",
       "24  36     NaN      NaN                      LOOOOOOL       0"
      ]
     },
     "execution_count": 4,
     "metadata": {},
     "output_type": "execute_result"
    }
   ],
   "source": [
    "# Exibindo 10 tweets normais(0)\n",
    "train_df.loc[train_df['target'] == 0].head(10)\n"
   ]
  },
  {
   "cell_type": "code",
   "execution_count": 5,
   "id": "636568cf",
   "metadata": {
    "execution": {
     "iopub.execute_input": "2023-05-27T22:32:01.326739Z",
     "iopub.status.busy": "2023-05-27T22:32:01.326396Z",
     "iopub.status.idle": "2023-05-27T22:32:01.338306Z",
     "shell.execute_reply": "2023-05-27T22:32:01.337460Z"
    },
    "papermill": {
     "duration": 0.024004,
     "end_time": "2023-05-27T22:32:01.340304",
     "exception": false,
     "start_time": "2023-05-27T22:32:01.316300",
     "status": "completed"
    },
    "tags": []
   },
   "outputs": [
    {
     "data": {
      "text/html": [
       "<div>\n",
       "<style scoped>\n",
       "    .dataframe tbody tr th:only-of-type {\n",
       "        vertical-align: middle;\n",
       "    }\n",
       "\n",
       "    .dataframe tbody tr th {\n",
       "        vertical-align: top;\n",
       "    }\n",
       "\n",
       "    .dataframe thead th {\n",
       "        text-align: right;\n",
       "    }\n",
       "</style>\n",
       "<table border=\"1\" class=\"dataframe\">\n",
       "  <thead>\n",
       "    <tr style=\"text-align: right;\">\n",
       "      <th></th>\n",
       "      <th>id</th>\n",
       "      <th>keyword</th>\n",
       "      <th>location</th>\n",
       "      <th>text</th>\n",
       "      <th>target</th>\n",
       "    </tr>\n",
       "  </thead>\n",
       "  <tbody>\n",
       "    <tr>\n",
       "      <th>0</th>\n",
       "      <td>1</td>\n",
       "      <td>NaN</td>\n",
       "      <td>NaN</td>\n",
       "      <td>Our Deeds are the Reason of this #earthquake M...</td>\n",
       "      <td>1</td>\n",
       "    </tr>\n",
       "    <tr>\n",
       "      <th>1</th>\n",
       "      <td>4</td>\n",
       "      <td>NaN</td>\n",
       "      <td>NaN</td>\n",
       "      <td>Forest fire near La Ronge Sask. Canada</td>\n",
       "      <td>1</td>\n",
       "    </tr>\n",
       "    <tr>\n",
       "      <th>2</th>\n",
       "      <td>5</td>\n",
       "      <td>NaN</td>\n",
       "      <td>NaN</td>\n",
       "      <td>All residents asked to 'shelter in place' are ...</td>\n",
       "      <td>1</td>\n",
       "    </tr>\n",
       "    <tr>\n",
       "      <th>3</th>\n",
       "      <td>6</td>\n",
       "      <td>NaN</td>\n",
       "      <td>NaN</td>\n",
       "      <td>13,000 people receive #wildfires evacuation or...</td>\n",
       "      <td>1</td>\n",
       "    </tr>\n",
       "    <tr>\n",
       "      <th>4</th>\n",
       "      <td>7</td>\n",
       "      <td>NaN</td>\n",
       "      <td>NaN</td>\n",
       "      <td>Just got sent this photo from Ruby #Alaska as ...</td>\n",
       "      <td>1</td>\n",
       "    </tr>\n",
       "    <tr>\n",
       "      <th>5</th>\n",
       "      <td>8</td>\n",
       "      <td>NaN</td>\n",
       "      <td>NaN</td>\n",
       "      <td>#RockyFire Update =&gt; California Hwy. 20 closed...</td>\n",
       "      <td>1</td>\n",
       "    </tr>\n",
       "    <tr>\n",
       "      <th>6</th>\n",
       "      <td>10</td>\n",
       "      <td>NaN</td>\n",
       "      <td>NaN</td>\n",
       "      <td>#flood #disaster Heavy rain causes flash flood...</td>\n",
       "      <td>1</td>\n",
       "    </tr>\n",
       "    <tr>\n",
       "      <th>7</th>\n",
       "      <td>13</td>\n",
       "      <td>NaN</td>\n",
       "      <td>NaN</td>\n",
       "      <td>I'm on top of the hill and I can see a fire in...</td>\n",
       "      <td>1</td>\n",
       "    </tr>\n",
       "    <tr>\n",
       "      <th>8</th>\n",
       "      <td>14</td>\n",
       "      <td>NaN</td>\n",
       "      <td>NaN</td>\n",
       "      <td>There's an emergency evacuation happening now ...</td>\n",
       "      <td>1</td>\n",
       "    </tr>\n",
       "    <tr>\n",
       "      <th>9</th>\n",
       "      <td>15</td>\n",
       "      <td>NaN</td>\n",
       "      <td>NaN</td>\n",
       "      <td>I'm afraid that the tornado is coming to our a...</td>\n",
       "      <td>1</td>\n",
       "    </tr>\n",
       "  </tbody>\n",
       "</table>\n",
       "</div>"
      ],
      "text/plain": [
       "   id keyword location                                               text  \\\n",
       "0   1     NaN      NaN  Our Deeds are the Reason of this #earthquake M...   \n",
       "1   4     NaN      NaN             Forest fire near La Ronge Sask. Canada   \n",
       "2   5     NaN      NaN  All residents asked to 'shelter in place' are ...   \n",
       "3   6     NaN      NaN  13,000 people receive #wildfires evacuation or...   \n",
       "4   7     NaN      NaN  Just got sent this photo from Ruby #Alaska as ...   \n",
       "5   8     NaN      NaN  #RockyFire Update => California Hwy. 20 closed...   \n",
       "6  10     NaN      NaN  #flood #disaster Heavy rain causes flash flood...   \n",
       "7  13     NaN      NaN  I'm on top of the hill and I can see a fire in...   \n",
       "8  14     NaN      NaN  There's an emergency evacuation happening now ...   \n",
       "9  15     NaN      NaN  I'm afraid that the tornado is coming to our a...   \n",
       "\n",
       "   target  \n",
       "0       1  \n",
       "1       1  \n",
       "2       1  \n",
       "3       1  \n",
       "4       1  \n",
       "5       1  \n",
       "6       1  \n",
       "7       1  \n",
       "8       1  \n",
       "9       1  "
      ]
     },
     "execution_count": 5,
     "metadata": {},
     "output_type": "execute_result"
    }
   ],
   "source": [
    "# Exibindo 10 tweets desastre(1)\n",
    "train_df.loc[train_df['target'] == 1].head(10)\n"
   ]
  },
  {
   "cell_type": "markdown",
   "id": "8e8548b8",
   "metadata": {
    "papermill": {
     "duration": 0.009179,
     "end_time": "2023-05-27T22:32:01.359001",
     "exception": false,
     "start_time": "2023-05-27T22:32:01.349822",
     "status": "completed"
    },
    "tags": []
   },
   "source": [
    "### Quero dar uma olhada no tamanho do meu conjunto de teste"
   ]
  },
  {
   "cell_type": "code",
   "execution_count": 6,
   "id": "e6c83e90",
   "metadata": {
    "execution": {
     "iopub.execute_input": "2023-05-27T22:32:01.379013Z",
     "iopub.status.busy": "2023-05-27T22:32:01.378410Z",
     "iopub.status.idle": "2023-05-27T22:32:01.383536Z",
     "shell.execute_reply": "2023-05-27T22:32:01.382927Z"
    },
    "papermill": {
     "duration": 0.017003,
     "end_time": "2023-05-27T22:32:01.385244",
     "exception": false,
     "start_time": "2023-05-27T22:32:01.368241",
     "status": "completed"
    },
    "tags": []
   },
   "outputs": [
    {
     "data": {
      "text/plain": [
       "(7613, 5)"
      ]
     },
     "execution_count": 6,
     "metadata": {},
     "output_type": "execute_result"
    }
   ],
   "source": [
    "train_df.shape"
   ]
  },
  {
   "cell_type": "markdown",
   "id": "767b8e00",
   "metadata": {
    "papermill": {
     "duration": 0.008794,
     "end_time": "2023-05-27T22:32:01.403321",
     "exception": false,
     "start_time": "2023-05-27T22:32:01.394527",
     "status": "completed"
    },
    "tags": []
   },
   "source": [
    ">Interessante aqui que temos, 7.6 mil tweets para analisar, é um volume grande, deve ter dado uma trabalheira classificar manualmente, mas devido a isto, tendemos a obter um grau grande de precisão, jogando lá embaixo nosso erro amostral."
   ]
  },
  {
   "cell_type": "markdown",
   "id": "2aa1203e",
   "metadata": {
    "papermill": {
     "duration": 0.009033,
     "end_time": "2023-05-27T22:32:01.421425",
     "exception": false,
     "start_time": "2023-05-27T22:32:01.412392",
     "status": "completed"
    },
    "tags": []
   },
   "source": [
    "#### Construindo vetores\n",
    "A teoria por trás do modelo que iremos construir neste notebook é bastante simples: as palavras contidas em cada tweet são um bom indicador se eles se referem ou não a um desastre real (isso não é totalmente correto, mas é um ótimo ponto de partida).\n",
    "\n",
    "Vamos usar o CountVectorizer do scikit-learn para contar as palavras em cada tweet e transformá-las em dados que nosso modelo de aprendizado de máquina pode processar.\n",
    "\n",
    "Observação: um vetor, nesse contexto, é um conjunto de números com os quais um modelo de aprendizado de máquina pode trabalhar. Vamos analisar um vetor em apenas um segundo."
   ]
  },
  {
   "cell_type": "code",
   "execution_count": 7,
   "id": "994ceaa4",
   "metadata": {
    "execution": {
     "iopub.execute_input": "2023-05-27T22:32:01.441392Z",
     "iopub.status.busy": "2023-05-27T22:32:01.440577Z",
     "iopub.status.idle": "2023-05-27T22:32:01.451266Z",
     "shell.execute_reply": "2023-05-27T22:32:01.450687Z"
    },
    "papermill": {
     "duration": 0.022352,
     "end_time": "2023-05-27T22:32:01.452986",
     "exception": false,
     "start_time": "2023-05-27T22:32:01.430634",
     "status": "completed"
    },
    "tags": []
   },
   "outputs": [],
   "source": [
    "count_vectorizer = feature_extraction.text.CountVectorizer()\n",
    "\n",
    "## Vamos obter a contagem das primeiras 5 postagens no conjunto de dados.\n",
    "example_train_vectors = count_vectorizer.fit_transform(train_df[\"text\"][0:5])"
   ]
  },
  {
   "cell_type": "code",
   "execution_count": 8,
   "id": "1176e147",
   "metadata": {
    "execution": {
     "iopub.execute_input": "2023-05-27T22:32:01.473023Z",
     "iopub.status.busy": "2023-05-27T22:32:01.472718Z",
     "iopub.status.idle": "2023-05-27T22:32:01.479153Z",
     "shell.execute_reply": "2023-05-27T22:32:01.478383Z"
    },
    "papermill": {
     "duration": 0.018293,
     "end_time": "2023-05-27T22:32:01.480865",
     "exception": false,
     "start_time": "2023-05-27T22:32:01.462572",
     "status": "completed"
    },
    "tags": []
   },
   "outputs": [
    {
     "name": "stdout",
     "output_type": "stream",
     "text": [
      "(1, 54)\n",
      "[[0 0 0 1 1 1 0 0 0 0 0 0 1 1 0 0 0 0 1 0 0 0 0 0 0 1 0 0 0 1 0 0 0 0 1 0\n",
      "  0 0 0 1 0 0 0 0 0 0 0 0 0 1 1 0 1 0]]\n"
     ]
    }
   ],
   "source": [
    "## Nós usamos .todense() aqui porque esses vetores são \"esparços\" (apenas os elementos não nulos são mantidos para economizar espaço).\n",
    "print(example_train_vectors[0].todense().shape)\n",
    "print(example_train_vectors[0].todense())"
   ]
  },
  {
   "cell_type": "markdown",
   "id": "331603d7",
   "metadata": {
    "papermill": {
     "duration": 0.008943,
     "end_time": "2023-05-27T22:32:01.498809",
     "exception": false,
     "start_time": "2023-05-27T22:32:01.489866",
     "status": "completed"
    },
    "tags": []
   },
   "source": [
    "Podemos notar acima que existem 54 palavras únicas (ou \"tokens\") nos primeiros cinco tweets.\n",
    "O primeiro tweet contém apenas alguns desses tokens únicos - todas as contagens não nulas acima são os tokens que EXISTEM no primeiro tweet.\n"
   ]
  },
  {
   "cell_type": "markdown",
   "id": "6af668f9",
   "metadata": {
    "papermill": {
     "duration": 0.009283,
     "end_time": "2023-05-27T22:32:01.517341",
     "exception": false,
     "start_time": "2023-05-27T22:32:01.508058",
     "status": "completed"
    },
    "tags": []
   },
   "source": [
    "Existem 54 palavras únicas (ou \"tokens\") nos primeiros cinco tweets.\n",
    "O primeiro tweet contém apenas alguns desses tokens únicos - todas as contagens não nulas acima são os tokens que EXISTEM no primeiro tweet.\n",
    "Agora vamos criar vetores para todos os nossos tweets."
   ]
  },
  {
   "cell_type": "markdown",
   "id": "2923f9df",
   "metadata": {
    "papermill": {
     "duration": 0.009135,
     "end_time": "2023-05-27T22:32:01.536018",
     "exception": false,
     "start_time": "2023-05-27T22:32:01.526883",
     "status": "completed"
    },
    "tags": []
   },
   "source": [
    "### Agora vamos criar vetores para todos os nossos tweets."
   ]
  },
  {
   "cell_type": "code",
   "execution_count": 9,
   "id": "1854018b",
   "metadata": {
    "execution": {
     "iopub.execute_input": "2023-05-27T22:32:01.556467Z",
     "iopub.status.busy": "2023-05-27T22:32:01.555856Z",
     "iopub.status.idle": "2023-05-27T22:32:01.860637Z",
     "shell.execute_reply": "2023-05-27T22:32:01.859602Z"
    },
    "papermill": {
     "duration": 0.31833,
     "end_time": "2023-05-27T22:32:01.863569",
     "exception": false,
     "start_time": "2023-05-27T22:32:01.545239",
     "status": "completed"
    },
    "tags": []
   },
   "outputs": [],
   "source": [
    "train_vectors = count_vectorizer.fit_transform(train_df[\"text\"])\n",
    "\n",
    "# Observe que NÃO estamos usando .fit_transform() aqui. \n",
    "# Ao usar apenas .transform(), garantimos que os tokens nos vetores de treinamento\n",
    "# sejam os únicos mapeados para os vetores de teste - \n",
    "# ou seja, que os vetores de treinamento e teste usem o mesmo conjunto de tokens.\n",
    "test_vectors = count_vectorizer.transform(test_df[\"text\"])"
   ]
  },
  {
   "cell_type": "markdown",
   "id": "eb2f7a50",
   "metadata": {
    "papermill": {
     "duration": 0.009769,
     "end_time": "2023-05-27T22:32:01.883136",
     "exception": false,
     "start_time": "2023-05-27T22:32:01.873367",
     "status": "completed"
    },
    "tags": []
   },
   "source": [
    "Nosso modelo\n",
    "Como mencionei anteriormente, acredito que as palavras contidas em cada tweet são um bom indicador se eles se referem ou não a um desastre real. A presença de uma palavra específica (ou conjunto de palavras) em um tweet pode estar diretamente relacionada a se o tweet desastre ou não.\n",
    "\n",
    "Agora vamos construir o modelo!"
   ]
  },
  {
   "cell_type": "code",
   "execution_count": 10,
   "id": "2fee7cdd",
   "metadata": {
    "execution": {
     "iopub.execute_input": "2023-05-27T22:32:01.904857Z",
     "iopub.status.busy": "2023-05-27T22:32:01.904142Z",
     "iopub.status.idle": "2023-05-27T22:32:01.908181Z",
     "shell.execute_reply": "2023-05-27T22:32:01.907507Z"
    },
    "papermill": {
     "duration": 0.016927,
     "end_time": "2023-05-27T22:32:01.910198",
     "exception": false,
     "start_time": "2023-05-27T22:32:01.893271",
     "status": "completed"
    },
    "tags": []
   },
   "outputs": [],
   "source": [
    "## Nossos vetores são realmente grandes, então queremos ajustar os pesos do nosso modelo.\n",
    "## Em direção a 0, sem descartar completamente palavras diferentes - ridge regression \n",
    "clf = linear_model.RidgeClassifier()"
   ]
  },
  {
   "cell_type": "markdown",
   "id": "a0d726c5",
   "metadata": {
    "papermill": {
     "duration": 0.009782,
     "end_time": "2023-05-27T22:32:01.930203",
     "exception": false,
     "start_time": "2023-05-27T22:32:01.920421",
     "status": "completed"
    },
    "tags": []
   },
   "source": [
    "Vamos testar nosso modelo e ver como ele se sai nos dados de treinamento. Para isso, usaremos a validação cruzada - em que treinamos uma parte dos dados conhecidos e, em seguida, validamos com o restante. Se fizermos isso várias vezes (com diferentes partes), podemos ter uma boa ideia de como um determinado modelo ou método se comporta.\n",
    "\n",
    "A métrica para esta competição é o F1, então vamos usá-lo aqui."
   ]
  },
  {
   "cell_type": "code",
   "execution_count": 11,
   "id": "5b66c800",
   "metadata": {
    "execution": {
     "iopub.execute_input": "2023-05-27T22:32:01.951434Z",
     "iopub.status.busy": "2023-05-27T22:32:01.951085Z",
     "iopub.status.idle": "2023-05-27T22:32:02.589566Z",
     "shell.execute_reply": "2023-05-27T22:32:02.588324Z"
    },
    "papermill": {
     "duration": 0.653122,
     "end_time": "2023-05-27T22:32:02.593169",
     "exception": false,
     "start_time": "2023-05-27T22:32:01.940047",
     "status": "completed"
    },
    "tags": []
   },
   "outputs": [
    {
     "data": {
      "text/plain": [
       "array([0.59453669, 0.5642787 , 0.64082434])"
      ]
     },
     "execution_count": 11,
     "metadata": {},
     "output_type": "execute_result"
    }
   ],
   "source": [
    "scores = model_selection.cross_val_score(clf, train_vectors, train_df[\"target\"], cv=3, scoring=\"f1\")\n",
    "scores"
   ]
  },
  {
   "cell_type": "markdown",
   "id": "0e4236bb",
   "metadata": {
    "papermill": {
     "duration": 0.021717,
     "end_time": "2023-05-27T22:32:02.636623",
     "exception": false,
     "start_time": "2023-05-27T22:32:02.614906",
     "status": "completed"
    },
    "tags": []
   },
   "source": [
    "> As pontuações acima estão baixas, mas aceitavéis, para melhorar isto existem vários metódos a serem aplicados em notebooks posteriorres. Agora vou fazer as predições enviar."
   ]
  },
  {
   "cell_type": "code",
   "execution_count": 12,
   "id": "03a3cd85",
   "metadata": {
    "execution": {
     "iopub.execute_input": "2023-05-27T22:32:02.681029Z",
     "iopub.status.busy": "2023-05-27T22:32:02.678685Z",
     "iopub.status.idle": "2023-05-27T22:32:03.000722Z",
     "shell.execute_reply": "2023-05-27T22:32:02.999558Z"
    },
    "papermill": {
     "duration": 0.346633,
     "end_time": "2023-05-27T22:32:03.004106",
     "exception": false,
     "start_time": "2023-05-27T22:32:02.657473",
     "status": "completed"
    },
    "tags": []
   },
   "outputs": [
    {
     "data": {
      "text/html": [
       "<style>#sk-container-id-1 {color: black;background-color: white;}#sk-container-id-1 pre{padding: 0;}#sk-container-id-1 div.sk-toggleable {background-color: white;}#sk-container-id-1 label.sk-toggleable__label {cursor: pointer;display: block;width: 100%;margin-bottom: 0;padding: 0.3em;box-sizing: border-box;text-align: center;}#sk-container-id-1 label.sk-toggleable__label-arrow:before {content: \"▸\";float: left;margin-right: 0.25em;color: #696969;}#sk-container-id-1 label.sk-toggleable__label-arrow:hover:before {color: black;}#sk-container-id-1 div.sk-estimator:hover label.sk-toggleable__label-arrow:before {color: black;}#sk-container-id-1 div.sk-toggleable__content {max-height: 0;max-width: 0;overflow: hidden;text-align: left;background-color: #f0f8ff;}#sk-container-id-1 div.sk-toggleable__content pre {margin: 0.2em;color: black;border-radius: 0.25em;background-color: #f0f8ff;}#sk-container-id-1 input.sk-toggleable__control:checked~div.sk-toggleable__content {max-height: 200px;max-width: 100%;overflow: auto;}#sk-container-id-1 input.sk-toggleable__control:checked~label.sk-toggleable__label-arrow:before {content: \"▾\";}#sk-container-id-1 div.sk-estimator input.sk-toggleable__control:checked~label.sk-toggleable__label {background-color: #d4ebff;}#sk-container-id-1 div.sk-label input.sk-toggleable__control:checked~label.sk-toggleable__label {background-color: #d4ebff;}#sk-container-id-1 input.sk-hidden--visually {border: 0;clip: rect(1px 1px 1px 1px);clip: rect(1px, 1px, 1px, 1px);height: 1px;margin: -1px;overflow: hidden;padding: 0;position: absolute;width: 1px;}#sk-container-id-1 div.sk-estimator {font-family: monospace;background-color: #f0f8ff;border: 1px dotted black;border-radius: 0.25em;box-sizing: border-box;margin-bottom: 0.5em;}#sk-container-id-1 div.sk-estimator:hover {background-color: #d4ebff;}#sk-container-id-1 div.sk-parallel-item::after {content: \"\";width: 100%;border-bottom: 1px solid gray;flex-grow: 1;}#sk-container-id-1 div.sk-label:hover label.sk-toggleable__label {background-color: #d4ebff;}#sk-container-id-1 div.sk-serial::before {content: \"\";position: absolute;border-left: 1px solid gray;box-sizing: border-box;top: 0;bottom: 0;left: 50%;z-index: 0;}#sk-container-id-1 div.sk-serial {display: flex;flex-direction: column;align-items: center;background-color: white;padding-right: 0.2em;padding-left: 0.2em;position: relative;}#sk-container-id-1 div.sk-item {position: relative;z-index: 1;}#sk-container-id-1 div.sk-parallel {display: flex;align-items: stretch;justify-content: center;background-color: white;position: relative;}#sk-container-id-1 div.sk-item::before, #sk-container-id-1 div.sk-parallel-item::before {content: \"\";position: absolute;border-left: 1px solid gray;box-sizing: border-box;top: 0;bottom: 0;left: 50%;z-index: -1;}#sk-container-id-1 div.sk-parallel-item {display: flex;flex-direction: column;z-index: 1;position: relative;background-color: white;}#sk-container-id-1 div.sk-parallel-item:first-child::after {align-self: flex-end;width: 50%;}#sk-container-id-1 div.sk-parallel-item:last-child::after {align-self: flex-start;width: 50%;}#sk-container-id-1 div.sk-parallel-item:only-child::after {width: 0;}#sk-container-id-1 div.sk-dashed-wrapped {border: 1px dashed gray;margin: 0 0.4em 0.5em 0.4em;box-sizing: border-box;padding-bottom: 0.4em;background-color: white;}#sk-container-id-1 div.sk-label label {font-family: monospace;font-weight: bold;display: inline-block;line-height: 1.2em;}#sk-container-id-1 div.sk-label-container {text-align: center;}#sk-container-id-1 div.sk-container {/* jupyter's `normalize.less` sets `[hidden] { display: none; }` but bootstrap.min.css set `[hidden] { display: none !important; }` so we also need the `!important` here to be able to override the default hidden behavior on the sphinx rendered scikit-learn.org. See: https://github.com/scikit-learn/scikit-learn/issues/21755 */display: inline-block !important;position: relative;}#sk-container-id-1 div.sk-text-repr-fallback {display: none;}</style><div id=\"sk-container-id-1\" class=\"sk-top-container\"><div class=\"sk-text-repr-fallback\"><pre>RidgeClassifier()</pre><b>In a Jupyter environment, please rerun this cell to show the HTML representation or trust the notebook. <br />On GitHub, the HTML representation is unable to render, please try loading this page with nbviewer.org.</b></div><div class=\"sk-container\" hidden><div class=\"sk-item\"><div class=\"sk-estimator sk-toggleable\"><input class=\"sk-toggleable__control sk-hidden--visually\" id=\"sk-estimator-id-1\" type=\"checkbox\" checked><label for=\"sk-estimator-id-1\" class=\"sk-toggleable__label sk-toggleable__label-arrow\">RidgeClassifier</label><div class=\"sk-toggleable__content\"><pre>RidgeClassifier()</pre></div></div></div></div></div>"
      ],
      "text/plain": [
       "RidgeClassifier()"
      ]
     },
     "execution_count": 12,
     "metadata": {},
     "output_type": "execute_result"
    }
   ],
   "source": [
    "clf.fit(train_vectors, train_df[\"target\"])"
   ]
  },
  {
   "cell_type": "code",
   "execution_count": 13,
   "id": "0a852533",
   "metadata": {
    "execution": {
     "iopub.execute_input": "2023-05-27T22:32:03.049844Z",
     "iopub.status.busy": "2023-05-27T22:32:03.049258Z",
     "iopub.status.idle": "2023-05-27T22:32:03.066230Z",
     "shell.execute_reply": "2023-05-27T22:32:03.065005Z"
    },
    "papermill": {
     "duration": 0.042709,
     "end_time": "2023-05-27T22:32:03.070133",
     "exception": false,
     "start_time": "2023-05-27T22:32:03.027424",
     "status": "completed"
    },
    "tags": []
   },
   "outputs": [],
   "source": [
    "sample_submission = pd.read_csv(\"/kaggle/input/nlp-getting-started/sample_submission.csv\")"
   ]
  },
  {
   "cell_type": "code",
   "execution_count": 14,
   "id": "0713dcb6",
   "metadata": {
    "execution": {
     "iopub.execute_input": "2023-05-27T22:32:03.109395Z",
     "iopub.status.busy": "2023-05-27T22:32:03.109112Z",
     "iopub.status.idle": "2023-05-27T22:32:03.113770Z",
     "shell.execute_reply": "2023-05-27T22:32:03.113044Z"
    },
    "papermill": {
     "duration": 0.025222,
     "end_time": "2023-05-27T22:32:03.116175",
     "exception": false,
     "start_time": "2023-05-27T22:32:03.090953",
     "status": "completed"
    },
    "tags": []
   },
   "outputs": [],
   "source": [
    "sample_submission[\"target\"] = clf.predict(test_vectors)"
   ]
  },
  {
   "cell_type": "code",
   "execution_count": 15,
   "id": "e32b9735",
   "metadata": {
    "execution": {
     "iopub.execute_input": "2023-05-27T22:32:03.137710Z",
     "iopub.status.busy": "2023-05-27T22:32:03.137158Z",
     "iopub.status.idle": "2023-05-27T22:32:03.145817Z",
     "shell.execute_reply": "2023-05-27T22:32:03.144876Z"
    },
    "papermill": {
     "duration": 0.021782,
     "end_time": "2023-05-27T22:32:03.147784",
     "exception": false,
     "start_time": "2023-05-27T22:32:03.126002",
     "status": "completed"
    },
    "tags": []
   },
   "outputs": [
    {
     "data": {
      "text/html": [
       "<div>\n",
       "<style scoped>\n",
       "    .dataframe tbody tr th:only-of-type {\n",
       "        vertical-align: middle;\n",
       "    }\n",
       "\n",
       "    .dataframe tbody tr th {\n",
       "        vertical-align: top;\n",
       "    }\n",
       "\n",
       "    .dataframe thead th {\n",
       "        text-align: right;\n",
       "    }\n",
       "</style>\n",
       "<table border=\"1\" class=\"dataframe\">\n",
       "  <thead>\n",
       "    <tr style=\"text-align: right;\">\n",
       "      <th></th>\n",
       "      <th>id</th>\n",
       "      <th>target</th>\n",
       "    </tr>\n",
       "  </thead>\n",
       "  <tbody>\n",
       "    <tr>\n",
       "      <th>0</th>\n",
       "      <td>0</td>\n",
       "      <td>0</td>\n",
       "    </tr>\n",
       "    <tr>\n",
       "      <th>1</th>\n",
       "      <td>2</td>\n",
       "      <td>1</td>\n",
       "    </tr>\n",
       "    <tr>\n",
       "      <th>2</th>\n",
       "      <td>3</td>\n",
       "      <td>1</td>\n",
       "    </tr>\n",
       "    <tr>\n",
       "      <th>3</th>\n",
       "      <td>9</td>\n",
       "      <td>0</td>\n",
       "    </tr>\n",
       "    <tr>\n",
       "      <th>4</th>\n",
       "      <td>11</td>\n",
       "      <td>1</td>\n",
       "    </tr>\n",
       "    <tr>\n",
       "      <th>5</th>\n",
       "      <td>12</td>\n",
       "      <td>1</td>\n",
       "    </tr>\n",
       "    <tr>\n",
       "      <th>6</th>\n",
       "      <td>21</td>\n",
       "      <td>0</td>\n",
       "    </tr>\n",
       "    <tr>\n",
       "      <th>7</th>\n",
       "      <td>22</td>\n",
       "      <td>0</td>\n",
       "    </tr>\n",
       "    <tr>\n",
       "      <th>8</th>\n",
       "      <td>27</td>\n",
       "      <td>0</td>\n",
       "    </tr>\n",
       "    <tr>\n",
       "      <th>9</th>\n",
       "      <td>29</td>\n",
       "      <td>0</td>\n",
       "    </tr>\n",
       "  </tbody>\n",
       "</table>\n",
       "</div>"
      ],
      "text/plain": [
       "   id  target\n",
       "0   0       0\n",
       "1   2       1\n",
       "2   3       1\n",
       "3   9       0\n",
       "4  11       1\n",
       "5  12       1\n",
       "6  21       0\n",
       "7  22       0\n",
       "8  27       0\n",
       "9  29       0"
      ]
     },
     "execution_count": 15,
     "metadata": {},
     "output_type": "execute_result"
    }
   ],
   "source": [
    "# Exibindo amostra das predições\n",
    "sample_submission.head(10)"
   ]
  },
  {
   "cell_type": "code",
   "execution_count": 16,
   "id": "18e71595",
   "metadata": {
    "execution": {
     "iopub.execute_input": "2023-05-27T22:32:03.169835Z",
     "iopub.status.busy": "2023-05-27T22:32:03.169211Z",
     "iopub.status.idle": "2023-05-27T22:32:03.181633Z",
     "shell.execute_reply": "2023-05-27T22:32:03.180725Z"
    },
    "papermill": {
     "duration": 0.025587,
     "end_time": "2023-05-27T22:32:03.183576",
     "exception": false,
     "start_time": "2023-05-27T22:32:03.157989",
     "status": "completed"
    },
    "tags": []
   },
   "outputs": [
    {
     "data": {
      "text/html": [
       "<div>\n",
       "<style scoped>\n",
       "    .dataframe tbody tr th:only-of-type {\n",
       "        vertical-align: middle;\n",
       "    }\n",
       "\n",
       "    .dataframe tbody tr th {\n",
       "        vertical-align: top;\n",
       "    }\n",
       "\n",
       "    .dataframe thead th {\n",
       "        text-align: right;\n",
       "    }\n",
       "</style>\n",
       "<table border=\"1\" class=\"dataframe\">\n",
       "  <thead>\n",
       "    <tr style=\"text-align: right;\">\n",
       "      <th></th>\n",
       "      <th>id</th>\n",
       "      <th>keyword</th>\n",
       "      <th>location</th>\n",
       "      <th>text</th>\n",
       "    </tr>\n",
       "  </thead>\n",
       "  <tbody>\n",
       "    <tr>\n",
       "      <th>0</th>\n",
       "      <td>0</td>\n",
       "      <td>NaN</td>\n",
       "      <td>NaN</td>\n",
       "      <td>Just happened a terrible car crash</td>\n",
       "    </tr>\n",
       "    <tr>\n",
       "      <th>1</th>\n",
       "      <td>2</td>\n",
       "      <td>NaN</td>\n",
       "      <td>NaN</td>\n",
       "      <td>Heard about #earthquake is different cities, s...</td>\n",
       "    </tr>\n",
       "    <tr>\n",
       "      <th>2</th>\n",
       "      <td>3</td>\n",
       "      <td>NaN</td>\n",
       "      <td>NaN</td>\n",
       "      <td>there is a forest fire at spot pond, geese are...</td>\n",
       "    </tr>\n",
       "    <tr>\n",
       "      <th>3</th>\n",
       "      <td>9</td>\n",
       "      <td>NaN</td>\n",
       "      <td>NaN</td>\n",
       "      <td>Apocalypse lighting. #Spokane #wildfires</td>\n",
       "    </tr>\n",
       "    <tr>\n",
       "      <th>4</th>\n",
       "      <td>11</td>\n",
       "      <td>NaN</td>\n",
       "      <td>NaN</td>\n",
       "      <td>Typhoon Soudelor kills 28 in China and Taiwan</td>\n",
       "    </tr>\n",
       "    <tr>\n",
       "      <th>...</th>\n",
       "      <td>...</td>\n",
       "      <td>...</td>\n",
       "      <td>...</td>\n",
       "      <td>...</td>\n",
       "    </tr>\n",
       "    <tr>\n",
       "      <th>3258</th>\n",
       "      <td>10861</td>\n",
       "      <td>NaN</td>\n",
       "      <td>NaN</td>\n",
       "      <td>EARTHQUAKE SAFETY LOS ANGELES ÛÒ SAFETY FASTE...</td>\n",
       "    </tr>\n",
       "    <tr>\n",
       "      <th>3259</th>\n",
       "      <td>10865</td>\n",
       "      <td>NaN</td>\n",
       "      <td>NaN</td>\n",
       "      <td>Storm in RI worse than last hurricane. My city...</td>\n",
       "    </tr>\n",
       "    <tr>\n",
       "      <th>3260</th>\n",
       "      <td>10868</td>\n",
       "      <td>NaN</td>\n",
       "      <td>NaN</td>\n",
       "      <td>Green Line derailment in Chicago http://t.co/U...</td>\n",
       "    </tr>\n",
       "    <tr>\n",
       "      <th>3261</th>\n",
       "      <td>10874</td>\n",
       "      <td>NaN</td>\n",
       "      <td>NaN</td>\n",
       "      <td>MEG issues Hazardous Weather Outlook (HWO) htt...</td>\n",
       "    </tr>\n",
       "    <tr>\n",
       "      <th>3262</th>\n",
       "      <td>10875</td>\n",
       "      <td>NaN</td>\n",
       "      <td>NaN</td>\n",
       "      <td>#CityofCalgary has activated its Municipal Eme...</td>\n",
       "    </tr>\n",
       "  </tbody>\n",
       "</table>\n",
       "<p>3263 rows × 4 columns</p>\n",
       "</div>"
      ],
      "text/plain": [
       "         id keyword location  \\\n",
       "0         0     NaN      NaN   \n",
       "1         2     NaN      NaN   \n",
       "2         3     NaN      NaN   \n",
       "3         9     NaN      NaN   \n",
       "4        11     NaN      NaN   \n",
       "...     ...     ...      ...   \n",
       "3258  10861     NaN      NaN   \n",
       "3259  10865     NaN      NaN   \n",
       "3260  10868     NaN      NaN   \n",
       "3261  10874     NaN      NaN   \n",
       "3262  10875     NaN      NaN   \n",
       "\n",
       "                                                   text  \n",
       "0                    Just happened a terrible car crash  \n",
       "1     Heard about #earthquake is different cities, s...  \n",
       "2     there is a forest fire at spot pond, geese are...  \n",
       "3              Apocalypse lighting. #Spokane #wildfires  \n",
       "4         Typhoon Soudelor kills 28 in China and Taiwan  \n",
       "...                                                 ...  \n",
       "3258  EARTHQUAKE SAFETY LOS ANGELES ÛÒ SAFETY FASTE...  \n",
       "3259  Storm in RI worse than last hurricane. My city...  \n",
       "3260  Green Line derailment in Chicago http://t.co/U...  \n",
       "3261  MEG issues Hazardous Weather Outlook (HWO) htt...  \n",
       "3262  #CityofCalgary has activated its Municipal Eme...  \n",
       "\n",
       "[3263 rows x 4 columns]"
      ]
     },
     "execution_count": 16,
     "metadata": {},
     "output_type": "execute_result"
    }
   ],
   "source": [
    "test_df"
   ]
  },
  {
   "cell_type": "code",
   "execution_count": 17,
   "id": "15d14e3a",
   "metadata": {
    "execution": {
     "iopub.execute_input": "2023-05-27T22:32:03.206271Z",
     "iopub.status.busy": "2023-05-27T22:32:03.205718Z",
     "iopub.status.idle": "2023-05-27T22:32:03.220985Z",
     "shell.execute_reply": "2023-05-27T22:32:03.220370Z"
    },
    "papermill": {
     "duration": 0.028705,
     "end_time": "2023-05-27T22:32:03.223036",
     "exception": false,
     "start_time": "2023-05-27T22:32:03.194331",
     "status": "completed"
    },
    "tags": []
   },
   "outputs": [],
   "source": [
    "# Registrando as predições na competição\n",
    "sample_submission.to_csv(\"submission.csv\", index=False)"
   ]
  },
  {
   "cell_type": "markdown",
   "id": "4ed62e78",
   "metadata": {
    "papermill": {
     "duration": 0.010148,
     "end_time": "2023-05-27T22:32:03.244036",
     "exception": false,
     "start_time": "2023-05-27T22:32:03.233888",
     "status": "completed"
    },
    "tags": []
   },
   "source": [
    "## Tudo pronto\n",
    "* Porém agora eu vou exportar as predições que eu quero dar uma olhada"
   ]
  },
  {
   "cell_type": "code",
   "execution_count": 18,
   "id": "23988bc2",
   "metadata": {
    "execution": {
     "iopub.execute_input": "2023-05-27T22:32:03.266947Z",
     "iopub.status.busy": "2023-05-27T22:32:03.266298Z",
     "iopub.status.idle": "2023-05-27T22:32:03.293023Z",
     "shell.execute_reply": "2023-05-27T22:32:03.291958Z"
    },
    "papermill": {
     "duration": 0.040595,
     "end_time": "2023-05-27T22:32:03.294964",
     "exception": false,
     "start_time": "2023-05-27T22:32:03.254369",
     "status": "completed"
    },
    "tags": []
   },
   "outputs": [
    {
     "data": {
      "text/html": [
       "<div>\n",
       "<style scoped>\n",
       "    .dataframe tbody tr th:only-of-type {\n",
       "        vertical-align: middle;\n",
       "    }\n",
       "\n",
       "    .dataframe tbody tr th {\n",
       "        vertical-align: top;\n",
       "    }\n",
       "\n",
       "    .dataframe thead th {\n",
       "        text-align: right;\n",
       "    }\n",
       "</style>\n",
       "<table border=\"1\" class=\"dataframe\">\n",
       "  <thead>\n",
       "    <tr style=\"text-align: right;\">\n",
       "      <th></th>\n",
       "      <th>id</th>\n",
       "      <th>text</th>\n",
       "      <th>target</th>\n",
       "    </tr>\n",
       "  </thead>\n",
       "  <tbody>\n",
       "    <tr>\n",
       "      <th>0</th>\n",
       "      <td>0</td>\n",
       "      <td>Just happened a terrible car crash</td>\n",
       "      <td>Tweet normal</td>\n",
       "    </tr>\n",
       "    <tr>\n",
       "      <th>1</th>\n",
       "      <td>2</td>\n",
       "      <td>Heard about #earthquake is different cities, s...</td>\n",
       "      <td>Tweet desastre</td>\n",
       "    </tr>\n",
       "    <tr>\n",
       "      <th>2</th>\n",
       "      <td>3</td>\n",
       "      <td>there is a forest fire at spot pond, geese are...</td>\n",
       "      <td>Tweet desastre</td>\n",
       "    </tr>\n",
       "  </tbody>\n",
       "</table>\n",
       "</div>"
      ],
      "text/plain": [
       "   id                                               text          target\n",
       "0   0                 Just happened a terrible car crash    Tweet normal\n",
       "1   2  Heard about #earthquake is different cities, s...  Tweet desastre\n",
       "2   3  there is a forest fire at spot pond, geese are...  Tweet desastre"
      ]
     },
     "execution_count": 18,
     "metadata": {},
     "output_type": "execute_result"
    }
   ],
   "source": [
    "predições = test_df.merge(sample_submission[['id', 'target']], on='id', how='right')\n",
    "predições['target'] = predições['target'].replace({0: 'Tweet normal', 1: 'Tweet desastre'})\n",
    "predições = predições.drop(['keyword', 'location'], axis=1)\n",
    "predições.head(3)\n",
    "\n"
   ]
  },
  {
   "cell_type": "code",
   "execution_count": 19,
   "id": "d0cfb9b5",
   "metadata": {
    "execution": {
     "iopub.execute_input": "2023-05-27T22:32:03.317242Z",
     "iopub.status.busy": "2023-05-27T22:32:03.316708Z",
     "iopub.status.idle": "2023-05-27T22:32:03.346750Z",
     "shell.execute_reply": "2023-05-27T22:32:03.345987Z"
    },
    "papermill": {
     "duration": 0.043678,
     "end_time": "2023-05-27T22:32:03.349023",
     "exception": false,
     "start_time": "2023-05-27T22:32:03.305345",
     "status": "completed"
    },
    "tags": []
   },
   "outputs": [],
   "source": [
    "predições.to_csv('predicoes.csv', index=False)\n"
   ]
  },
  {
   "cell_type": "markdown",
   "id": "bd41b796",
   "metadata": {
    "papermill": {
     "duration": 0.011858,
     "end_time": "2023-05-27T22:32:03.372905",
     "exception": false,
     "start_time": "2023-05-27T22:32:03.361047",
     "status": "completed"
    },
    "tags": []
   },
   "source": [
    "> Tudo pronto, agora só enviar e esperar o resultado"
   ]
  },
  {
   "cell_type": "code",
   "execution_count": null,
   "id": "dd1e6af7",
   "metadata": {
    "papermill": {
     "duration": 0.011468,
     "end_time": "2023-05-27T22:32:03.396164",
     "exception": false,
     "start_time": "2023-05-27T22:32:03.384696",
     "status": "completed"
    },
    "tags": []
   },
   "outputs": [],
   "source": []
  }
 ],
 "metadata": {
  "kernelspec": {
   "display_name": "Python 3",
   "language": "python",
   "name": "python3"
  },
  "language_info": {
   "codemirror_mode": {
    "name": "ipython",
    "version": 3
   },
   "file_extension": ".py",
   "mimetype": "text/x-python",
   "name": "python",
   "nbconvert_exporter": "python",
   "pygments_lexer": "ipython3",
   "version": "3.10.10"
  },
  "papermill": {
   "default_parameters": {},
   "duration": 15.134245,
   "end_time": "2023-05-27T22:32:04.229708",
   "environment_variables": {},
   "exception": null,
   "input_path": "__notebook__.ipynb",
   "output_path": "__notebook__.ipynb",
   "parameters": {},
   "start_time": "2023-05-27T22:31:49.095463",
   "version": "2.4.0"
  }
 },
 "nbformat": 4,
 "nbformat_minor": 5
}
