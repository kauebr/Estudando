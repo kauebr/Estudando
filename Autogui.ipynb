{
 "cells": [
  {
   "cell_type": "code",
   "execution_count": 3,
   "metadata": {},
   "outputs": [],
   "source": [
    "import pyautogui"
   ]
  },
  {
   "cell_type": "markdown",
   "metadata": {},
   "source": [
    "# Passos\n",
    "* Abrir o GDrive\n",
    "* Entrar na àrea de trabalho\n",
    "* Selecionar arquivo teste.txt e arrastar ele\n",
    "* Enquanto estou arrastando mudar a tela para o chrome\n",
    "* Soltar na página do GDrive"
   ]
  },
  {
   "cell_type": "code",
   "execution_count": 12,
   "metadata": {},
   "outputs": [],
   "source": [
    "pyautogui.alert('Alerta, o python está agora controlando seu computador, não mecha em nada!')\n",
    "# Abrir o GDrive\n",
    "pyautogui.PAUSE = 0.5\n",
    "pyautogui.hotkey('win', 'r')\n",
    "pyautogui.write('chrome')\n",
    "pyautogui.hotkey('enter')\n",
    "\n",
    "# Entrar na àrea de trabalho\n",
    "# Selecionar arquivo teste.txt e arrastar ele\n",
    "# Enquanto estou arrastando mudar a tela para o chrome\n",
    "# Soltar na página do GDrive\n"
   ]
  },
  {
   "cell_type": "code",
   "execution_count": null,
   "metadata": {},
   "outputs": [],
   "source": []
  }
 ],
 "metadata": {
  "kernelspec": {
   "display_name": "Python 3.10.4 64-bit",
   "language": "python",
   "name": "python3"
  },
  "language_info": {
   "codemirror_mode": {
    "name": "ipython",
    "version": 3
   },
   "file_extension": ".py",
   "mimetype": "text/x-python",
   "name": "python",
   "nbconvert_exporter": "python",
   "pygments_lexer": "ipython3",
   "version": "3.10.4"
  },
  "orig_nbformat": 4,
  "vscode": {
   "interpreter": {
    "hash": "5d11380547bba1e6c4b0ab7b7614350493a6d4caf256d9be4e363829d8f5c452"
   }
  }
 },
 "nbformat": 4,
 "nbformat_minor": 2
}
