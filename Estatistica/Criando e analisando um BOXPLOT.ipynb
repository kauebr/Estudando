{
 "cells": [
  {
   "attachments": {},
   "cell_type": "markdown",
   "metadata": {},
   "source": [
    "<img src=\"https://i.ibb.co/K5n24Nd/1.png\"  alt=\"KCode Banner\"  />\n",
    "\n",
    "<a href=\"https://www.linkedin.com/in/kauebr/\"><img src=\"https://cdn-icons-png.flaticon.com/512/174/174857.png\" width=\"30\" ></a> <a href=\"mailto: kauemandarino@gmail.com\"><img src=\"https://cdn-icons-png.flaticon.com/512/5968/5968534.png\" width=\"30\" ></a><a href=\"\n",
    "https://api.whatsapp.com/send?phone=5541991835800&text=Oi\"> <img src=\"https://imagepng.org/wp-content/uploads/2017/08/whatsapp-icone-1.png\" width=\"30\" ></a><a href=\"https://github.com/kauebr/\"><img src=\"https://github.githubassets.com/images/modules/logos_page/Octocat.png\" width=\"30\" ></a>\n"
   ]
  },
  {
   "attachments": {},
   "cell_type": "markdown",
   "metadata": {},
   "source": [
    "# BOXPLOT - ESTUDO"
   ]
  },
  {
   "attachments": {},
   "cell_type": "markdown",
   "metadata": {},
   "source": [
    "## Objetivo:\n",
    "\n",
    "* Plotar e analisar um gráfico do tipo `BOXPLOT`"
   ]
  },
  {
   "attachments": {},
   "cell_type": "markdown",
   "metadata": {},
   "source": [
    "### Metodologia/Passos"
   ]
  },
  {
   "attachments": {},
   "cell_type": "markdown",
   "metadata": {},
   "source": [
    "* Conectar a API do Kaggle e baixar um conjunto de dados aleatórios;\n",
    "* Filtrar o conjunto de maneira a ficar uma distribuição univariada;\n",
    "* Plotar um `BOXPLOT` e analisá-lo"
   ]
  },
  {
   "cell_type": "code",
   "execution_count": 11,
   "metadata": {},
   "outputs": [
    {
     "name": "stdout",
     "output_type": "stream",
     "text": [
      "Requirement already satisfied: kaggle in c:\\users\\manda\\appdata\\local\\programs\\python\\python310\\lib\\site-packages (1.5.12)\n",
      "Requirement already satisfied: six>=1.10 in c:\\users\\manda\\appdata\\local\\programs\\python\\python310\\lib\\site-packages (from kaggle) (1.16.0)\n",
      "Requirement already satisfied: certifi in c:\\users\\manda\\appdata\\local\\programs\\python\\python310\\lib\\site-packages (from kaggle) (2021.10.8)\n",
      "Requirement already satisfied: python-dateutil in c:\\users\\manda\\appdata\\local\\programs\\python\\python310\\lib\\site-packages (from kaggle) (2.8.2)\n",
      "Requirement already satisfied: requests in c:\\users\\manda\\appdata\\local\\programs\\python\\python310\\lib\\site-packages (from kaggle) (2.27.1)\n",
      "Requirement already satisfied: tqdm in c:\\users\\manda\\appdata\\local\\programs\\python\\python310\\lib\\site-packages (from kaggle) (4.64.0)\n",
      "Requirement already satisfied: python-slugify in c:\\users\\manda\\appdata\\local\\programs\\python\\python310\\lib\\site-packages (from kaggle) (6.1.2)\n",
      "Requirement already satisfied: urllib3 in c:\\users\\manda\\appdata\\local\\programs\\python\\python310\\lib\\site-packages (from kaggle) (1.26.9)\n",
      "Requirement already satisfied: text-unidecode>=1.3 in c:\\users\\manda\\appdata\\local\\programs\\python\\python310\\lib\\site-packages (from python-slugify->kaggle) (1.3)\n",
      "Requirement already satisfied: charset-normalizer~=2.0.0 in c:\\users\\manda\\appdata\\local\\programs\\python\\python310\\lib\\site-packages (from requests->kaggle) (2.0.12)\n",
      "Requirement already satisfied: idna<4,>=2.5 in c:\\users\\manda\\appdata\\local\\programs\\python\\python310\\lib\\site-packages (from requests->kaggle) (3.3)\n",
      "Requirement already satisfied: colorama in c:\\users\\manda\\appdata\\local\\programs\\python\\python310\\lib\\site-packages (from tqdm->kaggle) (0.4.4)\n",
      "\n",
      "[notice] A new release of pip available: 22.1.2 -> 22.3.1\n",
      "[notice] To update, run: python.exe -m pip install --upgrade pip\n"
     ]
    }
   ],
   "source": [
    "# Instalando API Kaggle\n",
    "\n",
    "!pip install kaggle --upgrade"
   ]
  },
  {
   "cell_type": "code",
   "execution_count": 13,
   "metadata": {},
   "outputs": [
    {
     "name": "stdout",
     "output_type": "stream",
     "text": [
      "c:\\Users\\manda\\AppData\\Local\\Programs\\Python\\Python310\n"
     ]
    }
   ],
   "source": [
    "# Encontrando diretório Py para instalar as credenciais Kaggle\n",
    "import os\n",
    "import sys\n",
    "\n",
    "print(os.path.dirname(sys.executable))"
   ]
  },
  {
   "cell_type": "code",
   "execution_count": 19,
   "metadata": {},
   "outputs": [
    {
     "name": "stdout",
     "output_type": "stream",
     "text": [
      "ref                                                                                 deadline             category            reward  teamCount  userHasEntered  \n",
      "----------------------------------------------------------------------------------  -------------------  ---------------  ---------  ---------  --------------  \n",
      "https://www.kaggle.com/competitions/nfl-player-contact-detection                    2023-03-01 23:59:00  Featured          $100,000        214           False  \n",
      "https://www.kaggle.com/competitions/nfl-big-data-bowl-2023                          2023-01-09 23:59:00  Analytics         $100,000          0           False  \n",
      "https://www.kaggle.com/competitions/godaddy-microbusiness-density-forecasting       2023-03-14 23:59:00  Featured           $60,000        410           False  \n",
      "https://www.kaggle.com/competitions/learning-equality-curriculum-recommendations    2023-03-14 23:59:00  Featured           $55,000        148           False  \n",
      "https://www.kaggle.com/competitions/santa-2022                                      2023-01-17 23:59:00  Featured           $50,000        562           False  \n",
      "https://www.kaggle.com/competitions/rsna-breast-cancer-detection                    2023-02-27 23:59:00  Featured           $50,000        593           False  \n",
      "https://www.kaggle.com/competitions/otto-recommender-system                         2023-01-31 23:59:00  Featured           $30,000       1722           False  \n",
      "https://www.kaggle.com/competitions/novozymes-enzyme-stability-prediction           2023-01-03 23:59:00  Featured           $25,000       2396           False  \n",
      "https://www.kaggle.com/competitions/g2net-detecting-continuous-gravitational-waves  2023-01-03 23:59:00  Research           $25,000        899           False  \n",
      "https://www.kaggle.com/competitions/titanic                                         2030-01-01 00:00:00  Getting Started  Knowledge      14000           False  \n",
      "https://www.kaggle.com/competitions/house-prices-advanced-regression-techniques     2030-01-01 00:00:00  Getting Started  Knowledge       4563           False  \n",
      "https://www.kaggle.com/competitions/spaceship-titanic                               2030-01-01 00:00:00  Getting Started  Knowledge       2817           False  \n",
      "https://www.kaggle.com/competitions/digit-recognizer                                2030-01-01 00:00:00  Getting Started  Knowledge       1326           False  \n",
      "https://www.kaggle.com/competitions/nlp-getting-started                             2030-01-01 00:00:00  Getting Started  Knowledge        917           False  \n",
      "https://www.kaggle.com/competitions/connectx                                        2030-01-01 00:00:00  Getting Started  Knowledge        207           False  \n",
      "https://www.kaggle.com/competitions/tpu-getting-started                             2030-06-03 23:59:00  Getting Started  Knowledge        155           False  \n",
      "https://www.kaggle.com/competitions/store-sales-time-series-forecasting             2030-06-30 23:59:00  Getting Started  Knowledge        911           False  \n",
      "https://www.kaggle.com/competitions/gan-getting-started                             2030-07-01 23:59:00  Getting Started     Prizes         94           False  \n",
      "https://www.kaggle.com/competitions/contradictory-my-dear-watson                    2030-07-01 23:59:00  Getting Started     Prizes         69           False  \n"
     ]
    }
   ],
   "source": [
    "!kaggle competitions list"
   ]
  },
  {
   "cell_type": "code",
   "execution_count": null,
   "metadata": {},
   "outputs": [],
   "source": []
  }
 ],
 "metadata": {
  "kernelspec": {
   "display_name": "Python 3",
   "language": "python",
   "name": "python3"
  },
  "language_info": {
   "codemirror_mode": {
    "name": "ipython",
    "version": 3
   },
   "file_extension": ".py",
   "mimetype": "text/x-python",
   "name": "python",
   "nbconvert_exporter": "python",
   "pygments_lexer": "ipython3",
   "version": "3.10.4"
  },
  "orig_nbformat": 4,
  "vscode": {
   "interpreter": {
    "hash": "5d11380547bba1e6c4b0ab7b7614350493a6d4caf256d9be4e363829d8f5c452"
   }
  }
 },
 "nbformat": 4,
 "nbformat_minor": 2
}
