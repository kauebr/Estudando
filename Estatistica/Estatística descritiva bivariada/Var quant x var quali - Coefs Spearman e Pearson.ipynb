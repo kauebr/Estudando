{
 "cells": [
  {
   "attachments": {},
   "cell_type": "markdown",
   "metadata": {},
   "source": [
    "\n",
    "<img src=\"https://i.ibb.co/1T5Wbn6/Banner-para-Linkedin-capa-de-perfil-para-programador.png\"  alt=\"KCode Banner\"  />\n",
    "\n",
    "<a href=\"https://www.linkedin.com/in/kauebr/\"><img src=\"https://cdn-icons-png.flaticon.com/512/174/174857.png\" width=\"30\" ></a> <a href=\"mailto: kauemandarino@gmail.com\"><img src=\"https://cdn-icons-png.flaticon.com/512/5968/5968534.png\" width=\"30\" ></a><a href=\"\n",
    "https://api.whatsapp.com/send?phone=5541991835800&text=Oi\"> <img src=\"https://imagepng.org/wp-content/uploads/2017/08/whatsapp-icone-1.png\" width=\"30\" ></a><a href=\"https://github.com/kauebr/\"><img src=\"https://github.githubassets.com/images/modules/logos_page/Octocat.png\" width=\"30\" ></a>\n"
   ]
  },
  {
   "attachments": {},
   "cell_type": "markdown",
   "metadata": {},
   "source": [
    "## Objetivo:\n",
    "\n",
    "*  Analisar uma correlação entre duas variaveis: qualitativa x quantitativa, e determinar se existe correlação, qual seu tipo e grau."
   ]
  },
  {
   "attachments": {},
   "cell_type": "markdown",
   "metadata": {},
   "source": [
    "### Metodologia/Passos"
   ]
  },
  {
   "attachments": {},
   "cell_type": "markdown",
   "metadata": {},
   "source": [
    "* Utilizar google Colab para conectar com a lib `PYSUS` para se concetar com A `API` do `DATASUS`;\n",
    "* Baixar e reduzir um dataset do `DATASUS/SINASC` sobre `nascidos vivos` no `Brasil` em `2020`;\n",
    "* Baixar o `datset` neste notebook;\n",
    "* Selecionar duas váriaveis, uma qualitativa e outra quantitativa, e reduzir o dataset apenas para estas duas;\n",
    "* Descrever se existe `correlação` entre elas, e se sim, qual seu `tipo` e `grau`"
   ]
  },
  {
   "cell_type": "code",
   "execution_count": null,
   "metadata": {},
   "outputs": [],
   "source": [
    "import pandas as pd\n",
    "import matplotlib.pyplot as plt\n",
    "from zipfile import ZipFile"
   ]
  },
  {
   "attachments": {},
   "cell_type": "markdown",
   "metadata": {},
   "source": [
    "# Utilizando colab para baixar os dados.\n",
    "* Procedimento OK;\n",
    "* Disponivél no seguinte link: https://colab.research.google.com/drive/1qo8HUYRPzXAugIZc5glOB8W_tX42QQ8k?usp=sharing"
   ]
  },
  {
   "attachments": {},
   "cell_type": "markdown",
   "metadata": {},
   "source": [
    "# Subindo os dados no Kaggle\n",
    "* Procedimento OK;\n",
    "* Disponível no seguinte link: https://www.kaggle.com/datasets/kaumandarino/nascimentos-brasil-2020-datasus"
   ]
  },
  {
   "attachments": {},
   "cell_type": "markdown",
   "metadata": {},
   "source": [
    "# Utilizando a `API do Kaggle` para baixar os dados neste notebook:"
   ]
  },
  {
   "cell_type": "code",
   "execution_count": null,
   "metadata": {},
   "outputs": [],
   "source": [
    "!kaggle datasets download -d kaumandarino/nascimentos-brasil-2020-datasus"
   ]
  },
  {
   "cell_type": "code",
   "execution_count": null,
   "metadata": {},
   "outputs": [],
   "source": [
    "# Descompactando o arquivo baixado\n",
    "z = ZipFile('nascimentos-brasil-2020-datasus.zip', 'r')\n",
    "z.extractall()\n",
    "z.close()"
   ]
  },
  {
   "cell_type": "code",
   "execution_count": null,
   "metadata": {},
   "outputs": [],
   "source": [
    "# Criando um data frame\n",
    "df = pd.read_csv('Nascimentos Brasil 2020 - colunas reduzidas - v 002.csv', encoding='utf8', dtype={'ESCMAE': 'str'})\n",
    "df.head()"
   ]
  },
  {
   "attachments": {},
   "cell_type": "markdown",
   "metadata": {},
   "source": [
    "## Entendendo o conjunto de dados\n",
    "* level_0: UF estado;\n",
    "* CODMUNNASC: Código IBGE do município de nascimento;\n",
    "* LOCNASC: \n",
    "    Local de nascimento:\n",
    "        1 – Hospital; \n",
    "        2 – Outros estabelecimentos de saúde; \n",
    "        3 – Domicílio; \n",
    "        4 – Outros; \n",
    "        5- Aldeia Indígena;\n",
    "* IDADEMAE:  Idade da mãe\n",
    "* ESTCIVMAE: \n",
    "    Situação conjugal da mãe: \n",
    "        1– Solteira; \n",
    "        2– Casada; \n",
    "        3– Viúva; \n",
    "        4– Separada judicialmente/divorciada; \n",
    "        5– União estável; \n",
    "        9– Ignorada.\n",
    "* ESCMAE: \n",
    "    Escolaridade, em anos de estudo concluídos: \n",
    "       1 – Nenhuma; \n",
    "       2 – 1 a 3 anos; \n",
    "       3 – 4 a 7 anos; \n",
    "       4 – 8 a 11 anos; \n",
    "       5 – 12 e mais;\n",
    "       9 – Ignorado.\n",
    "* CODOCUPMAE: Código de ocupação da mãe conforme tabela do CBO (Código Brasileiro de\n",
    "Ocupações);\n",
    "* QTDFILVIVO: Número de filhos vivos;\n",
    "* QTDFILMORT:  Número de perdas fetais e abortos;\n",
    "* CODMUNRES: Código IBGE do município de residência;\n",
    "* GESTACAO: \n",
    "    Semanas de gestação: \n",
    "            1– Menos de 22 semanas; \n",
    "            2– 22 a 27 semanas; \n",
    "            3– 28 a 31 semanas; \n",
    "            4– 32 a 36 semanas; \n",
    "            5– 37 a 41 semanas; \n",
    "            6– 42 semanas e mais;\n",
    "            9– Ignorado.;\n",
    "* GRAVIDEZ: \n",
    "    Tipo de gravidez: \n",
    "        1– Única; \n",
    "        2– Dupla;\n",
    "        3– Tripla ou mais; \n",
    "        9– Ignorado;\n",
    "# Nota pessoal, faltaram os partos aqui, ter que inclur manualmente depois.\n",
    "* CONSULTAS: \n",
    "    Número de consultas de pré‐natal. Valores: \n",
    "        1– Nenhuma; \n",
    "        2– de 1 a 3; \n",
    "        3– de 4 a 6;\n",
    "        4– 7 e mais; \n",
    "        9– Ignorado;\n",
    "* DTNASC: Data de nascimento: dd mm aaaa;\n",
    "* HORANASC: Horário de nascimento;\n",
    "* SEXO: Sexo: \n",
    "    1- M – Masculino; \n",
    "    2- F – Feminino; \n",
    "    0- I – ignorado;\n",
    "* APGAR1: Apgar no 1º minuto 00 a a10;\n",
    "* APGAR5: Apgar no 5º minuto 00 a 10;\n",
    "* RACACOR: \n",
    "    Tipo de raça e cor do nascido: \n",
    "        1– Branca; \n",
    "        2– Preta; \n",
    "        3– Amarela; \n",
    "        4– Parda; \n",
    "        5– Indígena;\n",
    "* PESO: Peso ao nascer em gramas;\n",
    "* IDANOMAL: \n",
    "    Anomalia identificada: \n",
    "        1– Sim;\n",
    "        2– Não;\n",
    "        9– Ignorado;\n",
    "* CODANOMAL: Código da anomalia (CID-10);\n",
    "* CODMUNNATU: Código do município de naturalidade da mãe;\n",
    "* CODUFNATU: Código UF de naturalidade;\n",
    "* ESCMAE2010: Escolaridade 2010. \n",
    "    Valores: 0 – Sem escolaridade;\n",
    "        1 – Fundamental I (1ª a 4ª série);\n",
    "        2 – Fundamental II (5ª a 8ª série);\n",
    "        3 – Médio (antigo 2º Grau); 4 – Superior incompleto; \n",
    "        5 – Superior completo; 9 – Ignorado;\n",
    "* SERIESCMAE: Série escolar da mãe. Valores de 1 a 8;\n",
    "* DTNASCMAE: Data de nascimento da mãe: dd mm aaaa;\n",
    "* RACACORMAE: \n",
    "    Tipo de raça e cor da mãe: \n",
    "        1– Branca; \n",
    "        2– Preta; \n",
    "        3– Amarela; \n",
    "        4– Parda; \n",
    "        5– Indígena;\n",
    "* QTDGESTANT: Número de gestações anteriores;\n",
    "* QTDPARTNOR: Número de partos vaginais;\n",
    "* QTDPARTCES: Número de partos cesáreos;\n",
    "* IDADEPAI: Idade do pai;\n",
    "* SEMAGESTAC:  Número de semanas de gestação;\n",
    "* ESCMAEAGR1: Escolaridade 2010 agregada. \n",
    "    Valores: 00 – Sem Escolaridade;\n",
    "    01 – Fundamental I Incompleto; \n",
    "    02 – Fundamental I Completo; \n",
    "    03 – Fundamental II Incompleto; \n",
    "    04 –Fundamental II Completo; \n",
    "    05 – Ensino Médio Incompleto; \n",
    "    06 – Ensino Médio Completo; \n",
    "    07 – Superior Incompleto; \n",
    "    08 – Superior Completo; \n",
    "    09 – Ignorado; \n",
    "    10 – Fundamental I Incompleto ou Inespecífico; \n",
    "    11 – Fundamental II Incompleto ou Inespecífico; \n",
    "    12 – Ensino Médio Incompleto ou Inespecífico;\n",
    "* CONSPRENAT: Número de consultas pré‐natal;\n",
    "* MESPRENAT: Mês de gestação em que iniciou o pré‐natal;\n",
    "* STTRABPART: Trabalho de parto induzido? \n",
    "    Valores: \n",
    "        1– Sim; \n",
    "        2– Não; \n",
    "        3– Não se aplica; \n",
    "        9– Ignorado. ;\n",
    "* STCESPARTO: \n",
    "    Cesárea ocorreu antes do trabalho de parto iniciar? Valores: \n",
    "        1– Sim; \n",
    "        2– Não; \n",
    "        3– Não se aplica; \n",
    "        9– Ignorado;\n",
    "* TPNASCASSI:\n",
    "    Nascimento foi assistido por? \n",
    "    Valores: \n",
    "        1– Médico; \n",
    "        2– Enfermagem ou Obstetriz; \n",
    "        3- Parteira; \n",
    "        4– Outros; \n",
    "        9– Ignorado ;\n",
    "* ESCMAEAGR1: ### REMOVER ###\n",
    "* CODPAISRES: Código do país de residência;\n",
    "* TPROBSON: Código do Grupo de Robson, gerado pelo sistema;\n",
    "* PARIDADE: Define se é a primeira gravidez ou se teve mais de uma. \n",
    "    1– Multípara; \n",
    "    0- Nulípara;\n",
    "* KOTELCHUCK: índice de Kotelchuck - Avaliação da assistência pré-natal;\n",
    "\n",
    "\n",
    "\n",
    "Fonte: Datasus\n",
    "Autor do conjunto de dados: Kauê Mandarino(eu mesmo rsrs)  \n",
    "kauemandarino@gmail.com\n"
   ]
  },
  {
   "attachments": {},
   "cell_type": "markdown",
   "metadata": {},
   "source": [
    "# Escolhendo as váriaveis;\n",
    " * Qualitativa = ESCMAE2010: Escolaridade 2010. Trata-se de uma `variável qualitativa ordinal`, pois existe `hierárquia` entre as categorias.\n",
    " * Quantitativa = QTDFILVIVO: Número de filhos vivos; Trata-se de uma `variável quantitativa discreta`, pois não existe uma continuação infinita entre 1 filho e 2 filhos. \n",
    "\n",
    "Escolhi estas duas pois imagino que exista correlação negativa forte entre elas, ou seja, quanto mais estudo a mãe tiver, menor será o número de filhos, vamos verificar se os dados confirmam esta hipótese."
   ]
  },
  {
   "attachments": {},
   "cell_type": "markdown",
   "metadata": {},
   "source": [
    "# Reduzindo o conjunto de dados"
   ]
  },
  {
   "cell_type": "code",
   "execution_count": null,
   "metadata": {},
   "outputs": [],
   "source": [
    "df_filtro = df[['ESCMAE2010','QTDFILVIVO']].copy()\n",
    "df_filtro.head(3)"
   ]
  },
  {
   "attachments": {},
   "cell_type": "markdown",
   "metadata": {},
   "source": [
    "> Dados reduzidos com sucesso"
   ]
  },
  {
   "attachments": {},
   "cell_type": "markdown",
   "metadata": {},
   "source": [
    "# Limpando os dados"
   ]
  },
  {
   "cell_type": "code",
   "execution_count": null,
   "metadata": {},
   "outputs": [],
   "source": [
    "# Definindo função de tamanho melhorada.\n",
    "def tamanho(dataframe):\n",
    "    linhas = dataframe.shape[0]\n",
    "    colunas = dataframe.shape[1]\n",
    "    print(f'Nº de Linhas: {linhas}\\nNº de colunas: {colunas}')"
   ]
  },
  {
   "cell_type": "code",
   "execution_count": null,
   "metadata": {},
   "outputs": [],
   "source": [
    "# Verificando tamanho do nosso conjunto de dados\n",
    "tamanho(df_filtro)"
   ]
  },
  {
   "cell_type": "code",
   "execution_count": null,
   "metadata": {},
   "outputs": [],
   "source": [
    "# Verificando se existem entradas não númericas NaN\n",
    "df['QTDFILVIVO'].isna().sum()"
   ]
  },
  {
   "cell_type": "code",
   "execution_count": null,
   "metadata": {},
   "outputs": [],
   "source": [
    "# Verificando porcentagem dos dados que estão faltando\n",
    "print(f'{63260/2730145*100:.2f}%')"
   ]
  },
  {
   "cell_type": "code",
   "execution_count": null,
   "metadata": {},
   "outputs": [],
   "source": [
    "# Verificando se existem entradas não númericas NaN\n",
    "\n",
    "# Verificando porcentagem dos dados que estão faltando\n",
    "print(f'{df[\"ESCMAE2010\"].isna().sum()/2730145*100:.2f}%')"
   ]
  },
  {
   "attachments": {},
   "cell_type": "markdown",
   "metadata": {},
   "source": [
    ">Como os dados faltantes, mesmo se somados sem intersecções, representam apenas 3.63% do nosso conjunto, a escolha que me parece mais sensata é cortá-los do nosso conjunto."
   ]
  },
  {
   "cell_type": "code",
   "execution_count": null,
   "metadata": {},
   "outputs": [],
   "source": [
    "# Excluíndo valores NaN\n",
    "df_filtro.dropna(inplace=True)"
   ]
  },
  {
   "attachments": {},
   "cell_type": "markdown",
   "metadata": {},
   "source": [
    "## Agora vamos verificar se existem dados `null`"
   ]
  },
  {
   "cell_type": "code",
   "execution_count": null,
   "metadata": {},
   "outputs": [],
   "source": [
    "# Verificando se existem entradas não númericas NaN\n",
    "\n",
    "# Verificando porcentagem dos dados que estão faltando\n",
    "\n",
    "print(f'Dados faltantes na quantidade de filhos: {df_filtro[\"QTDFILVIVO\"].isnull().sum()/2730145*100:.2f}%')\n",
    "print(f'Dados faltantes na escoloridade da mãe: {df_filtro[\"ESCMAE2010\"].isnull().sum()/2730145*100:.2f}%')"
   ]
  },
  {
   "attachments": {},
   "cell_type": "markdown",
   "metadata": {},
   "source": [
    "> Dados limpos com sucesso"
   ]
  },
  {
   "attachments": {},
   "cell_type": "markdown",
   "metadata": {},
   "source": [
    "# Modelando os dados"
   ]
  },
  {
   "cell_type": "code",
   "execution_count": null,
   "metadata": {},
   "outputs": [],
   "source": [
    "# Verificando a tipagem dos dados\n",
    "df_filtro.info()"
   ]
  },
  {
   "cell_type": "code",
   "execution_count": null,
   "metadata": {},
   "outputs": [],
   "source": [
    "# Verificando as entradas únicas(respostas)\n",
    "df_filtro['ESCMAE2010'].unique"
   ]
  },
  {
   "cell_type": "code",
   "execution_count": null,
   "metadata": {},
   "outputs": [],
   "source": [
    "# Limpando memória ram\n",
    "df = 0\n",
    "\n",
    "\n",
    "# Tratando tipagem de dados\n",
    "df_filtro['ESCMAE2010'] = df_filtro['ESCMAE2010'].astype(int)\n",
    "df_filtro['QTDFILVIVO'] = df_filtro['QTDFILVIVO'].astype(int)\n",
    "\n",
    "\n",
    "df_filtro.info()\n"
   ]
  },
  {
   "attachments": {},
   "cell_type": "markdown",
   "metadata": {},
   "source": [
    "> Dados limpos e modelados com sucessso"
   ]
  },
  {
   "attachments": {},
   "cell_type": "markdown",
   "metadata": {},
   "source": [
    "# Análise gráfica da correlação das variáveis"
   ]
  },
  {
   "cell_type": "code",
   "execution_count": 1,
   "metadata": {},
   "outputs": [
    {
     "ename": "NameError",
     "evalue": "name 'df_filtro' is not defined",
     "output_type": "error",
     "traceback": [
      "\u001b[1;31m---------------------------------------------------------------------------\u001b[0m",
      "\u001b[1;31mNameError\u001b[0m                                 Traceback (most recent call last)",
      "\u001b[1;32mc:\\Users\\manda\\OneDrive\\Documents\\GitHub\\Estudando\\Estatistica\\Estatística descritiva bivariada\\Var quant x var quali - Coefs Spearman e Pearson.ipynb Célula 34\u001b[0m in \u001b[0;36m<cell line: 1>\u001b[1;34m()\u001b[0m\n\u001b[1;32m----> <a href='vscode-notebook-cell:/c%3A/Users/manda/OneDrive/Documents/GitHub/Estudando/Estatistica/Estat%C3%ADstica%20descritiva%20bivariada/Var%20quant%20x%20var%20quali%20-%20Coefs%20Spearman%20e%20Pearson.ipynb#X50sZmlsZQ%3D%3D?line=0'>1</a>\u001b[0m df_filtro\u001b[39m.\u001b[39mhead()\n",
      "\u001b[1;31mNameError\u001b[0m: name 'df_filtro' is not defined"
     ]
    }
   ],
   "source": [
    "df_filtro.head()"
   ]
  },
  {
   "cell_type": "code",
   "execution_count": null,
   "metadata": {},
   "outputs": [],
   "source": []
  },
  {
   "cell_type": "code",
   "execution_count": null,
   "metadata": {},
   "outputs": [],
   "source": []
  },
  {
   "attachments": {},
   "cell_type": "markdown",
   "metadata": {},
   "source": [
    "### As datas estão em um formato errado, mas como vou usar apenas dados qualitativos, não vou corrigir isto agora.  \n",
    "Escolhi para nossa análise, o sexo e estado civil, para verificarmos se existe uma correlação entre estas variáveis e o número de suicídios."
   ]
  },
  {
   "cell_type": "code",
   "execution_count": null,
   "metadata": {},
   "outputs": [],
   "source": [
    "# Excluíndo valores NaN\n",
    "df.dropna(subset=['SEXO'], inplace=True)"
   ]
  },
  {
   "cell_type": "code",
   "execution_count": null,
   "metadata": {},
   "outputs": [],
   "source": [
    "# Verificando se as entradas foram removidas com sucesso\n",
    "df['SEXO'].isna().sum()"
   ]
  },
  {
   "cell_type": "code",
   "execution_count": null,
   "metadata": {},
   "outputs": [],
   "source": [
    "# Verificando se existem entradas NaN\n",
    "df_filtro['ESTCIV'].isna().sum()"
   ]
  },
  {
   "cell_type": "code",
   "execution_count": null,
   "metadata": {},
   "outputs": [],
   "source": [
    "# Excluíndo valores NaN\n",
    "df.dropna(subset=['ESTCIV'], inplace=True)"
   ]
  },
  {
   "cell_type": "code",
   "execution_count": null,
   "metadata": {},
   "outputs": [],
   "source": [
    "# Verificando se as entradas foram removidas com sucesso\n",
    "df['ESTCIV'].isna().sum()"
   ]
  },
  {
   "cell_type": "code",
   "execution_count": null,
   "metadata": {},
   "outputs": [],
   "source": [
    "df.shape"
   ]
  },
  {
   "attachments": {},
   "cell_type": "markdown",
   "metadata": {},
   "source": [
    "### Uma vez excluídos os dados faltantes vamos criar nossa `Tabela de contingência` ou em inglês `Cross tab`"
   ]
  },
  {
   "cell_type": "code",
   "execution_count": null,
   "metadata": {},
   "outputs": [],
   "source": [
    "tab = pd.crosstab(df['SEXO'], df['ESTCIV'], normalize=True)\n",
    "tab"
   ]
  },
  {
   "attachments": {
    "image.png": {
     "image/png": "[encoded data removed]"
    }
   },
   "cell_type": "markdown",
   "metadata": {},
   "source": [
    "![image.png](attachment:image.png)\n",
    "## Análise da tabela de contingência\n",
    "* Em relação ao sexo, a primeira coisa que salta aos olhos, é que os homens cometem suicídio, cerca de 4x mais que as mulheres;\n",
    "* Mais especificamente os homens solteiros, sendo apenas eles responsáveis por 44% dos suicídios.\n",
    "\n",
    "Vou continuar a análise nos gráficos abaixo."
   ]
  },
  {
   "attachments": {},
   "cell_type": "markdown",
   "metadata": {},
   "source": [
    "### A seguir plotarei gráfico de colunas:\n",
    "As informações dos gráficos serão as mesmas da cross tab, mas o método de visualização é diferente."
   ]
  },
  {
   "cell_type": "code",
   "execution_count": null,
   "metadata": {},
   "outputs": [],
   "source": [
    "# Plotando gráfico de colunas lado a lado\n",
    "tab.plot.bar(figsize=(18,10), title='Suícidios no Brasil 2010~2019')"
   ]
  },
  {
   "cell_type": "code",
   "execution_count": null,
   "metadata": {},
   "outputs": [],
   "source": [
    "# Plotando gráfico de colunas empilhadas\n",
    "tab.plot.bar(figsize=(18,10), stacked=True, title='Suícidios no Brasil 2010~2019')"
   ]
  },
  {
   "attachments": {},
   "cell_type": "markdown",
   "metadata": {},
   "source": [
    "## Análise Gráfica\n",
    "* Independentemente do sexo, solteiros, tem um tendência maior ao suicídio do que casados;\n",
    "* Estando casados, o homem tem uma tendência ao suicídio 4x maior do que a mulher;\n",
    "* A taxa de suicídio é menor entre pessoas divorciadas do que casadas.\n"
   ]
  },
  {
   "attachments": {},
   "cell_type": "markdown",
   "metadata": {},
   "source": []
  }
 ],
 "metadata": {
  "kernelspec": {
   "display_name": "Python 3",
   "language": "python",
   "name": "python3"
  },
  "language_info": {
   "codemirror_mode": {
    "name": "ipython",
    "version": 3
   },
   "file_extension": ".py",
   "mimetype": "text/x-python",
   "name": "python",
   "nbconvert_exporter": "python",
   "pygments_lexer": "ipython3",
   "version": "3.10.4"
  },
  "orig_nbformat": 4,
  "vscode": {
   "interpreter": {
    "hash": "5d11380547bba1e6c4b0ab7b7614350493a6d4caf256d9be4e363829d8f5c452"
   }
  }
 },
 "nbformat": 4,
 "nbformat_minor": 2
}
