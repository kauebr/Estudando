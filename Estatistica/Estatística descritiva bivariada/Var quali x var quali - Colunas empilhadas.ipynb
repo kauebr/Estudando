{
 "cells": [
  {
   "attachments": {},
   "cell_type": "markdown",
   "metadata": {},
   "source": [
    "\n",
    "<img src=\"https://i.ibb.co/1T5Wbn6/Banner-para-Linkedin-capa-de-perfil-para-programador.png\"  alt=\"KCode Banner\"  />\n",
    "\n",
    "<a href=\"https://www.linkedin.com/in/kauebr/\"><img src=\"https://cdn-icons-png.flaticon.com/512/174/174857.png\" width=\"30\" ></a> <a href=\"mailto: kauemandarino@gmail.com\"><img src=\"https://cdn-icons-png.flaticon.com/512/5968/5968534.png\" width=\"30\" ></a><a href=\"\n",
    "https://api.whatsapp.com/send?phone=5541991835800&text=Oi\"> <img src=\"https://imagepng.org/wp-content/uploads/2017/08/whatsapp-icone-1.png\" width=\"30\" ></a><a href=\"https://github.com/kauebr/\"><img src=\"https://github.githubassets.com/images/modules/logos_page/Octocat.png\" width=\"30\" ></a>\n"
   ]
  },
  {
   "attachments": {},
   "cell_type": "markdown",
   "metadata": {},
   "source": [
    "# Estatistica Bivariada\n",
    "## Variavel qualitativa x variavel qualitativa"
   ]
  },
  {
   "attachments": {},
   "cell_type": "markdown",
   "metadata": {},
   "source": [
    "## Objetivo:\n",
    "\n",
    "* Plotar e analisar um gráfico do tipo `Colunas empilhadas` analisando duas variaveis qualitativas correlatas."
   ]
  },
  {
   "attachments": {},
   "cell_type": "markdown",
   "metadata": {},
   "source": [
    "### Metodologia/Passos"
   ]
  },
  {
   "attachments": {},
   "cell_type": "markdown",
   "metadata": {},
   "source": [
    "* Conectar a API do Kaggle e baixar um conjunto de dados aleatórios;\n",
    "* Filtrar o conjunto de maneira a ficar uma distribuição bivariada;\n",
    "* Filtrar os dados e exportar no formato `.csv`;\n",
    "* Criar uma tabéla de contingência;\n",
    "* Plotar um gráfico de `colunas empilhadas`;\n",
    "* Analisar os gráficos."
   ]
  },
  {
   "cell_type": "code",
   "execution_count": 90,
   "metadata": {},
   "outputs": [],
   "source": [
    "import pandas as pd\n",
    "import matplotlib.pyplot as plt\n",
    "from zipfile import ZipFile\n",
    "import statistics as stats\n",
    "import math\n",
    "import scipy.stats\n",
    "import numpy as np\n"
   ]
  },
  {
   "cell_type": "code",
   "execution_count": 4,
   "metadata": {},
   "outputs": [
    {
     "name": "stdout",
     "output_type": "stream",
     "text": [
      "Downloading dados-de-suicidios-entre-2010-e-2019.zip to c:\\Users\\manda\\OneDrive\\Documents\\GitHub\\Estudando\\Estatistica\\Estatística descritiva bivariada\n",
      "\n"
     ]
    },
    {
     "name": "stderr",
     "output_type": "stream",
     "text": [
      "\n",
      "  0%|          | 0.00/2.47M [00:00<?, ?B/s]\n",
      " 41%|████      | 1.00M/2.47M [00:00<00:00, 6.66MB/s]\n",
      " 81%|████████  | 2.00M/2.47M [00:00<00:00, 7.04MB/s]\n",
      "100%|██████████| 2.47M/2.47M [00:00<00:00, 6.91MB/s]\n"
     ]
    }
   ],
   "source": [
    "# Utilizando a API para baixar uma amostra policotomica de dados quantitativos, referente a salários de datascience. \n",
    "!kaggle datasets download -d psicodata/dados-de-suicidios-entre-2010-e-2019"
   ]
  },
  {
   "cell_type": "code",
   "execution_count": 5,
   "metadata": {},
   "outputs": [],
   "source": [
    "# Descompactando o arquivo baixado\n",
    "z = ZipFile('dados-de-suicidios-entre-2010-e-2019.zip', 'r')\n",
    "z.extractall()\n",
    "z.close()"
   ]
  },
  {
   "cell_type": "code",
   "execution_count": 13,
   "metadata": {},
   "outputs": [
    {
     "data": {
      "text/html": [
       "<div>\n",
       "<style scoped>\n",
       "    .dataframe tbody tr th:only-of-type {\n",
       "        vertical-align: middle;\n",
       "    }\n",
       "\n",
       "    .dataframe tbody tr th {\n",
       "        vertical-align: top;\n",
       "    }\n",
       "\n",
       "    .dataframe thead th {\n",
       "        text-align: right;\n",
       "    }\n",
       "</style>\n",
       "<table border=\"1\" class=\"dataframe\">\n",
       "  <thead>\n",
       "    <tr style=\"text-align: right;\">\n",
       "      <th></th>\n",
       "      <th>estado</th>\n",
       "      <th>ano</th>\n",
       "      <th>mes</th>\n",
       "      <th>DTOBITO</th>\n",
       "      <th>DTNASC</th>\n",
       "      <th>SEXO</th>\n",
       "      <th>RACACOR</th>\n",
       "      <th>ASSISTMED</th>\n",
       "      <th>ESCMAE</th>\n",
       "      <th>ESTCIV</th>\n",
       "      <th>ESC</th>\n",
       "      <th>OCUP</th>\n",
       "      <th>CODMUNRES</th>\n",
       "      <th>CAUSABAS</th>\n",
       "      <th>CAUSABAS_O</th>\n",
       "      <th>LOCOCOR</th>\n",
       "      <th>CIRURGIA</th>\n",
       "    </tr>\n",
       "  </thead>\n",
       "  <tbody>\n",
       "    <tr>\n",
       "      <th>0</th>\n",
       "      <td>AC</td>\n",
       "      <td>2010</td>\n",
       "      <td>1</td>\n",
       "      <td>1/31/2010</td>\n",
       "      <td>11/9/1999</td>\n",
       "      <td>Masculino</td>\n",
       "      <td>Parda</td>\n",
       "      <td>NaN</td>\n",
       "      <td>NaN</td>\n",
       "      <td>Solteiro/a</td>\n",
       "      <td>1 a 3 anos</td>\n",
       "      <td>ESTUDANTE</td>\n",
       "      <td>Tarauacá</td>\n",
       "      <td>X780</td>\n",
       "      <td>X780</td>\n",
       "      <td>Via pública</td>\n",
       "      <td>Não</td>\n",
       "    </tr>\n",
       "    <tr>\n",
       "      <th>1</th>\n",
       "      <td>AC</td>\n",
       "      <td>2010</td>\n",
       "      <td>2</td>\n",
       "      <td>2/7/2010</td>\n",
       "      <td>9/23/1985</td>\n",
       "      <td>Masculino</td>\n",
       "      <td>Parda</td>\n",
       "      <td>NaN</td>\n",
       "      <td>NaN</td>\n",
       "      <td>Solteiro/a</td>\n",
       "      <td>1 a 3 anos</td>\n",
       "      <td>ESTUDANTE</td>\n",
       "      <td>Tarauacá</td>\n",
       "      <td>X780</td>\n",
       "      <td>X780</td>\n",
       "      <td>Hospital</td>\n",
       "      <td>Não</td>\n",
       "    </tr>\n",
       "    <tr>\n",
       "      <th>2</th>\n",
       "      <td>AC</td>\n",
       "      <td>2010</td>\n",
       "      <td>2</td>\n",
       "      <td>2/19/2010</td>\n",
       "      <td>8/6/1995</td>\n",
       "      <td>Masculino</td>\n",
       "      <td>Parda</td>\n",
       "      <td>NaN</td>\n",
       "      <td>NaN</td>\n",
       "      <td>Solteiro/a</td>\n",
       "      <td>1 a 3 anos</td>\n",
       "      <td>ESTUDANTE</td>\n",
       "      <td>Tarauacá</td>\n",
       "      <td>X780</td>\n",
       "      <td>X780</td>\n",
       "      <td>Hospital</td>\n",
       "      <td>Não</td>\n",
       "    </tr>\n",
       "    <tr>\n",
       "      <th>3</th>\n",
       "      <td>AC</td>\n",
       "      <td>2010</td>\n",
       "      <td>4</td>\n",
       "      <td>4/20/2010</td>\n",
       "      <td>12/25/1983</td>\n",
       "      <td>Feminino</td>\n",
       "      <td>Parda</td>\n",
       "      <td>NaN</td>\n",
       "      <td>NaN</td>\n",
       "      <td>Casado/a</td>\n",
       "      <td>1 a 3 anos</td>\n",
       "      <td>DONA DE CASA</td>\n",
       "      <td>Tarauacá</td>\n",
       "      <td>X780</td>\n",
       "      <td>X780</td>\n",
       "      <td>Domicílio</td>\n",
       "      <td>Não</td>\n",
       "    </tr>\n",
       "    <tr>\n",
       "      <th>4</th>\n",
       "      <td>AC</td>\n",
       "      <td>2010</td>\n",
       "      <td>7</td>\n",
       "      <td>7/24/2010</td>\n",
       "      <td>5/13/1982</td>\n",
       "      <td>Masculino</td>\n",
       "      <td>Parda</td>\n",
       "      <td>NaN</td>\n",
       "      <td>NaN</td>\n",
       "      <td>Casado/a</td>\n",
       "      <td>NaN</td>\n",
       "      <td>DONA DE CASA</td>\n",
       "      <td>Tarauacá</td>\n",
       "      <td>X720</td>\n",
       "      <td>X720</td>\n",
       "      <td>Domicílio</td>\n",
       "      <td>Não</td>\n",
       "    </tr>\n",
       "  </tbody>\n",
       "</table>\n",
       "</div>"
      ],
      "text/plain": [
       "  estado   ano  mes    DTOBITO      DTNASC       SEXO RACACOR ASSISTMED  \\\n",
       "0     AC  2010    1  1/31/2010   11/9/1999  Masculino   Parda       NaN   \n",
       "1     AC  2010    2   2/7/2010   9/23/1985  Masculino   Parda       NaN   \n",
       "2     AC  2010    2  2/19/2010    8/6/1995  Masculino   Parda       NaN   \n",
       "3     AC  2010    4  4/20/2010  12/25/1983   Feminino   Parda       NaN   \n",
       "4     AC  2010    7  7/24/2010   5/13/1982  Masculino   Parda       NaN   \n",
       "\n",
       "  ESCMAE      ESTCIV         ESC          OCUP CODMUNRES CAUSABAS CAUSABAS_O  \\\n",
       "0    NaN  Solteiro/a  1 a 3 anos     ESTUDANTE  Tarauacá     X780       X780   \n",
       "1    NaN  Solteiro/a  1 a 3 anos     ESTUDANTE  Tarauacá     X780       X780   \n",
       "2    NaN  Solteiro/a  1 a 3 anos     ESTUDANTE  Tarauacá     X780       X780   \n",
       "3    NaN    Casado/a  1 a 3 anos  DONA DE CASA  Tarauacá     X780       X780   \n",
       "4    NaN    Casado/a         NaN  DONA DE CASA  Tarauacá     X720       X720   \n",
       "\n",
       "       LOCOCOR CIRURGIA  \n",
       "0  Via pública      Não  \n",
       "1     Hospital      Não  \n",
       "2     Hospital      Não  \n",
       "3    Domicílio      Não  \n",
       "4    Domicílio      Não  "
      ]
     },
     "execution_count": 13,
     "metadata": {},
     "output_type": "execute_result"
    }
   ],
   "source": [
    "# Criando um data frame\n",
    "df = pd.read_csv('dados\\suicidios_2010_a_2019.csv', encoding='utf8', dtype={'ESCMAE': 'str'})\n",
    "df.head()"
   ]
  },
  {
   "attachments": {},
   "cell_type": "markdown",
   "metadata": {},
   "source": [
    "## Entendendo o conjunto de dados\n",
    "* estado: Estado de registro;\n",
    "* ano: Ano de registro;\n",
    "* mes: Mês de registro;\n",
    "* DTOBITO: Data do óbito em formato YYYY-MM-DD;\n",
    "* DTNASC: Data de nascimento em formato YYYY-MM-DD;\n",
    "* SEXO: Sexo registrado;\n",
    "* RACACOR: Raça/cor de acordo com a classificação do IBGE;\n",
    "* ASSISTMED: Recebeu assistência médica? (Sim ou não);\n",
    "* ESCMAE: Escolaridade registrada da mãe.\n",
    "* ESTCIV: Estado civil\n",
    "* ESC: Escolaridade (em anos)\n",
    "* OCUP: Ocupação\n",
    "* CODMUNRES: Cidade\n",
    "* CAUSABAS: Causa básica da morte (de acordo com CID)\n",
    "* CAUSABAS_O: Causa básica da morte (de acordo com CID)\n",
    "* LOCOCOR: Local de ocorrência da morte\n",
    "* CIRURGIA: Foi realizada cirurgia? (Sim ou não)\n",
    "\n",
    "\n",
    "Fonte: Datasus\n",
    "autor do conjunto de dados:  \n",
    "Dalton Breno Costa\n",
    "https://reisrgabriel.com dalton.bc96@gmail.com\n"
   ]
  },
  {
   "attachments": {},
   "cell_type": "markdown",
   "metadata": {},
   "source": [
    "## Limpeza e modelagem dos dados"
   ]
  },
  {
   "cell_type": "code",
   "execution_count": 60,
   "metadata": {},
   "outputs": [
    {
     "name": "stdout",
     "output_type": "stream",
     "text": [
      "=================================\n",
      "      Tamanho do DataFrame       \n",
      "=================================\n",
      "Linhas:                  112491\n",
      "Colunas:                 17\n",
      "Total de entradas:       1.91 mi.\n",
      "=================================\n"
     ]
    }
   ],
   "source": [
    "linhas = df.shape[0]\n",
    "colunas = df.shape[1]\n",
    "top = (33*\"=\")\n",
    "tit = (\"Tamanho do DataFrame\")\n",
    "\n",
    "print(top)\n",
    "print(f\"{tit:^33}\")\n",
    "print(top)\n",
    "print(f\"Linhas:                  {linhas}\")\n",
    "print(f\"Colunas:                 {colunas}\")\n",
    "print(f\"Total de entradas:       {linhas*colunas/1000000:.2f} mi.\")\n",
    "print(top)"
   ]
  },
  {
   "attachments": {},
   "cell_type": "markdown",
   "metadata": {},
   "source": [
    "### Como podemos observar acima trata-se de um dataframe grande, com quase 2 milhões de dados, hoje a mesa está cheia! =)"
   ]
  },
  {
   "cell_type": "code",
   "execution_count": 61,
   "metadata": {},
   "outputs": [
    {
     "name": "stdout",
     "output_type": "stream",
     "text": [
      "<class 'pandas.core.frame.DataFrame'>\n",
      "RangeIndex: 112491 entries, 0 to 112490\n",
      "Data columns (total 17 columns):\n",
      " #   Column      Non-Null Count   Dtype \n",
      "---  ------      --------------   ----- \n",
      " 0   estado      112491 non-null  object\n",
      " 1   ano         112491 non-null  int64 \n",
      " 2   mes         112491 non-null  int64 \n",
      " 3   DTOBITO     112491 non-null  object\n",
      " 4   DTNASC      101633 non-null  object\n",
      " 5   SEXO        112469 non-null  object\n",
      " 6   RACACOR     109320 non-null  object\n",
      " 7   ASSISTMED   70687 non-null   object\n",
      " 8   ESCMAE      15 non-null      object\n",
      " 9   ESTCIV      103791 non-null  object\n",
      " 10  ESC         84327 non-null   object\n",
      " 11  OCUP        60274 non-null   object\n",
      " 12  CODMUNRES   112491 non-null  object\n",
      " 13  CAUSABAS    112491 non-null  object\n",
      " 14  CAUSABAS_O  112204 non-null  object\n",
      " 15  LOCOCOR     112031 non-null  object\n",
      " 16  CIRURGIA    8549 non-null    object\n",
      "dtypes: int64(2), object(15)\n",
      "memory usage: 14.6+ MB\n"
     ]
    }
   ],
   "source": [
    "df.info()"
   ]
  },
  {
   "attachments": {},
   "cell_type": "markdown",
   "metadata": {},
   "source": [
    "### As datas estão em um formato errado, mas como vou usar apenas dados qualitativos, não vou corrigir isto agora.  \n",
    "Escolhi para nossa análise, o sexo e estado civil, para verificarmos se existe uma correlação entre estas variáveis e o número de suicídios."
   ]
  },
  {
   "cell_type": "code",
   "execution_count": 79,
   "metadata": {},
   "outputs": [
    {
     "data": {
      "text/plain": [
       "3"
      ]
     },
     "execution_count": 79,
     "metadata": {},
     "output_type": "execute_result"
    }
   ],
   "source": [
    "# Verificando se existem entradas NaN\n",
    "df['SEXO'].isna().sum()"
   ]
  },
  {
   "cell_type": "code",
   "execution_count": 81,
   "metadata": {},
   "outputs": [],
   "source": [
    "# Excluíndo valores NaN\n",
    "df.dropna(subset=['SEXO'], inplace=True)"
   ]
  },
  {
   "cell_type": "code",
   "execution_count": 82,
   "metadata": {},
   "outputs": [
    {
     "data": {
      "text/plain": [
       "0"
      ]
     },
     "execution_count": 82,
     "metadata": {},
     "output_type": "execute_result"
    }
   ],
   "source": [
    "# Verificando se as entradas foram removidas com sucesso\n",
    "df['SEXO'].isna().sum()"
   ]
  },
  {
   "cell_type": "code",
   "execution_count": 66,
   "metadata": {},
   "outputs": [
    {
     "data": {
      "text/plain": [
       "8700"
      ]
     },
     "execution_count": 66,
     "metadata": {},
     "output_type": "execute_result"
    }
   ],
   "source": [
    "# Verificando se existem entradas NaN\n",
    "df['ESTCIV'].isna().sum()"
   ]
  },
  {
   "cell_type": "code",
   "execution_count": 75,
   "metadata": {},
   "outputs": [],
   "source": [
    "# Excluíndo valores NaN\n",
    "df.dropna(subset=['ESTCIV'], inplace=True)"
   ]
  },
  {
   "cell_type": "code",
   "execution_count": 85,
   "metadata": {},
   "outputs": [
    {
     "data": {
      "text/plain": [
       "0"
      ]
     },
     "execution_count": 85,
     "metadata": {},
     "output_type": "execute_result"
    }
   ],
   "source": [
    "# Verificando se as entradas foram removidas com sucesso\n",
    "df['ESTCIV'].isna().sum()"
   ]
  },
  {
   "cell_type": "code",
   "execution_count": 74,
   "metadata": {},
   "outputs": [
    {
     "data": {
      "text/plain": [
       "(103791, 17)"
      ]
     },
     "execution_count": 74,
     "metadata": {},
     "output_type": "execute_result"
    }
   ],
   "source": [
    "df.shape"
   ]
  },
  {
   "attachments": {},
   "cell_type": "markdown",
   "metadata": {},
   "source": [
    "### Uma vez excluidos os dados faltantes vamos criar nossa `Tabela de contingência` ou em inglês `Cross tab`"
   ]
  },
  {
   "cell_type": "code",
   "execution_count": 91,
   "metadata": {},
   "outputs": [
    {
     "data": {
      "text/html": [
       "<div>\n",
       "<style scoped>\n",
       "    .dataframe tbody tr th:only-of-type {\n",
       "        vertical-align: middle;\n",
       "    }\n",
       "\n",
       "    .dataframe tbody tr th {\n",
       "        vertical-align: top;\n",
       "    }\n",
       "\n",
       "    .dataframe thead th {\n",
       "        text-align: right;\n",
       "    }\n",
       "</style>\n",
       "<table border=\"1\" class=\"dataframe\">\n",
       "  <thead>\n",
       "    <tr style=\"text-align: right;\">\n",
       "      <th>ESTCIV</th>\n",
       "      <th>Casado/a</th>\n",
       "      <th>Separado/a judicialmente</th>\n",
       "      <th>Solteiro/a</th>\n",
       "      <th>União consensual</th>\n",
       "      <th>Viúvo/a</th>\n",
       "    </tr>\n",
       "    <tr>\n",
       "      <th>SEXO</th>\n",
       "      <th></th>\n",
       "      <th></th>\n",
       "      <th></th>\n",
       "      <th></th>\n",
       "      <th></th>\n",
       "    </tr>\n",
       "  </thead>\n",
       "  <tbody>\n",
       "    <tr>\n",
       "      <th>Feminino</th>\n",
       "      <td>0.061231</td>\n",
       "      <td>0.020966</td>\n",
       "      <td>0.107064</td>\n",
       "      <td>0.010936</td>\n",
       "      <td>0.016013</td>\n",
       "    </tr>\n",
       "    <tr>\n",
       "      <th>Masculino</th>\n",
       "      <td>0.227830</td>\n",
       "      <td>0.053908</td>\n",
       "      <td>0.437517</td>\n",
       "      <td>0.039928</td>\n",
       "      <td>0.024608</td>\n",
       "    </tr>\n",
       "  </tbody>\n",
       "</table>\n",
       "</div>"
      ],
      "text/plain": [
       "ESTCIV     Casado/a  Separado/a judicialmente  Solteiro/a  União consensual  \\\n",
       "SEXO                                                                          \n",
       "Feminino   0.061231                  0.020966    0.107064          0.010936   \n",
       "Masculino  0.227830                  0.053908    0.437517          0.039928   \n",
       "\n",
       "ESTCIV      Viúvo/a  \n",
       "SEXO                 \n",
       "Feminino   0.016013  \n",
       "Masculino  0.024608  "
      ]
     },
     "execution_count": 91,
     "metadata": {},
     "output_type": "execute_result"
    }
   ],
   "source": [
    "tab = pd.crosstab(df['SEXO'], df['ESTCIV'], normalize=True)\n",
    "tab"
   ]
  },
  {
   "attachments": {},
   "cell_type": "markdown",
   "metadata": {},
   "source": [
    "### A seguir plotarei gráfico de colunas:"
   ]
  },
  {
   "cell_type": "code",
   "execution_count": 107,
   "metadata": {},
   "outputs": [
    {
     "data": {
      "text/plain": [
       "<AxesSubplot:title={'center':'Suícidios no Brasil 2010~2019'}, xlabel='SEXO'>"
      ]
     },
     "execution_count": 107,
     "metadata": {},
     "output_type": "execute_result"
    },
    {
     "data": {
      "image/png": "[encoded data removed]",
      "text/plain": [
       "<Figure size 1296x720 with 1 Axes>"
      ]
     },
     "metadata": {
      "needs_background": "light"
     },
     "output_type": "display_data"
    }
   ],
   "source": [
    "# Plotando gráfico de colunas lado a lado\n",
    "tab.plot.bar(figsize=(18,10), title='Suícidios no Brasil 2010~2019')"
   ]
  },
  {
   "cell_type": "code",
   "execution_count": 108,
   "metadata": {},
   "outputs": [
    {
     "data": {
      "text/plain": [
       "<AxesSubplot:title={'center':'Suícidios no Brasil 2010~2019'}, xlabel='SEXO'>"
      ]
     },
     "execution_count": 108,
     "metadata": {},
     "output_type": "execute_result"
    },
    {
     "data": {
      "image/png": "[encoded data removed]",
      "text/plain": [
       "<Figure size 1296x720 with 1 Axes>"
      ]
     },
     "metadata": {
      "needs_background": "light"
     },
     "output_type": "display_data"
    }
   ],
   "source": [
    "# Plotando gráfico de colunas empilhadas\n",
    "tab.plot.bar(figsize=(18,10), stacked=True, title='Suícidios no Brasil 2010~2019')"
   ]
  }
 ],
 "metadata": {
  "kernelspec": {
   "display_name": "Python 3",
   "language": "python",
   "name": "python3"
  },
  "language_info": {
   "codemirror_mode": {
    "name": "ipython",
    "version": 3
   },
   "file_extension": ".py",
   "mimetype": "text/x-python",
   "name": "python",
   "nbconvert_exporter": "python",
   "pygments_lexer": "ipython3",
   "version": "3.10.4"
  },
  "orig_nbformat": 4,
  "vscode": {
   "interpreter": {
    "hash": "5d11380547bba1e6c4b0ab7b7614350493a6d4caf256d9be4e363829d8f5c452"
   }
  }
 },
 "nbformat": 4,
 "nbformat_minor": 2
}
